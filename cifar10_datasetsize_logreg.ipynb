{
 "cells": [
  {
   "cell_type": "code",
   "execution_count": 1,
   "id": "4619b589-aed6-47a2-ab8d-c9b9320f367d",
   "metadata": {},
   "outputs": [
    {
     "data": {
      "text/plain": [
       "'/home/tmuehlenstaedt/ds_experiments/ds_experiments/training_dataset_size_per_class'"
      ]
     },
     "execution_count": 1,
     "metadata": {},
     "output_type": "execute_result"
    }
   ],
   "source": [
    "import pandas as pd\n",
    "pd.set_option(\"display.max_columns\", None)\n",
    "from IPython.display import HTML\n",
    "from IPython.display import display\n",
    "import numpy as np\n",
    "import warnings\n",
    "from pandas.core.common import SettingWithCopyWarning\n",
    "warnings.simplefilter(action=\"ignore\", category=SettingWithCopyWarning)\n",
    "warnings.simplefilter(action=\"ignore\", category=FutureWarning)\n",
    "import matplotlib.pyplot as plt\n",
    "import seaborn as sns\n",
    "import os\n",
    "from pprint import pprint\n",
    "\n",
    "from scipy.optimize import curve_fit\n",
    "\n",
    "import torchvision.transforms as transforms\n",
    "from sklearn import preprocessing\n",
    "from sklearn import metrics\n",
    "import statsmodels.api as sm\n",
    "from scipy import stats\n",
    "from statsmodels.formula.api import logit\n",
    "import statsmodels.formula.api as smf\n",
    "os.chdir(\"..\")\n",
    "os.getcwd()"
   ]
  },
  {
   "attachments": {},
   "cell_type": "markdown",
   "id": "f9306df2",
   "metadata": {},
   "source": [
    "### Purpose of this notebook: \n",
    "\n",
    "# PoC for a multidimensional power law approach for training dataset size prediction.\n",
    "\n",
    "* Using Cifar10 data\n",
    "* and a standard cnn architecture\n",
    "* Varying the number of images per class with different number of overall training dataset sizes\n",
    "* Collect accuracies for each experiment\n",
    "* Fit a power law with a linear combination as input.\n",
    "\n",
    "# statistical models considered:\n",
    "\n",
    "* ### logistic regression: \n",
    "    * Just using last epoch\n",
    "    * Using all epochs\n",
    "    * ref: Just using overall training dataset size with last epoch\n"
   ]
  },
  {
   "cell_type": "markdown",
   "id": "c8de233e",
   "metadata": {},
   "source": [
    "# Data prep\n",
    "\n",
    "* reading in csv data\n",
    "* filter to only keep epochs $>10$\n",
    "* normalize"
   ]
  },
  {
   "attachments": {},
   "cell_type": "markdown",
   "id": "32ee6f57",
   "metadata": {},
   "source": [
    "Please run `cifar10_datasetsize_multidim.py` before running this notebook.\n"
   ]
  },
  {
   "cell_type": "code",
   "execution_count": 2,
   "id": "2e40cca8",
   "metadata": {},
   "outputs": [
    {
     "name": "stdout",
     "output_type": "stream",
     "text": [
      "(10800, 13)\n"
     ]
    },
    {
     "data": {
      "text/html": [
       "<div>\n",
       "<style scoped>\n",
       "    .dataframe tbody tr th:only-of-type {\n",
       "        vertical-align: middle;\n",
       "    }\n",
       "\n",
       "    .dataframe tbody tr th {\n",
       "        vertical-align: top;\n",
       "    }\n",
       "\n",
       "    .dataframe thead th {\n",
       "        text-align: right;\n",
       "    }\n",
       "</style>\n",
       "<table border=\"1\" class=\"dataframe\">\n",
       "  <thead>\n",
       "    <tr style=\"text-align: right;\">\n",
       "      <th></th>\n",
       "      <th>accs</th>\n",
       "      <th>training_times</th>\n",
       "      <th>plane</th>\n",
       "      <th>car</th>\n",
       "      <th>bird</th>\n",
       "      <th>cat</th>\n",
       "      <th>deer</th>\n",
       "      <th>dog</th>\n",
       "      <th>frog</th>\n",
       "      <th>horse</th>\n",
       "      <th>ship</th>\n",
       "      <th>truck</th>\n",
       "      <th>epochs_trained</th>\n",
       "    </tr>\n",
       "  </thead>\n",
       "  <tbody>\n",
       "    <tr>\n",
       "      <th>0</th>\n",
       "      <td>0.1006</td>\n",
       "      <td>0.868126</td>\n",
       "      <td>145.0</td>\n",
       "      <td>31.0</td>\n",
       "      <td>97.0</td>\n",
       "      <td>496.0</td>\n",
       "      <td>1096.0</td>\n",
       "      <td>307.0</td>\n",
       "      <td>2382.0</td>\n",
       "      <td>9.0</td>\n",
       "      <td>373.0</td>\n",
       "      <td>63.0</td>\n",
       "      <td>0</td>\n",
       "    </tr>\n",
       "    <tr>\n",
       "      <th>1</th>\n",
       "      <td>0.1314</td>\n",
       "      <td>4.390345</td>\n",
       "      <td>145.0</td>\n",
       "      <td>31.0</td>\n",
       "      <td>97.0</td>\n",
       "      <td>496.0</td>\n",
       "      <td>1096.0</td>\n",
       "      <td>307.0</td>\n",
       "      <td>2382.0</td>\n",
       "      <td>9.0</td>\n",
       "      <td>373.0</td>\n",
       "      <td>63.0</td>\n",
       "      <td>5</td>\n",
       "    </tr>\n",
       "  </tbody>\n",
       "</table>\n",
       "</div>"
      ],
      "text/plain": [
       "     accs  training_times  plane   car  bird    cat    deer    dog    frog  \\\n",
       "0  0.1006        0.868126  145.0  31.0  97.0  496.0  1096.0  307.0  2382.0   \n",
       "1  0.1314        4.390345  145.0  31.0  97.0  496.0  1096.0  307.0  2382.0   \n",
       "\n",
       "   horse   ship  truck  epochs_trained  \n",
       "0    9.0  373.0   63.0               0  \n",
       "1    9.0  373.0   63.0               5  "
      ]
     },
     "execution_count": 2,
     "metadata": {},
     "output_type": "execute_result"
    }
   ],
   "source": [
    "#results = pd.read_csv(\"Cifar10_acc_subsets_thomas_batch_size_512_mixture_design_20230628.csv\")\n",
    "results = pd.read_csv(\"csv_files/Cifar10_acc_subsets_thomas_batch_size_512_mixture_design_maximin_subsetsize_45000_20230705.csv\")\n",
    "results_val = pd.read_csv(\"csv_files/Cifar10_acc_subsets_thomas_batch_size_512_mixture_design_maximin_subsetsize_45000_val_20230708.csv\")\n",
    "print(results.shape)\n",
    "results.head(2)"
   ]
  },
  {
   "cell_type": "code",
   "execution_count": 3,
   "id": "127bb8d0",
   "metadata": {},
   "outputs": [],
   "source": [
    "# Filter data to start with 10 epochs:\n",
    "# anything below a certain number of epochs seems to be very flaky.\n",
    "mask = results.epochs_trained >= 10\n",
    "results = results[mask].reset_index(drop=True)\n",
    "mask = results_val.epochs_trained >= 10\n",
    "results_val = results_val[mask].reset_index(drop=True)\n",
    "\n"
   ]
  },
  {
   "cell_type": "code",
   "execution_count": 4,
   "id": "037f76e2",
   "metadata": {},
   "outputs": [
    {
     "name": "stdout",
     "output_type": "stream",
     "text": [
      "['plane', 'car', 'bird', 'cat', 'deer', 'dog', 'frog', 'horse', 'ship', 'truck']\n"
     ]
    },
    {
     "data": {
      "text/html": [
       "<div>\n",
       "<style scoped>\n",
       "    .dataframe tbody tr th:only-of-type {\n",
       "        vertical-align: middle;\n",
       "    }\n",
       "\n",
       "    .dataframe tbody tr th {\n",
       "        vertical-align: top;\n",
       "    }\n",
       "\n",
       "    .dataframe thead th {\n",
       "        text-align: right;\n",
       "    }\n",
       "</style>\n",
       "<table border=\"1\" class=\"dataframe\">\n",
       "  <thead>\n",
       "    <tr style=\"text-align: right;\">\n",
       "      <th></th>\n",
       "      <th>accs</th>\n",
       "      <th>training_times</th>\n",
       "      <th>plane</th>\n",
       "      <th>car</th>\n",
       "      <th>bird</th>\n",
       "      <th>cat</th>\n",
       "      <th>deer</th>\n",
       "      <th>dog</th>\n",
       "      <th>frog</th>\n",
       "      <th>horse</th>\n",
       "      <th>ship</th>\n",
       "      <th>truck</th>\n",
       "      <th>epochs_trained</th>\n",
       "      <th>total_training_size</th>\n",
       "    </tr>\n",
       "  </thead>\n",
       "  <tbody>\n",
       "    <tr>\n",
       "      <th>0</th>\n",
       "      <td>0.1787</td>\n",
       "      <td>4.370253</td>\n",
       "      <td>145.0</td>\n",
       "      <td>31.0</td>\n",
       "      <td>97.0</td>\n",
       "      <td>496.0</td>\n",
       "      <td>1096.0</td>\n",
       "      <td>307.0</td>\n",
       "      <td>2382.0</td>\n",
       "      <td>9.0</td>\n",
       "      <td>373.0</td>\n",
       "      <td>63.0</td>\n",
       "      <td>10</td>\n",
       "      <td>4999.0</td>\n",
       "    </tr>\n",
       "    <tr>\n",
       "      <th>1</th>\n",
       "      <td>0.2051</td>\n",
       "      <td>4.355270</td>\n",
       "      <td>145.0</td>\n",
       "      <td>31.0</td>\n",
       "      <td>97.0</td>\n",
       "      <td>496.0</td>\n",
       "      <td>1096.0</td>\n",
       "      <td>307.0</td>\n",
       "      <td>2382.0</td>\n",
       "      <td>9.0</td>\n",
       "      <td>373.0</td>\n",
       "      <td>63.0</td>\n",
       "      <td>15</td>\n",
       "      <td>4999.0</td>\n",
       "    </tr>\n",
       "    <tr>\n",
       "      <th>2</th>\n",
       "      <td>0.2030</td>\n",
       "      <td>4.387133</td>\n",
       "      <td>145.0</td>\n",
       "      <td>31.0</td>\n",
       "      <td>97.0</td>\n",
       "      <td>496.0</td>\n",
       "      <td>1096.0</td>\n",
       "      <td>307.0</td>\n",
       "      <td>2382.0</td>\n",
       "      <td>9.0</td>\n",
       "      <td>373.0</td>\n",
       "      <td>63.0</td>\n",
       "      <td>20</td>\n",
       "      <td>4999.0</td>\n",
       "    </tr>\n",
       "    <tr>\n",
       "      <th>3</th>\n",
       "      <td>0.2506</td>\n",
       "      <td>4.299767</td>\n",
       "      <td>145.0</td>\n",
       "      <td>31.0</td>\n",
       "      <td>97.0</td>\n",
       "      <td>496.0</td>\n",
       "      <td>1096.0</td>\n",
       "      <td>307.0</td>\n",
       "      <td>2382.0</td>\n",
       "      <td>9.0</td>\n",
       "      <td>373.0</td>\n",
       "      <td>63.0</td>\n",
       "      <td>25</td>\n",
       "      <td>4999.0</td>\n",
       "    </tr>\n",
       "  </tbody>\n",
       "</table>\n",
       "</div>"
      ],
      "text/plain": [
       "     accs  training_times  plane   car  bird    cat    deer    dog    frog  \\\n",
       "0  0.1787        4.370253  145.0  31.0  97.0  496.0  1096.0  307.0  2382.0   \n",
       "1  0.2051        4.355270  145.0  31.0  97.0  496.0  1096.0  307.0  2382.0   \n",
       "2  0.2030        4.387133  145.0  31.0  97.0  496.0  1096.0  307.0  2382.0   \n",
       "3  0.2506        4.299767  145.0  31.0  97.0  496.0  1096.0  307.0  2382.0   \n",
       "\n",
       "   horse   ship  truck  epochs_trained  total_training_size  \n",
       "0    9.0  373.0   63.0              10               4999.0  \n",
       "1    9.0  373.0   63.0              15               4999.0  \n",
       "2    9.0  373.0   63.0              20               4999.0  \n",
       "3    9.0  373.0   63.0              25               4999.0  "
      ]
     },
     "execution_count": 4,
     "metadata": {},
     "output_type": "execute_result"
    }
   ],
   "source": [
    "classes = results.columns.tolist()[2:12]\n",
    "print(classes)\n",
    "results[\"total_training_size\"] = results[classes].sum(axis=1)\n",
    "results_val[\"total_training_size\"] = results_val[classes].sum(axis=1)\n",
    "results.head(4)"
   ]
  },
  {
   "cell_type": "code",
   "execution_count": 5,
   "id": "24becc1b",
   "metadata": {},
   "outputs": [
    {
     "data": {
      "text/html": [
       "<div>\n",
       "<style scoped>\n",
       "    .dataframe tbody tr th:only-of-type {\n",
       "        vertical-align: middle;\n",
       "    }\n",
       "\n",
       "    .dataframe tbody tr th {\n",
       "        vertical-align: top;\n",
       "    }\n",
       "\n",
       "    .dataframe thead th {\n",
       "        text-align: right;\n",
       "    }\n",
       "</style>\n",
       "<table border=\"1\" class=\"dataframe\">\n",
       "  <thead>\n",
       "    <tr style=\"text-align: right;\">\n",
       "      <th></th>\n",
       "      <th>accs</th>\n",
       "      <th>training_times</th>\n",
       "      <th>plane</th>\n",
       "      <th>car</th>\n",
       "      <th>bird</th>\n",
       "      <th>cat</th>\n",
       "      <th>deer</th>\n",
       "      <th>dog</th>\n",
       "      <th>frog</th>\n",
       "      <th>horse</th>\n",
       "      <th>ship</th>\n",
       "      <th>truck</th>\n",
       "      <th>epochs_trained</th>\n",
       "      <th>total_training_size</th>\n",
       "    </tr>\n",
       "  </thead>\n",
       "  <tbody>\n",
       "    <tr>\n",
       "      <th>0</th>\n",
       "      <td>0.1787</td>\n",
       "      <td>0.004281</td>\n",
       "      <td>0.026474</td>\n",
       "      <td>0.005604</td>\n",
       "      <td>0.017044</td>\n",
       "      <td>0.098679</td>\n",
       "      <td>0.217723</td>\n",
       "      <td>0.060096</td>\n",
       "      <td>0.474814</td>\n",
       "      <td>0.001601</td>\n",
       "      <td>0.074059</td>\n",
       "      <td>0.012402</td>\n",
       "      <td>0.000000</td>\n",
       "      <td>0.000025</td>\n",
       "    </tr>\n",
       "    <tr>\n",
       "      <th>1</th>\n",
       "      <td>0.2051</td>\n",
       "      <td>0.003710</td>\n",
       "      <td>0.026474</td>\n",
       "      <td>0.005604</td>\n",
       "      <td>0.017044</td>\n",
       "      <td>0.098679</td>\n",
       "      <td>0.217723</td>\n",
       "      <td>0.060096</td>\n",
       "      <td>0.474814</td>\n",
       "      <td>0.001601</td>\n",
       "      <td>0.074059</td>\n",
       "      <td>0.012402</td>\n",
       "      <td>0.027027</td>\n",
       "      <td>0.000025</td>\n",
       "    </tr>\n",
       "  </tbody>\n",
       "</table>\n",
       "</div>"
      ],
      "text/plain": [
       "     accs  training_times     plane       car      bird       cat      deer  \\\n",
       "0  0.1787        0.004281  0.026474  0.005604  0.017044  0.098679  0.217723   \n",
       "1  0.2051        0.003710  0.026474  0.005604  0.017044  0.098679  0.217723   \n",
       "\n",
       "        dog      frog     horse      ship     truck  epochs_trained  \\\n",
       "0  0.060096  0.474814  0.001601  0.074059  0.012402        0.000000   \n",
       "1  0.060096  0.474814  0.001601  0.074059  0.012402        0.027027   \n",
       "\n",
       "   total_training_size  \n",
       "0             0.000025  \n",
       "1             0.000025  "
      ]
     },
     "execution_count": 5,
     "metadata": {},
     "output_type": "execute_result"
    }
   ],
   "source": [
    "### normalize results:\n",
    "scaler = preprocessing.MinMaxScaler()\n",
    "scaler.fit(X = results.iloc[:, 1:])\n",
    "results_scaled = pd.DataFrame(scaler.transform(results.iloc[:, 1:]))\n",
    "results_scaled.columns = results.iloc[:, 1:].columns\n",
    "results = pd.concat([results[\"accs\"], results_scaled], axis=1)\n",
    "results.head(2)"
   ]
  },
  {
   "cell_type": "code",
   "execution_count": 6,
   "id": "7e78c193",
   "metadata": {},
   "outputs": [
    {
     "data": {
      "text/html": [
       "<div>\n",
       "<style scoped>\n",
       "    .dataframe tbody tr th:only-of-type {\n",
       "        vertical-align: middle;\n",
       "    }\n",
       "\n",
       "    .dataframe tbody tr th {\n",
       "        vertical-align: top;\n",
       "    }\n",
       "\n",
       "    .dataframe thead th {\n",
       "        text-align: right;\n",
       "    }\n",
       "</style>\n",
       "<table border=\"1\" class=\"dataframe\">\n",
       "  <thead>\n",
       "    <tr style=\"text-align: right;\">\n",
       "      <th></th>\n",
       "      <th>accs</th>\n",
       "      <th>training_times</th>\n",
       "      <th>plane</th>\n",
       "      <th>car</th>\n",
       "      <th>bird</th>\n",
       "      <th>cat</th>\n",
       "      <th>deer</th>\n",
       "      <th>dog</th>\n",
       "      <th>frog</th>\n",
       "      <th>horse</th>\n",
       "      <th>ship</th>\n",
       "      <th>truck</th>\n",
       "      <th>epochs_trained</th>\n",
       "      <th>total_training_size</th>\n",
       "    </tr>\n",
       "  </thead>\n",
       "  <tbody>\n",
       "    <tr>\n",
       "      <th>0</th>\n",
       "      <td>0.2633</td>\n",
       "      <td>0.005252</td>\n",
       "      <td>0.138187</td>\n",
       "      <td>0.041833</td>\n",
       "      <td>0.040706</td>\n",
       "      <td>0.005404</td>\n",
       "      <td>0.15016</td>\n",
       "      <td>0.019832</td>\n",
       "      <td>0.395143</td>\n",
       "      <td>0.038223</td>\n",
       "      <td>0.151521</td>\n",
       "      <td>0.008002</td>\n",
       "      <td>0.000000</td>\n",
       "      <td>0.0001</td>\n",
       "    </tr>\n",
       "    <tr>\n",
       "      <th>1</th>\n",
       "      <td>0.2866</td>\n",
       "      <td>0.009001</td>\n",
       "      <td>0.138187</td>\n",
       "      <td>0.041833</td>\n",
       "      <td>0.040706</td>\n",
       "      <td>0.005404</td>\n",
       "      <td>0.15016</td>\n",
       "      <td>0.019832</td>\n",
       "      <td>0.395143</td>\n",
       "      <td>0.038223</td>\n",
       "      <td>0.151521</td>\n",
       "      <td>0.008002</td>\n",
       "      <td>0.027027</td>\n",
       "      <td>0.0001</td>\n",
       "    </tr>\n",
       "  </tbody>\n",
       "</table>\n",
       "</div>"
      ],
      "text/plain": [
       "     accs  training_times     plane       car      bird       cat     deer  \\\n",
       "0  0.2633        0.005252  0.138187  0.041833  0.040706  0.005404  0.15016   \n",
       "1  0.2866        0.009001  0.138187  0.041833  0.040706  0.005404  0.15016   \n",
       "\n",
       "        dog      frog     horse      ship     truck  epochs_trained  \\\n",
       "0  0.019832  0.395143  0.038223  0.151521  0.008002        0.000000   \n",
       "1  0.019832  0.395143  0.038223  0.151521  0.008002        0.027027   \n",
       "\n",
       "   total_training_size  \n",
       "0               0.0001  \n",
       "1               0.0001  "
      ]
     },
     "execution_count": 6,
     "metadata": {},
     "output_type": "execute_result"
    }
   ],
   "source": [
    "# using the same scaler for train and val:\n",
    "results_scaled_val = pd.DataFrame(scaler.transform(results_val.iloc[:, 1:]))\n",
    "results_scaled_val.columns = results_val.iloc[:, 1:].columns\n",
    "results_val = pd.concat([results_val[\"accs\"], results_scaled_val], axis=1)\n",
    "results_val.head(2)"
   ]
  },
  {
   "cell_type": "code",
   "execution_count": 7,
   "id": "12f10cc7",
   "metadata": {},
   "outputs": [
    {
     "data": {
      "text/plain": [
       "(11, 10260)"
      ]
     },
     "execution_count": 7,
     "metadata": {},
     "output_type": "execute_result"
    }
   ],
   "source": [
    "# prep data for using class counts:\n",
    "xdata = np.transpose(results.to_numpy()[:, 2:-1])\n",
    "y = results.to_numpy()[:, 0]\n",
    "xdata_val = np.transpose(results_val.to_numpy()[:, 2:-1])\n",
    "y_val = results_val.to_numpy()[:, 0]\n",
    "xdata.shape"
   ]
  },
  {
   "cell_type": "code",
   "execution_count": 8,
   "id": "179dfba6",
   "metadata": {},
   "outputs": [],
   "source": [
    "# data for last_epoch_training:\n",
    "mask = results.epochs_trained == 1\n",
    "results_last_epoch = results[mask].reset_index(drop=True)\n",
    "xdata_last_epoch = np.transpose(results_last_epoch.to_numpy()[:, 2:-2])\n",
    "y_last_epoch = results_last_epoch.to_numpy()[:, 0]\n",
    "\n",
    "mask = results_val.epochs_trained == 1\n",
    "results_val_last_epoch = results_val[mask].reset_index(drop=True)\n",
    "xdata_val_last_epoch = np.transpose(results_val_last_epoch.to_numpy()[:, 2:-2])\n",
    "y_val_last_epoch = results_val_last_epoch.to_numpy()[:, 0]"
   ]
  },
  {
   "cell_type": "code",
   "execution_count": 9,
   "id": "3a9a3247",
   "metadata": {},
   "outputs": [
    {
     "data": {
      "text/plain": [
       "(2, 10260)"
      ]
     },
     "execution_count": 9,
     "metadata": {},
     "output_type": "execute_result"
    }
   ],
   "source": [
    "# data for total_n and epoch only:\n",
    "xdata_total_n_epoch = np.transpose(results.to_numpy()[:, -2:])\n",
    "xdata_val_total_n_epoch = np.transpose(results_val.to_numpy()[:, -2:])\n",
    "xdata_total_n_epoch.shape"
   ]
  },
  {
   "cell_type": "code",
   "execution_count": 10,
   "id": "81e433d3",
   "metadata": {},
   "outputs": [
    {
     "data": {
      "text/plain": [
       "(1, 270)"
      ]
     },
     "execution_count": 10,
     "metadata": {},
     "output_type": "execute_result"
    }
   ],
   "source": [
    "# data for last epoch, total_n only:\n",
    "xdata_last_epoch_total_n = np.transpose(results_last_epoch.to_numpy()[:, -1:])\n",
    "xdata_val_last_epoch_total_n = np.transpose(results_val_last_epoch.to_numpy()[:, -1:])\n",
    "xdata_last_epoch_total_n.shape"
   ]
  },
  {
   "cell_type": "code",
   "execution_count": 11,
   "id": "64c56f8a",
   "metadata": {},
   "outputs": [
    {
     "data": {
      "text/html": [
       "<div>\n",
       "<style scoped>\n",
       "    .dataframe tbody tr th:only-of-type {\n",
       "        vertical-align: middle;\n",
       "    }\n",
       "\n",
       "    .dataframe tbody tr th {\n",
       "        vertical-align: top;\n",
       "    }\n",
       "\n",
       "    .dataframe thead th {\n",
       "        text-align: right;\n",
       "    }\n",
       "</style>\n",
       "<table border=\"1\" class=\"dataframe\">\n",
       "  <thead>\n",
       "    <tr style=\"text-align: right;\">\n",
       "      <th></th>\n",
       "      <th>accs</th>\n",
       "      <th>training_times</th>\n",
       "      <th>plane</th>\n",
       "      <th>car</th>\n",
       "      <th>bird</th>\n",
       "      <th>cat</th>\n",
       "      <th>deer</th>\n",
       "      <th>dog</th>\n",
       "      <th>frog</th>\n",
       "      <th>horse</th>\n",
       "      <th>ship</th>\n",
       "      <th>truck</th>\n",
       "      <th>epochs_trained</th>\n",
       "      <th>total_training_size</th>\n",
       "    </tr>\n",
       "  </thead>\n",
       "  <tbody>\n",
       "    <tr>\n",
       "      <th>0</th>\n",
       "      <td>0.1787</td>\n",
       "      <td>0.004281</td>\n",
       "      <td>0.026474</td>\n",
       "      <td>0.005604</td>\n",
       "      <td>0.017044</td>\n",
       "      <td>0.098679</td>\n",
       "      <td>0.217723</td>\n",
       "      <td>0.060096</td>\n",
       "      <td>0.474814</td>\n",
       "      <td>0.001601</td>\n",
       "      <td>0.074059</td>\n",
       "      <td>0.012402</td>\n",
       "      <td>0.000000</td>\n",
       "      <td>0.000025</td>\n",
       "    </tr>\n",
       "    <tr>\n",
       "      <th>1</th>\n",
       "      <td>0.2051</td>\n",
       "      <td>0.003710</td>\n",
       "      <td>0.026474</td>\n",
       "      <td>0.005604</td>\n",
       "      <td>0.017044</td>\n",
       "      <td>0.098679</td>\n",
       "      <td>0.217723</td>\n",
       "      <td>0.060096</td>\n",
       "      <td>0.474814</td>\n",
       "      <td>0.001601</td>\n",
       "      <td>0.074059</td>\n",
       "      <td>0.012402</td>\n",
       "      <td>0.027027</td>\n",
       "      <td>0.000025</td>\n",
       "    </tr>\n",
       "  </tbody>\n",
       "</table>\n",
       "</div>"
      ],
      "text/plain": [
       "     accs  training_times     plane       car      bird       cat      deer  \\\n",
       "0  0.1787        0.004281  0.026474  0.005604  0.017044  0.098679  0.217723   \n",
       "1  0.2051        0.003710  0.026474  0.005604  0.017044  0.098679  0.217723   \n",
       "\n",
       "        dog      frog     horse      ship     truck  epochs_trained  \\\n",
       "0  0.060096  0.474814  0.001601  0.074059  0.012402        0.000000   \n",
       "1  0.060096  0.474814  0.001601  0.074059  0.012402        0.027027   \n",
       "\n",
       "   total_training_size  \n",
       "0             0.000025  \n",
       "1             0.000025  "
      ]
     },
     "execution_count": 11,
     "metadata": {},
     "output_type": "execute_result"
    }
   ],
   "source": [
    "results.head(2)"
   ]
  },
  {
   "cell_type": "markdown",
   "id": "151132e9",
   "metadata": {},
   "source": [
    "# logreg - full option"
   ]
  },
  {
   "attachments": {},
   "cell_type": "markdown",
   "id": "21f99b1a",
   "metadata": {},
   "source": [
    "### Full option: \n",
    "\n",
    "* Fit a power law model, having the count of each level as input ... \n",
    "* ... and the number of epochs as an input as well."
   ]
  },
  {
   "cell_type": "code",
   "execution_count": 12,
   "id": "af89361c",
   "metadata": {},
   "outputs": [
    {
     "data": {
      "text/plain": [
       "'accs ~ (plane + car + bird + cat + deer + dog + frog + horse + ship + truck + epochs_trained) ** 2'"
      ]
     },
     "execution_count": 12,
     "metadata": {},
     "output_type": "execute_result"
    }
   ],
   "source": [
    "formula = \"accs ~ plane + car + bird + cat + deer + dog + frog + horse + ship + truck + epochs_trained\"\n",
    "formula = \"accs ~ plane + car + bird + cat + deer + dog + frog + horse + ship + truck + epochs_trained + np.power(epochs_trained, 2)\"\n",
    "formula = \"accs ~ plane + car + bird + cat + deer + dog + frog + horse + ship + truck + epochs_trained + np.power(epochs_trained, 2) + I(plane + car + bird + cat + deer + dog + frog + horse + ship + truck) : epochs_trained\"\n",
    "formula = \"accs ~ (plane + car + bird + cat + deer + dog + frog + horse + ship + truck + epochs_trained) ** 2\"\n",
    "formula\n"
   ]
  },
  {
   "cell_type": "code",
   "execution_count": 13,
   "id": "401bdef8",
   "metadata": {},
   "outputs": [
    {
     "name": "stdout",
     "output_type": "stream",
     "text": [
      "                 Generalized Linear Model Regression Results                  \n",
      "==============================================================================\n",
      "Dep. Variable:                   accs   No. Observations:                10260\n",
      "Model:                            GLM   Df Residuals:                    10193\n",
      "Model Family:                Binomial   Df Model:                           66\n",
      "Link Function:                  Logit   Scale:                          1.0000\n",
      "Method:                          IRLS   Log-Likelihood:                -4278.0\n",
      "Date:                Mon, 17 Jul 2023   Deviance:                       100.24\n",
      "Time:                        23:44:34   Pearson chi2:                     100.\n",
      "No. Iterations:                     4   Pseudo R-squ. (CS):            0.07548\n",
      "Covariance Type:            nonrobust                                         \n",
      "========================================================================================\n",
      "                           coef    std err          z      P>|z|      [0.025      0.975]\n",
      "----------------------------------------------------------------------------------------\n",
      "Intercept               -1.0062      0.111     -9.081      0.000      -1.223      -0.789\n",
      "plane                    0.5296      0.227      2.332      0.020       0.084       0.975\n",
      "car                      0.2495      0.206      1.214      0.225      -0.153       0.652\n",
      "bird                     0.2874      0.228      1.261      0.207      -0.159       0.734\n",
      "cat                      0.1040      0.194      0.537      0.591      -0.276       0.484\n",
      "deer                     0.2319      0.209      1.110      0.267      -0.178       0.642\n",
      "dog                      0.4806      0.227      2.120      0.034       0.036       0.925\n",
      "frog                     0.2936      0.214      1.372      0.170      -0.126       0.713\n",
      "horse                    0.5509      0.221      2.498      0.013       0.119       0.983\n",
      "ship                     0.1452      0.216      0.673      0.501      -0.278       0.568\n",
      "truck                    0.2348      0.212      1.108      0.268      -0.181       0.650\n",
      "epochs_trained           0.5441      0.152      3.585      0.000       0.247       0.842\n",
      "plane:car                0.0111      0.247      0.045      0.964      -0.473       0.495\n",
      "plane:bird               0.1011      0.253      0.399      0.690      -0.395       0.597\n",
      "plane:cat               -0.0803      0.234     -0.343      0.731      -0.539       0.378\n",
      "plane:deer              -0.0895      0.237     -0.378      0.705      -0.553       0.374\n",
      "plane:dog               -0.0643      0.271     -0.237      0.813      -0.596       0.468\n",
      "plane:frog               0.1351      0.260      0.520      0.603      -0.374       0.644\n",
      "plane:horse             -0.2664      0.227     -1.171      0.241      -0.712       0.179\n",
      "plane:ship              -0.3223      0.264     -1.223      0.221      -0.839       0.194\n",
      "plane:truck             -0.0265      0.240     -0.111      0.912      -0.496       0.443\n",
      "plane:epochs_trained     0.0292      0.242      0.121      0.904      -0.445       0.503\n",
      "car:bird                -0.0105      0.248     -0.042      0.966      -0.497       0.476\n",
      "car:cat                  0.0850      0.208      0.408      0.683      -0.323       0.493\n",
      "car:deer                -0.1789      0.228     -0.783      0.433      -0.626       0.269\n",
      "car:dog                 -0.0169      0.246     -0.069      0.945      -0.500       0.466\n",
      "car:frog                 0.1410      0.239      0.591      0.554      -0.327       0.609\n",
      "car:horse                0.0547      0.240      0.228      0.820      -0.416       0.525\n",
      "car:ship                 0.0991      0.250      0.397      0.692      -0.390       0.589\n",
      "car:truck               -0.1919      0.223     -0.860      0.390      -0.629       0.246\n",
      "car:epochs_trained      -0.0200      0.228     -0.087      0.930      -0.467       0.427\n",
      "bird:cat                -0.0952      0.236     -0.403      0.687      -0.558       0.367\n",
      "bird:deer                0.2252      0.242      0.931      0.352      -0.249       0.699\n",
      "bird:dog                -0.1462      0.246     -0.593      0.553      -0.629       0.337\n",
      "bird:frog               -0.1207      0.284     -0.425      0.671      -0.678       0.436\n",
      "bird:horse              -0.0174      0.242     -0.072      0.943      -0.492       0.457\n",
      "bird:ship                0.0369      0.243      0.152      0.879      -0.439       0.513\n",
      "bird:truck              -0.1146      0.249     -0.460      0.646      -0.603       0.374\n",
      "bird:epochs_trained      0.0288      0.246      0.117      0.907      -0.453       0.510\n",
      "cat:deer                 0.1075      0.206      0.521      0.602      -0.297       0.512\n",
      "cat:dog                 -0.1515      0.224     -0.675      0.500      -0.591       0.288\n",
      "cat:frog                 0.0066      0.236      0.028      0.978      -0.457       0.470\n",
      "cat:horse                0.0821      0.229      0.359      0.720      -0.366       0.530\n",
      "cat:ship                 0.0202      0.244      0.083      0.934      -0.457       0.498\n",
      "cat:truck                0.1561      0.231      0.677      0.499      -0.296       0.608\n",
      "cat:epochs_trained      -0.0298      0.222     -0.134      0.893      -0.464       0.405\n",
      "deer:dog                -0.0436      0.242     -0.180      0.857      -0.519       0.432\n",
      "deer:frog               -0.1549      0.229     -0.675      0.500      -0.605       0.295\n",
      "deer:horse              -0.0556      0.237     -0.234      0.815      -0.521       0.410\n",
      "deer:ship               -0.0018      0.233     -0.008      0.994      -0.458       0.454\n",
      "deer:truck               0.1893      0.219      0.865      0.387      -0.240       0.618\n",
      "deer:epochs_trained      0.0168      0.229      0.073      0.942      -0.431       0.465\n",
      "dog:frog                -0.1481      0.259     -0.572      0.567      -0.655       0.359\n",
      "dog:horse               -0.2867      0.249     -1.152      0.249      -0.774       0.201\n",
      "dog:ship                 0.2433      0.268      0.908      0.364      -0.282       0.769\n",
      "dog:truck                0.1139      0.259      0.440      0.660      -0.393       0.621\n",
      "dog:epochs_trained      -0.0355      0.244     -0.146      0.884      -0.513       0.442\n",
      "frog:horse               0.2263      0.256      0.884      0.376      -0.275       0.728\n",
      "frog:ship               -0.0010      0.229     -0.004      0.997      -0.451       0.449\n",
      "frog:truck              -0.1943      0.217     -0.897      0.370      -0.619       0.230\n",
      "frog:epochs_trained     -0.0170      0.237     -0.072      0.943      -0.481       0.447\n",
      "horse:ship              -0.1200      0.241     -0.498      0.618      -0.592       0.352\n",
      "horse:truck             -0.1122      0.235     -0.477      0.633      -0.573       0.349\n",
      "horse:epochs_trained    -0.0420      0.234     -0.179      0.858      -0.501       0.417\n",
      "ship:truck               0.0958      0.247      0.389      0.698      -0.387       0.579\n",
      "ship:epochs_trained     -0.0159      0.236     -0.067      0.946      -0.479       0.447\n",
      "truck:epochs_trained    -0.0065      0.230     -0.028      0.978      -0.458       0.445\n",
      "========================================================================================\n"
     ]
    },
    {
     "data": {
      "text/plain": [
       "0        0.318586\n",
       "1        0.321730\n",
       "2        0.324890\n",
       "3        0.328066\n",
       "4        0.331257\n",
       "           ...   \n",
       "10255    0.813299\n",
       "10256    0.815045\n",
       "10257    0.816778\n",
       "10258    0.818498\n",
       "10259    0.820206\n",
       "Length: 10260, dtype: float64"
      ]
     },
     "execution_count": 13,
     "metadata": {},
     "output_type": "execute_result"
    }
   ],
   "source": [
    "tmp = smf.glm(formula=formula, data=results, family=sm.families.Binomial()).fit()\n",
    "print(tmp.summary())\n",
    "tmp.fittedvalues"
   ]
  },
  {
   "cell_type": "code",
   "execution_count": 14,
   "id": "1b284967",
   "metadata": {},
   "outputs": [
    {
     "data": {
      "text/html": [
       "<div>\n",
       "<style scoped>\n",
       "    .dataframe tbody tr th:only-of-type {\n",
       "        vertical-align: middle;\n",
       "    }\n",
       "\n",
       "    .dataframe tbody tr th {\n",
       "        vertical-align: top;\n",
       "    }\n",
       "\n",
       "    .dataframe thead th {\n",
       "        text-align: right;\n",
       "    }\n",
       "</style>\n",
       "<table border=\"1\" class=\"dataframe\">\n",
       "  <thead>\n",
       "    <tr style=\"text-align: right;\">\n",
       "      <th></th>\n",
       "      <th>accs</th>\n",
       "      <th>training_times</th>\n",
       "      <th>plane</th>\n",
       "      <th>car</th>\n",
       "      <th>bird</th>\n",
       "      <th>cat</th>\n",
       "      <th>deer</th>\n",
       "      <th>dog</th>\n",
       "      <th>frog</th>\n",
       "      <th>horse</th>\n",
       "      <th>ship</th>\n",
       "      <th>truck</th>\n",
       "      <th>epochs_trained</th>\n",
       "      <th>total_training_size</th>\n",
       "      <th>accs_hat_glm_form</th>\n",
       "    </tr>\n",
       "  </thead>\n",
       "  <tbody>\n",
       "    <tr>\n",
       "      <th>0</th>\n",
       "      <td>0.1787</td>\n",
       "      <td>0.004281</td>\n",
       "      <td>0.026474</td>\n",
       "      <td>0.005604</td>\n",
       "      <td>0.017044</td>\n",
       "      <td>0.098679</td>\n",
       "      <td>0.217723</td>\n",
       "      <td>0.060096</td>\n",
       "      <td>0.474814</td>\n",
       "      <td>0.001601</td>\n",
       "      <td>0.074059</td>\n",
       "      <td>0.012402</td>\n",
       "      <td>0.000000</td>\n",
       "      <td>0.000025</td>\n",
       "      <td>0.318586</td>\n",
       "    </tr>\n",
       "    <tr>\n",
       "      <th>1</th>\n",
       "      <td>0.2051</td>\n",
       "      <td>0.003710</td>\n",
       "      <td>0.026474</td>\n",
       "      <td>0.005604</td>\n",
       "      <td>0.017044</td>\n",
       "      <td>0.098679</td>\n",
       "      <td>0.217723</td>\n",
       "      <td>0.060096</td>\n",
       "      <td>0.474814</td>\n",
       "      <td>0.001601</td>\n",
       "      <td>0.074059</td>\n",
       "      <td>0.012402</td>\n",
       "      <td>0.027027</td>\n",
       "      <td>0.000025</td>\n",
       "      <td>0.321730</td>\n",
       "    </tr>\n",
       "  </tbody>\n",
       "</table>\n",
       "</div>"
      ],
      "text/plain": [
       "     accs  training_times     plane       car      bird       cat      deer  \\\n",
       "0  0.1787        0.004281  0.026474  0.005604  0.017044  0.098679  0.217723   \n",
       "1  0.2051        0.003710  0.026474  0.005604  0.017044  0.098679  0.217723   \n",
       "\n",
       "        dog      frog     horse      ship     truck  epochs_trained  \\\n",
       "0  0.060096  0.474814  0.001601  0.074059  0.012402        0.000000   \n",
       "1  0.060096  0.474814  0.001601  0.074059  0.012402        0.027027   \n",
       "\n",
       "   total_training_size  accs_hat_glm_form  \n",
       "0             0.000025           0.318586  \n",
       "1             0.000025           0.321730  "
      ]
     },
     "execution_count": 14,
     "metadata": {},
     "output_type": "execute_result"
    }
   ],
   "source": [
    "#results = pd.concat([pd.DataFrame({\"accs_hat_glm_form\": tmp.fittedvalues}), results], axis=1)\n",
    "results[\"accs_hat_glm_form\"] = tmp.fittedvalues\n",
    "results.head(2)"
   ]
  },
  {
   "cell_type": "code",
   "execution_count": 15,
   "id": "c69c317e",
   "metadata": {},
   "outputs": [
    {
     "data": {
      "image/png": "[encoded data removed]",
      "text/plain": [
       "<Figure size 432x288 with 1 Axes>"
      ]
     },
     "metadata": {
      "needs_background": "light"
     },
     "output_type": "display_data"
    },
    {
     "data": {
      "text/plain": [
       "0.8920494585511646"
      ]
     },
     "execution_count": 15,
     "metadata": {},
     "output_type": "execute_result"
    }
   ],
   "source": [
    "sns.scatterplot(data = results, x=\"accs\", y = \"accs_hat_glm_form\", hue = \"epochs_trained\")\n",
    "plt.xlim((0.05, 0.9))\n",
    "plt.ylim((0.05, 0.9))\n",
    "plt.axline((0, 0), slope=1, color=\"black\", linestyle=(0, (5, 5)))\n",
    "plt.show()\n",
    "\n",
    "metrics.r2_score(results.accs, results.accs_hat_glm_form)"
   ]
  }
 ],
 "metadata": {
  "kernelspec": {
   "display_name": "Python 3.8.10 64-bit ('venv_events_3810')",
   "language": "python",
   "name": "python3"
  },
  "language_info": {
   "codemirror_mode": {
    "name": "ipython",
    "version": 3
   },
   "file_extension": ".py",
   "mimetype": "text/x-python",
   "name": "python",
   "nbconvert_exporter": "python",
   "pygments_lexer": "ipython3",
   "version": "3.8.10"
  },
  "vscode": {
   "interpreter": {
    "hash": "c9bcba196a01498016ccd64548f4c665ee450ddca7e9d0b8c7efd8e8a933354c"
   }
  }
 },
 "nbformat": 4,
 "nbformat_minor": 5
}
