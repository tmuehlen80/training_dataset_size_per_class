{
 "cells": [
  {
   "cell_type": "code",
   "execution_count": 1,
   "id": "4619b589-aed6-47a2-ab8d-c9b9320f367d",
   "metadata": {},
   "outputs": [
    {
     "data": {
      "text/plain": [
       "'/home/tmuehlenstaedt/ds_experiments/ds_experiments/training_dataset_size_per_class'"
      ]
     },
     "execution_count": 1,
     "metadata": {},
     "output_type": "execute_result"
    }
   ],
   "source": [
    "import pandas as pd\n",
    "pd.set_option(\"display.max_columns\", None)\n",
    "from IPython.display import HTML\n",
    "from IPython.display import display\n",
    "import numpy as np\n",
    "import warnings\n",
    "from pandas.core.common import SettingWithCopyWarning\n",
    "warnings.simplefilter(action=\"ignore\", category=SettingWithCopyWarning)\n",
    "warnings.simplefilter(action=\"ignore\", category=FutureWarning)\n",
    "import matplotlib.pyplot as plt\n",
    "import seaborn as sns\n",
    "import os\n",
    "from pprint import pprint\n",
    "\n",
    "from scipy.optimize import curve_fit\n",
    "\n",
    "import torchvision.transforms as transforms\n",
    "from sklearn import preprocessing\n",
    "from sklearn import metrics\n",
    "import statsmodels.api as sm\n",
    "from scipy import stats\n",
    "from statsmodels.formula.api import logit\n",
    "import statsmodels.formula.api as smf\n",
    "os.chdir(\"..\")\n",
    "os.getcwd()"
   ]
  },
  {
   "attachments": {},
   "cell_type": "markdown",
   "id": "f9306df2",
   "metadata": {},
   "source": [
    "### Purpose of this notebook: \n",
    "\n",
    "# PoC for a multidimensional power law approach for training dataset size prediction.\n",
    "\n",
    "* Using Cifar10 data\n",
    "* and a standard cnn architecture\n",
    "* Varying the number of images per class with different number of overall training dataset sizes\n",
    "* Collect accuracies for each experiment\n",
    "* Fit a power law with a linear combination as input.\n",
    "\n",
    "# statistical models considered:\n",
    "\n",
    "* ### arctan model: \n",
    "    * Just using last epoch\n",
    "    * Using all epochs\n",
    "    * ref: Just using overall training dataset size with last epoch\n"
   ]
  },
  {
   "cell_type": "markdown",
   "id": "c8de233e",
   "metadata": {},
   "source": [
    "# Data prep\n",
    "\n",
    "* reading in csv data\n",
    "* filter to only keep epochs $>10$\n",
    "* normalize"
   ]
  },
  {
   "attachments": {},
   "cell_type": "markdown",
   "id": "32ee6f57",
   "metadata": {},
   "source": [
    "Please run `cifar10_datasetsize_multidim.py` before running this notebook.\n"
   ]
  },
  {
   "cell_type": "code",
   "execution_count": 2,
   "id": "2e40cca8",
   "metadata": {},
   "outputs": [
    {
     "name": "stdout",
     "output_type": "stream",
     "text": [
      "(10800, 13)\n"
     ]
    },
    {
     "data": {
      "text/html": [
       "<div>\n",
       "<style scoped>\n",
       "    .dataframe tbody tr th:only-of-type {\n",
       "        vertical-align: middle;\n",
       "    }\n",
       "\n",
       "    .dataframe tbody tr th {\n",
       "        vertical-align: top;\n",
       "    }\n",
       "\n",
       "    .dataframe thead th {\n",
       "        text-align: right;\n",
       "    }\n",
       "</style>\n",
       "<table border=\"1\" class=\"dataframe\">\n",
       "  <thead>\n",
       "    <tr style=\"text-align: right;\">\n",
       "      <th></th>\n",
       "      <th>accs</th>\n",
       "      <th>training_times</th>\n",
       "      <th>plane</th>\n",
       "      <th>car</th>\n",
       "      <th>bird</th>\n",
       "      <th>cat</th>\n",
       "      <th>deer</th>\n",
       "      <th>dog</th>\n",
       "      <th>frog</th>\n",
       "      <th>horse</th>\n",
       "      <th>ship</th>\n",
       "      <th>truck</th>\n",
       "      <th>epochs_trained</th>\n",
       "    </tr>\n",
       "  </thead>\n",
       "  <tbody>\n",
       "    <tr>\n",
       "      <th>0</th>\n",
       "      <td>0.1006</td>\n",
       "      <td>0.868126</td>\n",
       "      <td>145.0</td>\n",
       "      <td>31.0</td>\n",
       "      <td>97.0</td>\n",
       "      <td>496.0</td>\n",
       "      <td>1096.0</td>\n",
       "      <td>307.0</td>\n",
       "      <td>2382.0</td>\n",
       "      <td>9.0</td>\n",
       "      <td>373.0</td>\n",
       "      <td>63.0</td>\n",
       "      <td>0</td>\n",
       "    </tr>\n",
       "    <tr>\n",
       "      <th>1</th>\n",
       "      <td>0.1314</td>\n",
       "      <td>4.390345</td>\n",
       "      <td>145.0</td>\n",
       "      <td>31.0</td>\n",
       "      <td>97.0</td>\n",
       "      <td>496.0</td>\n",
       "      <td>1096.0</td>\n",
       "      <td>307.0</td>\n",
       "      <td>2382.0</td>\n",
       "      <td>9.0</td>\n",
       "      <td>373.0</td>\n",
       "      <td>63.0</td>\n",
       "      <td>5</td>\n",
       "    </tr>\n",
       "  </tbody>\n",
       "</table>\n",
       "</div>"
      ],
      "text/plain": [
       "     accs  training_times  plane   car  bird    cat    deer    dog    frog  \\\n",
       "0  0.1006        0.868126  145.0  31.0  97.0  496.0  1096.0  307.0  2382.0   \n",
       "1  0.1314        4.390345  145.0  31.0  97.0  496.0  1096.0  307.0  2382.0   \n",
       "\n",
       "   horse   ship  truck  epochs_trained  \n",
       "0    9.0  373.0   63.0               0  \n",
       "1    9.0  373.0   63.0               5  "
      ]
     },
     "execution_count": 2,
     "metadata": {},
     "output_type": "execute_result"
    }
   ],
   "source": [
    "#results = pd.read_csv(\"Cifar10_acc_subsets_thomas_batch_size_512_mixture_design_20230628.csv\")\n",
    "results = pd.read_csv(\"csv_files/Cifar10_acc_subsets_thomas_batch_size_512_mixture_design_maximin_subsetsize_45000_20230705.csv\")\n",
    "results_val = pd.read_csv(\"csv_files/Cifar10_acc_subsets_thomas_batch_size_512_mixture_design_maximin_subsetsize_45000_val_20230708.csv\")\n",
    "print(results.shape)\n",
    "results.head(2)"
   ]
  },
  {
   "cell_type": "code",
   "execution_count": 3,
   "id": "127bb8d0",
   "metadata": {},
   "outputs": [],
   "source": [
    "# Filter data to start with 10 epochs:\n",
    "# anything below a certain number of epochs seems to be very flaky.\n",
    "mask = results.epochs_trained >= 10\n",
    "results = results[mask].reset_index(drop=True)\n",
    "mask = results_val.epochs_trained >= 10\n",
    "results_val = results_val[mask].reset_index(drop=True)\n",
    "\n"
   ]
  },
  {
   "cell_type": "code",
   "execution_count": 4,
   "id": "037f76e2",
   "metadata": {},
   "outputs": [
    {
     "name": "stdout",
     "output_type": "stream",
     "text": [
      "['plane', 'car', 'bird', 'cat', 'deer', 'dog', 'frog', 'horse', 'ship', 'truck']\n"
     ]
    },
    {
     "data": {
      "text/html": [
       "<div>\n",
       "<style scoped>\n",
       "    .dataframe tbody tr th:only-of-type {\n",
       "        vertical-align: middle;\n",
       "    }\n",
       "\n",
       "    .dataframe tbody tr th {\n",
       "        vertical-align: top;\n",
       "    }\n",
       "\n",
       "    .dataframe thead th {\n",
       "        text-align: right;\n",
       "    }\n",
       "</style>\n",
       "<table border=\"1\" class=\"dataframe\">\n",
       "  <thead>\n",
       "    <tr style=\"text-align: right;\">\n",
       "      <th></th>\n",
       "      <th>accs</th>\n",
       "      <th>training_times</th>\n",
       "      <th>plane</th>\n",
       "      <th>car</th>\n",
       "      <th>bird</th>\n",
       "      <th>cat</th>\n",
       "      <th>deer</th>\n",
       "      <th>dog</th>\n",
       "      <th>frog</th>\n",
       "      <th>horse</th>\n",
       "      <th>ship</th>\n",
       "      <th>truck</th>\n",
       "      <th>epochs_trained</th>\n",
       "      <th>total_training_size</th>\n",
       "    </tr>\n",
       "  </thead>\n",
       "  <tbody>\n",
       "    <tr>\n",
       "      <th>0</th>\n",
       "      <td>0.1787</td>\n",
       "      <td>4.370253</td>\n",
       "      <td>145.0</td>\n",
       "      <td>31.0</td>\n",
       "      <td>97.0</td>\n",
       "      <td>496.0</td>\n",
       "      <td>1096.0</td>\n",
       "      <td>307.0</td>\n",
       "      <td>2382.0</td>\n",
       "      <td>9.0</td>\n",
       "      <td>373.0</td>\n",
       "      <td>63.0</td>\n",
       "      <td>10</td>\n",
       "      <td>4999.0</td>\n",
       "    </tr>\n",
       "    <tr>\n",
       "      <th>1</th>\n",
       "      <td>0.2051</td>\n",
       "      <td>4.355270</td>\n",
       "      <td>145.0</td>\n",
       "      <td>31.0</td>\n",
       "      <td>97.0</td>\n",
       "      <td>496.0</td>\n",
       "      <td>1096.0</td>\n",
       "      <td>307.0</td>\n",
       "      <td>2382.0</td>\n",
       "      <td>9.0</td>\n",
       "      <td>373.0</td>\n",
       "      <td>63.0</td>\n",
       "      <td>15</td>\n",
       "      <td>4999.0</td>\n",
       "    </tr>\n",
       "    <tr>\n",
       "      <th>2</th>\n",
       "      <td>0.2030</td>\n",
       "      <td>4.387133</td>\n",
       "      <td>145.0</td>\n",
       "      <td>31.0</td>\n",
       "      <td>97.0</td>\n",
       "      <td>496.0</td>\n",
       "      <td>1096.0</td>\n",
       "      <td>307.0</td>\n",
       "      <td>2382.0</td>\n",
       "      <td>9.0</td>\n",
       "      <td>373.0</td>\n",
       "      <td>63.0</td>\n",
       "      <td>20</td>\n",
       "      <td>4999.0</td>\n",
       "    </tr>\n",
       "    <tr>\n",
       "      <th>3</th>\n",
       "      <td>0.2506</td>\n",
       "      <td>4.299767</td>\n",
       "      <td>145.0</td>\n",
       "      <td>31.0</td>\n",
       "      <td>97.0</td>\n",
       "      <td>496.0</td>\n",
       "      <td>1096.0</td>\n",
       "      <td>307.0</td>\n",
       "      <td>2382.0</td>\n",
       "      <td>9.0</td>\n",
       "      <td>373.0</td>\n",
       "      <td>63.0</td>\n",
       "      <td>25</td>\n",
       "      <td>4999.0</td>\n",
       "    </tr>\n",
       "  </tbody>\n",
       "</table>\n",
       "</div>"
      ],
      "text/plain": [
       "     accs  training_times  plane   car  bird    cat    deer    dog    frog  \\\n",
       "0  0.1787        4.370253  145.0  31.0  97.0  496.0  1096.0  307.0  2382.0   \n",
       "1  0.2051        4.355270  145.0  31.0  97.0  496.0  1096.0  307.0  2382.0   \n",
       "2  0.2030        4.387133  145.0  31.0  97.0  496.0  1096.0  307.0  2382.0   \n",
       "3  0.2506        4.299767  145.0  31.0  97.0  496.0  1096.0  307.0  2382.0   \n",
       "\n",
       "   horse   ship  truck  epochs_trained  total_training_size  \n",
       "0    9.0  373.0   63.0              10               4999.0  \n",
       "1    9.0  373.0   63.0              15               4999.0  \n",
       "2    9.0  373.0   63.0              20               4999.0  \n",
       "3    9.0  373.0   63.0              25               4999.0  "
      ]
     },
     "execution_count": 4,
     "metadata": {},
     "output_type": "execute_result"
    }
   ],
   "source": [
    "classes = results.columns.tolist()[2:12]\n",
    "print(classes)\n",
    "results[\"total_training_size\"] = results[classes].sum(axis=1)\n",
    "results_val[\"total_training_size\"] = results_val[classes].sum(axis=1)\n",
    "results.head(4)"
   ]
  },
  {
   "cell_type": "code",
   "execution_count": 5,
   "id": "24becc1b",
   "metadata": {},
   "outputs": [
    {
     "data": {
      "text/html": [
       "<div>\n",
       "<style scoped>\n",
       "    .dataframe tbody tr th:only-of-type {\n",
       "        vertical-align: middle;\n",
       "    }\n",
       "\n",
       "    .dataframe tbody tr th {\n",
       "        vertical-align: top;\n",
       "    }\n",
       "\n",
       "    .dataframe thead th {\n",
       "        text-align: right;\n",
       "    }\n",
       "</style>\n",
       "<table border=\"1\" class=\"dataframe\">\n",
       "  <thead>\n",
       "    <tr style=\"text-align: right;\">\n",
       "      <th></th>\n",
       "      <th>accs</th>\n",
       "      <th>training_times</th>\n",
       "      <th>plane</th>\n",
       "      <th>car</th>\n",
       "      <th>bird</th>\n",
       "      <th>cat</th>\n",
       "      <th>deer</th>\n",
       "      <th>dog</th>\n",
       "      <th>frog</th>\n",
       "      <th>horse</th>\n",
       "      <th>ship</th>\n",
       "      <th>truck</th>\n",
       "      <th>epochs_trained</th>\n",
       "      <th>total_training_size</th>\n",
       "    </tr>\n",
       "  </thead>\n",
       "  <tbody>\n",
       "    <tr>\n",
       "      <th>0</th>\n",
       "      <td>0.1787</td>\n",
       "      <td>0.004281</td>\n",
       "      <td>0.026474</td>\n",
       "      <td>0.005604</td>\n",
       "      <td>0.017044</td>\n",
       "      <td>0.098679</td>\n",
       "      <td>0.217723</td>\n",
       "      <td>0.060096</td>\n",
       "      <td>0.474814</td>\n",
       "      <td>0.001601</td>\n",
       "      <td>0.074059</td>\n",
       "      <td>0.012402</td>\n",
       "      <td>0.000000</td>\n",
       "      <td>0.000025</td>\n",
       "    </tr>\n",
       "    <tr>\n",
       "      <th>1</th>\n",
       "      <td>0.2051</td>\n",
       "      <td>0.003710</td>\n",
       "      <td>0.026474</td>\n",
       "      <td>0.005604</td>\n",
       "      <td>0.017044</td>\n",
       "      <td>0.098679</td>\n",
       "      <td>0.217723</td>\n",
       "      <td>0.060096</td>\n",
       "      <td>0.474814</td>\n",
       "      <td>0.001601</td>\n",
       "      <td>0.074059</td>\n",
       "      <td>0.012402</td>\n",
       "      <td>0.027027</td>\n",
       "      <td>0.000025</td>\n",
       "    </tr>\n",
       "  </tbody>\n",
       "</table>\n",
       "</div>"
      ],
      "text/plain": [
       "     accs  training_times     plane       car      bird       cat      deer  \\\n",
       "0  0.1787        0.004281  0.026474  0.005604  0.017044  0.098679  0.217723   \n",
       "1  0.2051        0.003710  0.026474  0.005604  0.017044  0.098679  0.217723   \n",
       "\n",
       "        dog      frog     horse      ship     truck  epochs_trained  \\\n",
       "0  0.060096  0.474814  0.001601  0.074059  0.012402        0.000000   \n",
       "1  0.060096  0.474814  0.001601  0.074059  0.012402        0.027027   \n",
       "\n",
       "   total_training_size  \n",
       "0             0.000025  \n",
       "1             0.000025  "
      ]
     },
     "execution_count": 5,
     "metadata": {},
     "output_type": "execute_result"
    }
   ],
   "source": [
    "### normalize results:\n",
    "scaler = preprocessing.MinMaxScaler()\n",
    "scaler.fit(X = results.iloc[:, 1:])\n",
    "results_scaled = pd.DataFrame(scaler.transform(results.iloc[:, 1:]))\n",
    "results_scaled.columns = results.iloc[:, 1:].columns\n",
    "results = pd.concat([results[\"accs\"], results_scaled], axis=1)\n",
    "results.head(2)"
   ]
  },
  {
   "cell_type": "code",
   "execution_count": 6,
   "id": "7e78c193",
   "metadata": {},
   "outputs": [
    {
     "data": {
      "text/html": [
       "<div>\n",
       "<style scoped>\n",
       "    .dataframe tbody tr th:only-of-type {\n",
       "        vertical-align: middle;\n",
       "    }\n",
       "\n",
       "    .dataframe tbody tr th {\n",
       "        vertical-align: top;\n",
       "    }\n",
       "\n",
       "    .dataframe thead th {\n",
       "        text-align: right;\n",
       "    }\n",
       "</style>\n",
       "<table border=\"1\" class=\"dataframe\">\n",
       "  <thead>\n",
       "    <tr style=\"text-align: right;\">\n",
       "      <th></th>\n",
       "      <th>accs</th>\n",
       "      <th>training_times</th>\n",
       "      <th>plane</th>\n",
       "      <th>car</th>\n",
       "      <th>bird</th>\n",
       "      <th>cat</th>\n",
       "      <th>deer</th>\n",
       "      <th>dog</th>\n",
       "      <th>frog</th>\n",
       "      <th>horse</th>\n",
       "      <th>ship</th>\n",
       "      <th>truck</th>\n",
       "      <th>epochs_trained</th>\n",
       "      <th>total_training_size</th>\n",
       "    </tr>\n",
       "  </thead>\n",
       "  <tbody>\n",
       "    <tr>\n",
       "      <th>0</th>\n",
       "      <td>0.2633</td>\n",
       "      <td>0.005252</td>\n",
       "      <td>0.138187</td>\n",
       "      <td>0.041833</td>\n",
       "      <td>0.040706</td>\n",
       "      <td>0.005404</td>\n",
       "      <td>0.15016</td>\n",
       "      <td>0.019832</td>\n",
       "      <td>0.395143</td>\n",
       "      <td>0.038223</td>\n",
       "      <td>0.151521</td>\n",
       "      <td>0.008002</td>\n",
       "      <td>0.000000</td>\n",
       "      <td>0.0001</td>\n",
       "    </tr>\n",
       "    <tr>\n",
       "      <th>1</th>\n",
       "      <td>0.2866</td>\n",
       "      <td>0.009001</td>\n",
       "      <td>0.138187</td>\n",
       "      <td>0.041833</td>\n",
       "      <td>0.040706</td>\n",
       "      <td>0.005404</td>\n",
       "      <td>0.15016</td>\n",
       "      <td>0.019832</td>\n",
       "      <td>0.395143</td>\n",
       "      <td>0.038223</td>\n",
       "      <td>0.151521</td>\n",
       "      <td>0.008002</td>\n",
       "      <td>0.027027</td>\n",
       "      <td>0.0001</td>\n",
       "    </tr>\n",
       "  </tbody>\n",
       "</table>\n",
       "</div>"
      ],
      "text/plain": [
       "     accs  training_times     plane       car      bird       cat     deer  \\\n",
       "0  0.2633        0.005252  0.138187  0.041833  0.040706  0.005404  0.15016   \n",
       "1  0.2866        0.009001  0.138187  0.041833  0.040706  0.005404  0.15016   \n",
       "\n",
       "        dog      frog     horse      ship     truck  epochs_trained  \\\n",
       "0  0.019832  0.395143  0.038223  0.151521  0.008002        0.000000   \n",
       "1  0.019832  0.395143  0.038223  0.151521  0.008002        0.027027   \n",
       "\n",
       "   total_training_size  \n",
       "0               0.0001  \n",
       "1               0.0001  "
      ]
     },
     "execution_count": 6,
     "metadata": {},
     "output_type": "execute_result"
    }
   ],
   "source": [
    "# using the same scaler for train and val:\n",
    "results_scaled_val = pd.DataFrame(scaler.transform(results_val.iloc[:, 1:]))\n",
    "results_scaled_val.columns = results_val.iloc[:, 1:].columns\n",
    "results_val = pd.concat([results_val[\"accs\"], results_scaled_val], axis=1)\n",
    "results_val.head(2)"
   ]
  },
  {
   "cell_type": "code",
   "execution_count": 7,
   "id": "12f10cc7",
   "metadata": {},
   "outputs": [
    {
     "data": {
      "text/plain": [
       "(11, 10260)"
      ]
     },
     "execution_count": 7,
     "metadata": {},
     "output_type": "execute_result"
    }
   ],
   "source": [
    "# prep data for using class counts:\n",
    "xdata = np.transpose(results.to_numpy()[:, 2:-1])\n",
    "y = results.to_numpy()[:, 0]\n",
    "xdata_val = np.transpose(results_val.to_numpy()[:, 2:-1])\n",
    "y_val = results_val.to_numpy()[:, 0]\n",
    "xdata.shape"
   ]
  },
  {
   "cell_type": "code",
   "execution_count": 8,
   "id": "179dfba6",
   "metadata": {},
   "outputs": [],
   "source": [
    "# data for last_epoch_training:\n",
    "mask = results.epochs_trained == 1\n",
    "results_last_epoch = results[mask].reset_index(drop=True)\n",
    "xdata_last_epoch = np.transpose(results_last_epoch.to_numpy()[:, 2:-2])\n",
    "y_last_epoch = results_last_epoch.to_numpy()[:, 0]\n",
    "\n",
    "mask = results_val.epochs_trained == 1\n",
    "results_val_last_epoch = results_val[mask].reset_index(drop=True)\n",
    "xdata_val_last_epoch = np.transpose(results_val_last_epoch.to_numpy()[:, 2:-2])\n",
    "y_val_last_epoch = results_val_last_epoch.to_numpy()[:, 0]"
   ]
  },
  {
   "cell_type": "code",
   "execution_count": 9,
   "id": "3a9a3247",
   "metadata": {},
   "outputs": [
    {
     "data": {
      "text/plain": [
       "(2, 10260)"
      ]
     },
     "execution_count": 9,
     "metadata": {},
     "output_type": "execute_result"
    }
   ],
   "source": [
    "# data for total_n and epoch only:\n",
    "xdata_total_n_epoch = np.transpose(results.to_numpy()[:, -2:])\n",
    "xdata_val_total_n_epoch = np.transpose(results_val.to_numpy()[:, -2:])\n",
    "xdata_total_n_epoch.shape"
   ]
  },
  {
   "cell_type": "code",
   "execution_count": 10,
   "id": "81e433d3",
   "metadata": {},
   "outputs": [
    {
     "data": {
      "text/plain": [
       "(1, 270)"
      ]
     },
     "execution_count": 10,
     "metadata": {},
     "output_type": "execute_result"
    }
   ],
   "source": [
    "# data for last epoch, total_n only:\n",
    "xdata_last_epoch_total_n = np.transpose(results_last_epoch.to_numpy()[:, -1:])\n",
    "xdata_val_last_epoch_total_n = np.transpose(results_val_last_epoch.to_numpy()[:, -1:])\n",
    "xdata_last_epoch_total_n.shape"
   ]
  },
  {
   "cell_type": "code",
   "execution_count": 11,
   "id": "64c56f8a",
   "metadata": {},
   "outputs": [
    {
     "data": {
      "text/html": [
       "<div>\n",
       "<style scoped>\n",
       "    .dataframe tbody tr th:only-of-type {\n",
       "        vertical-align: middle;\n",
       "    }\n",
       "\n",
       "    .dataframe tbody tr th {\n",
       "        vertical-align: top;\n",
       "    }\n",
       "\n",
       "    .dataframe thead th {\n",
       "        text-align: right;\n",
       "    }\n",
       "</style>\n",
       "<table border=\"1\" class=\"dataframe\">\n",
       "  <thead>\n",
       "    <tr style=\"text-align: right;\">\n",
       "      <th></th>\n",
       "      <th>accs</th>\n",
       "      <th>training_times</th>\n",
       "      <th>plane</th>\n",
       "      <th>car</th>\n",
       "      <th>bird</th>\n",
       "      <th>cat</th>\n",
       "      <th>deer</th>\n",
       "      <th>dog</th>\n",
       "      <th>frog</th>\n",
       "      <th>horse</th>\n",
       "      <th>ship</th>\n",
       "      <th>truck</th>\n",
       "      <th>epochs_trained</th>\n",
       "      <th>total_training_size</th>\n",
       "    </tr>\n",
       "  </thead>\n",
       "  <tbody>\n",
       "    <tr>\n",
       "      <th>0</th>\n",
       "      <td>0.1787</td>\n",
       "      <td>0.004281</td>\n",
       "      <td>0.026474</td>\n",
       "      <td>0.005604</td>\n",
       "      <td>0.017044</td>\n",
       "      <td>0.098679</td>\n",
       "      <td>0.217723</td>\n",
       "      <td>0.060096</td>\n",
       "      <td>0.474814</td>\n",
       "      <td>0.001601</td>\n",
       "      <td>0.074059</td>\n",
       "      <td>0.012402</td>\n",
       "      <td>0.000000</td>\n",
       "      <td>0.000025</td>\n",
       "    </tr>\n",
       "    <tr>\n",
       "      <th>1</th>\n",
       "      <td>0.2051</td>\n",
       "      <td>0.003710</td>\n",
       "      <td>0.026474</td>\n",
       "      <td>0.005604</td>\n",
       "      <td>0.017044</td>\n",
       "      <td>0.098679</td>\n",
       "      <td>0.217723</td>\n",
       "      <td>0.060096</td>\n",
       "      <td>0.474814</td>\n",
       "      <td>0.001601</td>\n",
       "      <td>0.074059</td>\n",
       "      <td>0.012402</td>\n",
       "      <td>0.027027</td>\n",
       "      <td>0.000025</td>\n",
       "    </tr>\n",
       "  </tbody>\n",
       "</table>\n",
       "</div>"
      ],
      "text/plain": [
       "     accs  training_times     plane       car      bird       cat      deer  \\\n",
       "0  0.1787        0.004281  0.026474  0.005604  0.017044  0.098679  0.217723   \n",
       "1  0.2051        0.003710  0.026474  0.005604  0.017044  0.098679  0.217723   \n",
       "\n",
       "        dog      frog     horse      ship     truck  epochs_trained  \\\n",
       "0  0.060096  0.474814  0.001601  0.074059  0.012402        0.000000   \n",
       "1  0.060096  0.474814  0.001601  0.074059  0.012402        0.027027   \n",
       "\n",
       "   total_training_size  \n",
       "0             0.000025  \n",
       "1             0.000025  "
      ]
     },
     "execution_count": 11,
     "metadata": {},
     "output_type": "execute_result"
    }
   ],
   "source": [
    "results.head(2)"
   ]
  },
  {
   "cell_type": "markdown",
   "id": "151132e9",
   "metadata": {},
   "source": [
    "# arctan - full option"
   ]
  },
  {
   "attachments": {},
   "cell_type": "markdown",
   "id": "21f99b1a",
   "metadata": {},
   "source": [
    "### Full option: \n",
    "\n",
    "* Fit a power law model, having the count of each level as input ... \n",
    "* ... and the number of epochs as an input as well."
   ]
  },
  {
   "cell_type": "code",
   "execution_count": 12,
   "id": "e9ae4c69",
   "metadata": {},
   "outputs": [
    {
     "name": "stdout",
     "output_type": "stream",
     "text": [
      "[0.16963174 0.45698516 0.07259236 0.39221213 0.3249629  0.31030764\n",
      " 0.17913731 0.32224269 0.28989496 0.3057618  0.40227303 0.24561245\n",
      " 0.25580785 0.65264555]\n",
      "25.595307099032244\n"
     ]
    },
    {
     "data": {
      "image/png": "[encoded data removed]",
      "text/plain": [
       "<Figure size 432x288 with 1 Axes>"
      ]
     },
     "metadata": {
      "needs_background": "light"
     },
     "output_type": "display_data"
    },
    {
     "name": "stdout",
     "output_type": "stream",
     "text": [
      "0.8787069608987116\n"
     ]
    }
   ],
   "source": [
    "def func_arctan_exponent_epoch(x, a: float, b: float, c: float, d0:float, d1:float, d2:float, d3:float, d4:float, d5:float, d6:float, d7:float, d8:float, d9:float, d_epochs:float) -> float:\n",
    "    x0 = x[0]\n",
    "    x1 = x[1]\n",
    "    x2 = x[2]\n",
    "    x3 = x[3]\n",
    "    x4 = x[4]\n",
    "    x5 = x[5]\n",
    "    x6 = x[6]\n",
    "    x7 = x[7]\n",
    "    x8 = x[8]\n",
    "    x9 = x[9]\n",
    "    epochs_trained = x[10]\n",
    "    result = a + (2 / np.pi) * np.arctan(b * (d0*x0 + d1*x1 + d2*x2 + d3*x3 + d4*x4 + d5*x5 + d6*x6 + d7*x7 + d8*x8 + d9*x9 + d_epochs*epochs_trained) + c)\n",
    "    return result\n",
    "\n",
    "\n",
    "p0 = np.random.uniform(low=0, high=1, size = 14)\n",
    "converged = False\n",
    "try:\n",
    "    params, params_cov = curve_fit(func_arctan_exponent_epoch, xdata, y, maxfev=200000, p0=p0, bounds=(-10, 10))\n",
    "    converged = True\n",
    "except:\n",
    "    print(\"did not converge\")\n",
    "\n",
    "if converged:\n",
    "    print(params)\n",
    "    y_hat = func_arctan_exponent_epoch(xdata, params[0], params[1], params[2], params[3], params[4], params[5], params[6], params[7], params[8], params[9], params[10], params[11], params[12], params[13])\n",
    "    print(((y_hat - y)**2).sum())\n",
    "    # dataframe for plotting:\n",
    "    results[\"accs_hat\"] = y_hat\n",
    "\n",
    "    sns.scatterplot(data = results, x=\"accs\", y = \"accs_hat\", hue = \"epochs_trained\")\n",
    "    plt.xlim((0.05, 0.9))\n",
    "    plt.ylim((0.05, 0.9))\n",
    "    plt.axline((0, 0), slope=1, color=\"black\", linestyle=(0, (5, 5)))\n",
    "    plt.show()\n",
    "\n",
    "    print(metrics.r2_score(results.accs, results.accs_hat))\n"
   ]
  },
  {
   "cell_type": "markdown",
   "id": "af52ddf1",
   "metadata": {},
   "source": [
    "# using all epochs, but just overall training dataset size:"
   ]
  },
  {
   "cell_type": "code",
   "execution_count": 13,
   "id": "d29a459e",
   "metadata": {},
   "outputs": [
    {
     "name": "stdout",
     "output_type": "stream",
     "text": [
      "[-0.04211011  1.19290455  0.80168488  0.973556    0.82760444]\n",
      "88.07633916341413\n"
     ]
    },
    {
     "data": {
      "image/png": "[encoded data removed]",
      "text/plain": [
       "<Figure size 432x288 with 1 Axes>"
      ]
     },
     "metadata": {
      "needs_background": "light"
     },
     "output_type": "display_data"
    },
    {
     "name": "stdout",
     "output_type": "stream",
     "text": [
      "0.5826169692470597\n"
     ]
    }
   ],
   "source": [
    "def func_arctan_exponent_epoch(x, a: float, b: float, c: float, d_total_n:float, d_epochs:float) -> float:\n",
    "    x_total_n = x[0]\n",
    "    x_epoch = x[1]\n",
    "    result = a + (2 / np.pi) * np.arctan(b * (d_total_n * x_total_n + d_epochs * x_epoch) + c)\n",
    "    return result\n",
    "\n",
    "\n",
    "p0 = np.random.uniform(low=0, high=1, size = 5)\n",
    "converged = False\n",
    "try:\n",
    "    params, params_cov = curve_fit(func_arctan_exponent_epoch, xdata, y, maxfev=200000, p0=p0, bounds=(-10, 10))\n",
    "    converged = True\n",
    "except:\n",
    "    print(\"did not converge\")\n",
    "\n",
    "if converged:\n",
    "    print(params)\n",
    "    y_hat = func_arctan_exponent_epoch(xdata, params[0], params[1], params[2], params[3], params[4])\n",
    "    print(((y_hat - y)**2).sum())\n",
    "    # dataframe for plotting:\n",
    "    results[\"accs_hat_total_n_epoch\"] = y_hat\n",
    "    sns.scatterplot(data = results, x=\"accs\", y = \"accs_hat_total_n_epoch\", hue = \"total_training_size\")\n",
    "    plt.xlim((0.05, 0.9))\n",
    "    plt.ylim((0.05, 0.9))\n",
    "    plt.axline((0, 0), slope=1, color=\"black\", linestyle=(0, (5, 5)))\n",
    "    plt.show()\n",
    "    print(metrics.r2_score(results.accs, results.accs_hat_total_n_epoch))\n"
   ]
  }
 ],
 "metadata": {
  "kernelspec": {
   "display_name": "Python 3.8.10 64-bit ('venv_events_3810')",
   "language": "python",
   "name": "python3"
  },
  "language_info": {
   "codemirror_mode": {
    "name": "ipython",
    "version": 3
   },
   "file_extension": ".py",
   "mimetype": "text/x-python",
   "name": "python",
   "nbconvert_exporter": "python",
   "pygments_lexer": "ipython3",
   "version": "3.8.10"
  },
  "vscode": {
   "interpreter": {
    "hash": "c9bcba196a01498016ccd64548f4c665ee450ddca7e9d0b8c7efd8e8a933354c"
   }
  }
 },
 "nbformat": 4,
 "nbformat_minor": 5
}
