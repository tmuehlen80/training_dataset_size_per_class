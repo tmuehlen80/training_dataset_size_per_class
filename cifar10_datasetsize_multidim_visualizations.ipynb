{
 "cells": [
  {
   "cell_type": "code",
   "execution_count": 1,
   "id": "4619b589-aed6-47a2-ab8d-c9b9320f367d",
   "metadata": {},
   "outputs": [
    {
     "data": {
      "text/plain": [
       "'/home/tmuehlenstaedt/ds_experiments/ds_experiments/training_dataset_size_per_class'"
      ]
     },
     "execution_count": 1,
     "metadata": {},
     "output_type": "execute_result"
    }
   ],
   "source": [
    "import pandas as pd\n",
    "pd.set_option(\"display.max_columns\", None)\n",
    "pd.set_option(\"display.max_rows\", None)\n",
    "from IPython.display import HTML\n",
    "from IPython.display import display\n",
    "import numpy as np\n",
    "import warnings\n",
    "from pandas.core.common import SettingWithCopyWarning\n",
    "warnings.simplefilter(action=\"ignore\", category=SettingWithCopyWarning)\n",
    "warnings.simplefilter(action=\"ignore\", category=FutureWarning)\n",
    "import matplotlib.pyplot as plt\n",
    "import seaborn as sns\n",
    "import os\n",
    "import seaborn as sns\n",
    "\n",
    "from scipy.optimize import curve_fit\n",
    "os.chdir(\"..\")\n",
    "os.getcwd()"
   ]
  },
  {
   "cell_type": "code",
   "execution_count": 2,
   "id": "3c18ed0a",
   "metadata": {},
   "outputs": [
    {
     "data": {
      "text/plain": [
       "'/home/tmuehlenstaedt/ds_experiments/ds_experiments/training_dataset_size_per_class'"
      ]
     },
     "execution_count": 2,
     "metadata": {},
     "output_type": "execute_result"
    }
   ],
   "source": [
    "os.getcwd()"
   ]
  },
  {
   "attachments": {},
   "cell_type": "markdown",
   "id": "f9306df2",
   "metadata": {},
   "source": [
    "### Purpose of this notebook: \n",
    "\n",
    "### Visualize training dataset size data."
   ]
  },
  {
   "cell_type": "markdown",
   "id": "6fa5f5dd",
   "metadata": {},
   "source": [
    "### Analyze full trainings:"
   ]
  },
  {
   "cell_type": "code",
   "execution_count": 3,
   "id": "87d15fe6",
   "metadata": {},
   "outputs": [
    {
     "data": {
      "text/html": [
       "<div>\n",
       "<style scoped>\n",
       "    .dataframe tbody tr th:only-of-type {\n",
       "        vertical-align: middle;\n",
       "    }\n",
       "\n",
       "    .dataframe tbody tr th {\n",
       "        vertical-align: top;\n",
       "    }\n",
       "\n",
       "    .dataframe thead th {\n",
       "        text-align: right;\n",
       "    }\n",
       "</style>\n",
       "<table border=\"1\" class=\"dataframe\">\n",
       "  <thead>\n",
       "    <tr style=\"text-align: right;\">\n",
       "      <th></th>\n",
       "      <th>itterations</th>\n",
       "      <th>accs</th>\n",
       "      <th>epoch</th>\n",
       "      <th>train_loss</th>\n",
       "      <th>val_loss</th>\n",
       "    </tr>\n",
       "  </thead>\n",
       "  <tbody>\n",
       "    <tr>\n",
       "      <th>0</th>\n",
       "      <td>0</td>\n",
       "      <td>39.09</td>\n",
       "      <td>0</td>\n",
       "      <td>254.960692</td>\n",
       "      <td>33.214724</td>\n",
       "    </tr>\n",
       "    <tr>\n",
       "      <th>1</th>\n",
       "      <td>0</td>\n",
       "      <td>61.42</td>\n",
       "      <td>5</td>\n",
       "      <td>114.581980</td>\n",
       "      <td>21.835759</td>\n",
       "    </tr>\n",
       "  </tbody>\n",
       "</table>\n",
       "</div>"
      ],
      "text/plain": [
       "   itterations   accs  epoch  train_loss   val_loss\n",
       "0            0  39.09      0  254.960692  33.214724\n",
       "1            0  61.42      5  114.581980  21.835759"
      ]
     },
     "execution_count": 3,
     "metadata": {},
     "output_type": "execute_result"
    }
   ],
   "source": [
    "results = pd.read_csv(\"csv_files/Cifar10_acc_full_train_10_iterations_20230714.csv\")\n",
    "results.head(2)"
   ]
  },
  {
   "cell_type": "code",
   "execution_count": 4,
   "id": "b9f69322",
   "metadata": {},
   "outputs": [
    {
     "data": {
      "text/plain": [
       "[0, 1, 2, 3, 4, 5, 6, 7, 8, 9]"
      ]
     },
     "execution_count": 4,
     "metadata": {},
     "output_type": "execute_result"
    }
   ],
   "source": [
    "iterations = results.itterations.unique().tolist()\n",
    "iterations"
   ]
  },
  {
   "cell_type": "code",
   "execution_count": 5,
   "id": "7dc6d5e7",
   "metadata": {},
   "outputs": [
    {
     "data": {
      "image/png": "[encoded data removed]",
      "text/plain": [
       "<Figure size 432x288 with 1 Axes>"
      ]
     },
     "metadata": {
      "needs_background": "light"
     },
     "output_type": "display_data"
    }
   ],
   "source": [
    "for it in iterations:\n",
    "    mask = results.itterations == it\n",
    "    plt.plot(results[mask].epoch, results[mask].accs / 100, label=it)\n",
    "    plt.ylim((0, 0.9))\n",
    "\n",
    "plt.xlabel(\"epochs trained\")\n",
    "plt.ylabel(\"test set accuracy\")\n",
    "plt.title(\"Cifar10 test accury for 10 iterations of full dataset trainings.\")\n",
    "plt.savefig(\"paper/plots/Cifar10_full_dataset_acc_vs_epoch.jpg\")\n",
    "plt.show()\n"
   ]
  },
  {
   "cell_type": "markdown",
   "id": "060e0c70",
   "metadata": {},
   "source": [
    "### Analyze different subset sizes:"
   ]
  },
  {
   "cell_type": "code",
   "execution_count": 6,
   "id": "2e40cca8",
   "metadata": {},
   "outputs": [
    {
     "name": "stdout",
     "output_type": "stream",
     "text": [
      "(10800, 13)\n"
     ]
    },
    {
     "data": {
      "text/html": [
       "<div>\n",
       "<style scoped>\n",
       "    .dataframe tbody tr th:only-of-type {\n",
       "        vertical-align: middle;\n",
       "    }\n",
       "\n",
       "    .dataframe tbody tr th {\n",
       "        vertical-align: top;\n",
       "    }\n",
       "\n",
       "    .dataframe thead th {\n",
       "        text-align: right;\n",
       "    }\n",
       "</style>\n",
       "<table border=\"1\" class=\"dataframe\">\n",
       "  <thead>\n",
       "    <tr style=\"text-align: right;\">\n",
       "      <th></th>\n",
       "      <th>accs</th>\n",
       "      <th>training_times</th>\n",
       "      <th>plane</th>\n",
       "      <th>car</th>\n",
       "      <th>bird</th>\n",
       "      <th>cat</th>\n",
       "      <th>deer</th>\n",
       "      <th>dog</th>\n",
       "      <th>frog</th>\n",
       "      <th>horse</th>\n",
       "      <th>ship</th>\n",
       "      <th>truck</th>\n",
       "      <th>epochs_trained</th>\n",
       "    </tr>\n",
       "  </thead>\n",
       "  <tbody>\n",
       "    <tr>\n",
       "      <th>0</th>\n",
       "      <td>0.1006</td>\n",
       "      <td>0.868126</td>\n",
       "      <td>145.0</td>\n",
       "      <td>31.0</td>\n",
       "      <td>97.0</td>\n",
       "      <td>496.0</td>\n",
       "      <td>1096.0</td>\n",
       "      <td>307.0</td>\n",
       "      <td>2382.0</td>\n",
       "      <td>9.0</td>\n",
       "      <td>373.0</td>\n",
       "      <td>63.0</td>\n",
       "      <td>0</td>\n",
       "    </tr>\n",
       "    <tr>\n",
       "      <th>1</th>\n",
       "      <td>0.1314</td>\n",
       "      <td>4.390345</td>\n",
       "      <td>145.0</td>\n",
       "      <td>31.0</td>\n",
       "      <td>97.0</td>\n",
       "      <td>496.0</td>\n",
       "      <td>1096.0</td>\n",
       "      <td>307.0</td>\n",
       "      <td>2382.0</td>\n",
       "      <td>9.0</td>\n",
       "      <td>373.0</td>\n",
       "      <td>63.0</td>\n",
       "      <td>5</td>\n",
       "    </tr>\n",
       "  </tbody>\n",
       "</table>\n",
       "</div>"
      ],
      "text/plain": [
       "     accs  training_times  plane   car  bird    cat    deer    dog    frog  \\\n",
       "0  0.1006        0.868126  145.0  31.0  97.0  496.0  1096.0  307.0  2382.0   \n",
       "1  0.1314        4.390345  145.0  31.0  97.0  496.0  1096.0  307.0  2382.0   \n",
       "\n",
       "   horse   ship  truck  epochs_trained  \n",
       "0    9.0  373.0   63.0               0  \n",
       "1    9.0  373.0   63.0               5  "
      ]
     },
     "execution_count": 6,
     "metadata": {},
     "output_type": "execute_result"
    }
   ],
   "source": [
    "#results = pd.read_csv(\"Cifar10_acc_subsets_thomas_batch_size_512_mixture_design_20230628.csv\")\n",
    "results = pd.read_csv(\"csv_files/Cifar10_acc_subsets_thomas_batch_size_512_mixture_design_maximin_subsetsize_45000_20230705.csv\")\n",
    "print(results.shape)\n",
    "results.head(2)"
   ]
  },
  {
   "cell_type": "code",
   "execution_count": 7,
   "id": "599a26e2",
   "metadata": {},
   "outputs": [
    {
     "data": {
      "text/html": [
       "<div>\n",
       "<style scoped>\n",
       "    .dataframe tbody tr th:only-of-type {\n",
       "        vertical-align: middle;\n",
       "    }\n",
       "\n",
       "    .dataframe tbody tr th {\n",
       "        vertical-align: top;\n",
       "    }\n",
       "\n",
       "    .dataframe thead th {\n",
       "        text-align: right;\n",
       "    }\n",
       "</style>\n",
       "<table border=\"1\" class=\"dataframe\">\n",
       "  <thead>\n",
       "    <tr style=\"text-align: right;\">\n",
       "      <th></th>\n",
       "      <th>accs</th>\n",
       "      <th>training_times</th>\n",
       "      <th>plane</th>\n",
       "      <th>car</th>\n",
       "      <th>bird</th>\n",
       "      <th>cat</th>\n",
       "      <th>deer</th>\n",
       "      <th>dog</th>\n",
       "      <th>frog</th>\n",
       "      <th>horse</th>\n",
       "      <th>ship</th>\n",
       "      <th>truck</th>\n",
       "      <th>epochs_trained</th>\n",
       "      <th>row_no</th>\n",
       "      <th>exp_no</th>\n",
       "      <th>n_train</th>\n",
       "    </tr>\n",
       "  </thead>\n",
       "  <tbody>\n",
       "    <tr>\n",
       "      <th>0</th>\n",
       "      <td>0.1006</td>\n",
       "      <td>0.868126</td>\n",
       "      <td>145.0</td>\n",
       "      <td>31.0</td>\n",
       "      <td>97.0</td>\n",
       "      <td>496.0</td>\n",
       "      <td>1096.0</td>\n",
       "      <td>307.0</td>\n",
       "      <td>2382.0</td>\n",
       "      <td>9.0</td>\n",
       "      <td>373.0</td>\n",
       "      <td>63.0</td>\n",
       "      <td>0</td>\n",
       "      <td>0</td>\n",
       "      <td>0.0</td>\n",
       "      <td>5000.0</td>\n",
       "    </tr>\n",
       "    <tr>\n",
       "      <th>1</th>\n",
       "      <td>0.1314</td>\n",
       "      <td>4.390345</td>\n",
       "      <td>145.0</td>\n",
       "      <td>31.0</td>\n",
       "      <td>97.0</td>\n",
       "      <td>496.0</td>\n",
       "      <td>1096.0</td>\n",
       "      <td>307.0</td>\n",
       "      <td>2382.0</td>\n",
       "      <td>9.0</td>\n",
       "      <td>373.0</td>\n",
       "      <td>63.0</td>\n",
       "      <td>5</td>\n",
       "      <td>1</td>\n",
       "      <td>0.0</td>\n",
       "      <td>5000.0</td>\n",
       "    </tr>\n",
       "  </tbody>\n",
       "</table>\n",
       "</div>"
      ],
      "text/plain": [
       "     accs  training_times  plane   car  bird    cat    deer    dog    frog  \\\n",
       "0  0.1006        0.868126  145.0  31.0  97.0  496.0  1096.0  307.0  2382.0   \n",
       "1  0.1314        4.390345  145.0  31.0  97.0  496.0  1096.0  307.0  2382.0   \n",
       "\n",
       "   horse   ship  truck  epochs_trained  row_no  exp_no  n_train  \n",
       "0    9.0  373.0   63.0               0       0     0.0   5000.0  \n",
       "1    9.0  373.0   63.0               5       1     0.0   5000.0  "
      ]
     },
     "execution_count": 7,
     "metadata": {},
     "output_type": "execute_result"
    }
   ],
   "source": [
    "results[\"row_no\"] = results.reset_index().index\n",
    "#results[\"exp_no\"] = np.floor(results.row_no % 40)\n",
    "results[\"exp_no\"] = np.floor(results.row_no / 40)\n",
    "results[\"n_train\"] = np.round(results[[\"plane\", \"car\", \"bird\", \"cat\", \"deer\", \"dog\", \"frog\", \"horse\", \"ship\", \"truck\"]].sum(axis=1), -1)\n",
    "results.head(2)\n"
   ]
  },
  {
   "cell_type": "code",
   "execution_count": 8,
   "id": "a9629b5c",
   "metadata": {},
   "outputs": [
    {
     "data": {
      "image/png": "[encoded data removed]",
      "text/plain": [
       "<Figure size 432x288 with 1 Axes>"
      ]
     },
     "metadata": {
      "needs_background": "light"
     },
     "output_type": "display_data"
    }
   ],
   "source": [
    "# visualize the test accs for the latest epoch:\n",
    "mask = results.epochs_trained == 195\n",
    "plt.scatter(results[mask].n_train, results[mask].accs)\n",
    "plt.xlabel(\"training dataset size\")\n",
    "plt.ylabel(\"test accuracy @195 epochs\")\n",
    "plt.title(\"Test accuracies for different training dataset sizes.\")\n",
    "plt.savefig(\"paper/plots/Cifar10_training_datasetsize_vs_test_acc.jpg\")\n",
    "plt.show()\n"
   ]
  },
  {
   "cell_type": "code",
   "execution_count": 12,
   "id": "266e58fe",
   "metadata": {},
   "outputs": [
    {
     "name": "stdout",
     "output_type": "stream",
     "text": [
      "1080\n"
     ]
    },
    {
     "data": {
      "image/png": "[encoded data removed]",
      "text/plain": [
       "<Figure size 432x288 with 1 Axes>"
      ]
     },
     "metadata": {
      "needs_background": "light"
     },
     "output_type": "display_data"
    }
   ],
   "source": [
    "# visualize the test accs for the latest epoch:\n",
    "mask = (results.epochs_trained == 195) | (results.epochs_trained == 150) | (results.epochs_trained == 100) | (results.epochs_trained == 50)\n",
    "print(mask.sum())\n",
    "plt.scatter(results[mask].n_train, results[mask].accs)\n",
    "plt.xlabel(\"training dataset size\")\n",
    "plt.ylabel(\"test accuracy @195/150/100 epochs\")\n",
    "plt.title(\"Test accuracies for different training dataset sizes.\")\n",
    "plt.savefig(\"paper/plots/Cifar10_training_datasetsize_vs_test_acc_different_epochs.jpg\")\n",
    "plt.show()"
   ]
  },
  {
   "cell_type": "code",
   "execution_count": null,
   "id": "1531e420",
   "metadata": {},
   "outputs": [],
   "source": [
    "n_trains = results.n_train.unique().tolist()\n",
    "n_trains\n",
    "exp_nos = results.exp_no.unique().tolist()\n",
    "n_train = n_trains[0]\n",
    "#exp_no = exp_nos[0]\n",
    "#results[mask]\n",
    "\n",
    "for n_train in n_trains:\n",
    "    for exp_no in exp_nos: \n",
    "        mask = (results.n_train == n_train) & (results.exp_no == exp_no)\n",
    "        plt.plot(results[mask].epochs_trained, results[mask].accs, label=exp_no)\n",
    "    plt.title(f\"subset size = {int(n_train)}\")\n",
    "    plt.ylim((0, 0.9))\n",
    "    plt.xlabel(\"epoch\")\n",
    "    plt.ylabel(\"test accuracy\")\n",
    "    plt.savefig(f\"paper/plots/test_acc_vs_epoch_subset_size_{int(n_train)}.jpg\")\n",
    "    plt.show()\n"
   ]
  },
  {
   "cell_type": "code",
   "execution_count": null,
   "id": "4cc05cd8",
   "metadata": {},
   "outputs": [],
   "source": [
    "# Visualize all data in one plot:\n",
    "results.head(2)\n",
    "plt.figure(figsize=(15,10))\n",
    "sns.scatterplot(data=results, x=\"epochs_trained\", y=\"accs\", hue=\"n_train\")\n",
    "plt.show()\n"
   ]
  },
  {
   "cell_type": "code",
   "execution_count": null,
   "id": "3fdc52ec",
   "metadata": {},
   "outputs": [],
   "source": [
    "# visualize the designs:\n",
    "results.head(2)\n"
   ]
  },
  {
   "cell_type": "code",
   "execution_count": null,
   "id": "39c514b1",
   "metadata": {},
   "outputs": [],
   "source": [
    "results.n_train.unique()\n",
    "mask = results.n_train == 5000\n",
    "classes = [\"plane\", \"car\", \"bird\", \"cat\", \"deer\", \"dog\", \"frog\", \"horse\", \"ship\", \"truck\"]\n",
    "doe = results[mask][classes].drop_duplicates().reset_index(drop=True)\n",
    "sns.pairplot(doe)\n",
    "plt.show()"
   ]
  },
  {
   "cell_type": "code",
   "execution_count": null,
   "id": "7bdc5fce",
   "metadata": {},
   "outputs": [],
   "source": [
    "results.n_train.unique()\n",
    "mask = results.n_train == 45000\n",
    "classes = [\"plane\", \"car\", \"bird\", \"cat\", \"deer\", \"dog\", \"frog\", \"horse\", \"ship\", \"truck\"]\n",
    "doe = results[mask][classes].drop_duplicates().reset_index(drop=True)\n",
    "sns.pairplot(doe)\n",
    "plt.show()"
   ]
  }
 ],
 "metadata": {
  "kernelspec": {
   "display_name": "Python 3.8.10 64-bit ('venv_events_3810')",
   "language": "python",
   "name": "python3"
  },
  "language_info": {
   "codemirror_mode": {
    "name": "ipython",
    "version": 3
   },
   "file_extension": ".py",
   "mimetype": "text/x-python",
   "name": "python",
   "nbconvert_exporter": "python",
   "pygments_lexer": "ipython3",
   "version": "3.8.10"
  },
  "vscode": {
   "interpreter": {
    "hash": "c9bcba196a01498016ccd64548f4c665ee450ddca7e9d0b8c7efd8e8a933354c"
   }
  }
 },
 "nbformat": 4,
 "nbformat_minor": 5
}
