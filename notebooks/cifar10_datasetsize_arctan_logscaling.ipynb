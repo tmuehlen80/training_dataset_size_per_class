{
 "cells": [
  {
   "cell_type": "code",
   "execution_count": 1,
   "id": "d4517095",
   "metadata": {},
   "outputs": [
    {
     "name": "stdout",
     "output_type": "stream",
     "text": [
      "3.8.10\n"
     ]
    }
   ],
   "source": [
    "import pandas as pd\n",
    "pd.set_option(\"display.max_columns\", None)\n",
    "from IPython.display import HTML\n",
    "from IPython.display import display\n",
    "import numpy as np\n",
    "import warnings\n",
    "from pandas.core.common import SettingWithCopyWarning\n",
    "warnings.simplefilter(action=\"ignore\", category=SettingWithCopyWarning)\n",
    "warnings.simplefilter(action=\"ignore\", category=FutureWarning)\n",
    "import matplotlib.pyplot as plt\n",
    "import seaborn as sns\n",
    "import os\n",
    "\n",
    "from scipy.optimize import curve_fit\n",
    "\n",
    "from sklearn import preprocessing\n",
    "from sklearn import metrics\n",
    "os.chdir(\"..\")\n",
    "os.getcwd()\n",
    "\n",
    "from platform import python_version\n",
    "print(python_version())\n",
    "\n",
    "import importlib.util\n",
    "\n",
    "\n",
    "spec_data_pred = importlib.util.spec_from_file_location(\"data_pred\", \"src/data_prep.py\")\n",
    "prep_data = importlib.util.module_from_spec(spec_data_pred)\n",
    "spec_data_pred.loader.exec_module(prep_data)\n",
    "\n",
    "spec_plotting_printing = importlib.util.spec_from_file_location(\"plotting_printing\", \"src/plotting_printing.py\")\n",
    "plotting_printing = importlib.util.module_from_spec(spec_plotting_printing)\n",
    "spec_plotting_printing.loader.exec_module(plotting_printing)"
   ]
  },
  {
   "cell_type": "code",
   "execution_count": 2,
   "metadata": {},
   "outputs": [
    {
     "data": {
      "text/plain": [
       "'/home/ubuntu/repos/training_dataset_size_per_class'"
      ]
     },
     "execution_count": 2,
     "metadata": {},
     "output_type": "execute_result"
    }
   ],
   "source": [
    "os.getcwd()"
   ]
  },
  {
   "cell_type": "markdown",
   "id": "cd9c014f",
   "metadata": {},
   "source": [
    "### Purpose of this notebook: \n",
    "\n",
    "# Doing exeriments with different scaling laws"
   ]
  },
  {
   "cell_type": "markdown",
   "id": "7ec15a07",
   "metadata": {},
   "source": [
    "# Data prep"
   ]
  },
  {
   "cell_type": "markdown",
   "id": "cfdf49b4",
   "metadata": {},
   "source": [
    "Please run `cifar10_datasetsize_multidim.py` before running this notebook.\n"
   ]
  },
  {
   "cell_type": "code",
   "execution_count": 3,
   "id": "c88e35e0",
   "metadata": {},
   "outputs": [],
   "source": [
    "model_type = \"arctan_all_epochs\"\n",
    "save_plots = False"
   ]
  },
  {
   "cell_type": "code",
   "execution_count": 4,
   "metadata": {},
   "outputs": [],
   "source": [
    "results_from_file = pd.read_csv(\"csv_files/Cifar10_acc_subsets_jf_batch_size_512_reset_fc_output_size_mixture_design_maximin_20230927.csv\")\n",
    "results_val_from_file = pd.read_csv(\"csv_files/Cifar10_val_acc_subsets_thomas_batch_size_512_reset_fc_output_size_mixture_design_maximin_20231103.csv\")\n",
    "# the following may need to be recalculated?\n",
    "results_4500_from_file = pd.read_csv(\"csv_files/Cifar10_acc_subsets_jelena_batch_size_512_mixture_design_maximin_subsetsize_4500_20230715.csv\")\n"
   ]
  },
  {
   "cell_type": "code",
   "execution_count": 5,
   "id": "bbd13414",
   "metadata": {},
   "outputs": [
    {
     "name": "stdout",
     "output_type": "stream",
     "text": [
      "['plane', 'car', 'bird', 'cat', 'deer', 'dog', 'frog', 'horse', 'ship', 'truck']\n",
      "\\begin{tabular}{lrrrrrrrrrrrrr}\n",
      "\\toprule\n",
      "{} &  accs &  plane &   car &  bird &    cat &  deer &    dog &   frog &   horse &   ship &  truck &  epochs\\_trained &  total\\_training\\_size \\\\\n",
      "\\midrule\n",
      "0 &  0.37 & 888.00 & 99.00 & 93.00 & 459.00 & 93.00 & 674.00 & 351.00 & 1257.00 & 541.00 & 545.00 &              20 &              5000.00 \\\\\n",
      "1 &  0.39 & 888.00 & 99.00 & 93.00 & 459.00 & 93.00 & 674.00 & 351.00 & 1257.00 & 541.00 & 545.00 &              25 &              5000.00 \\\\\n",
      "2 &  0.32 & 888.00 & 99.00 & 93.00 & 459.00 & 93.00 & 674.00 & 351.00 & 1257.00 & 541.00 & 545.00 &              30 &              5000.00 \\\\\n",
      "3 &  0.40 & 888.00 & 99.00 & 93.00 & 459.00 & 93.00 & 674.00 & 351.00 & 1257.00 & 541.00 & 545.00 &              35 &              5000.00 \\\\\n",
      "4 &  0.42 & 888.00 & 99.00 & 93.00 & 459.00 & 93.00 & 674.00 & 351.00 & 1257.00 & 541.00 & 545.00 &              40 &              5000.00 \\\\\n",
      "\\bottomrule\n",
      "\\end{tabular}\n",
      "\n"
     ]
    },
    {
     "data": {
      "text/html": [
       "<div>\n",
       "<style scoped>\n",
       "    .dataframe tbody tr th:only-of-type {\n",
       "        vertical-align: middle;\n",
       "    }\n",
       "\n",
       "    .dataframe tbody tr th {\n",
       "        vertical-align: top;\n",
       "    }\n",
       "\n",
       "    .dataframe thead th {\n",
       "        text-align: right;\n",
       "    }\n",
       "</style>\n",
       "<table border=\"1\" class=\"dataframe\">\n",
       "  <thead>\n",
       "    <tr style=\"text-align: right;\">\n",
       "      <th></th>\n",
       "      <th>itterations</th>\n",
       "      <th>accs</th>\n",
       "      <th>training_times</th>\n",
       "      <th>plane</th>\n",
       "      <th>car</th>\n",
       "      <th>bird</th>\n",
       "      <th>cat</th>\n",
       "      <th>deer</th>\n",
       "      <th>dog</th>\n",
       "      <th>frog</th>\n",
       "      <th>horse</th>\n",
       "      <th>ship</th>\n",
       "      <th>truck</th>\n",
       "      <th>epochs_trained</th>\n",
       "      <th>total_training_size</th>\n",
       "    </tr>\n",
       "  </thead>\n",
       "  <tbody>\n",
       "    <tr>\n",
       "      <th>0</th>\n",
       "      <td>0</td>\n",
       "      <td>0.7703</td>\n",
       "      <td>95.387190</td>\n",
       "      <td>5000.0</td>\n",
       "      <td>4500.0</td>\n",
       "      <td>4500.0</td>\n",
       "      <td>4500.0</td>\n",
       "      <td>4500.0</td>\n",
       "      <td>4500.0</td>\n",
       "      <td>4500.0</td>\n",
       "      <td>4500.0</td>\n",
       "      <td>4500.0</td>\n",
       "      <td>4500.0</td>\n",
       "      <td>20</td>\n",
       "      <td>45500.0</td>\n",
       "    </tr>\n",
       "    <tr>\n",
       "      <th>1</th>\n",
       "      <td>0</td>\n",
       "      <td>0.7833</td>\n",
       "      <td>95.093551</td>\n",
       "      <td>5000.0</td>\n",
       "      <td>4500.0</td>\n",
       "      <td>4500.0</td>\n",
       "      <td>4500.0</td>\n",
       "      <td>4500.0</td>\n",
       "      <td>4500.0</td>\n",
       "      <td>4500.0</td>\n",
       "      <td>4500.0</td>\n",
       "      <td>4500.0</td>\n",
       "      <td>4500.0</td>\n",
       "      <td>25</td>\n",
       "      <td>45500.0</td>\n",
       "    </tr>\n",
       "    <tr>\n",
       "      <th>2</th>\n",
       "      <td>0</td>\n",
       "      <td>0.7774</td>\n",
       "      <td>94.994801</td>\n",
       "      <td>5000.0</td>\n",
       "      <td>4500.0</td>\n",
       "      <td>4500.0</td>\n",
       "      <td>4500.0</td>\n",
       "      <td>4500.0</td>\n",
       "      <td>4500.0</td>\n",
       "      <td>4500.0</td>\n",
       "      <td>4500.0</td>\n",
       "      <td>4500.0</td>\n",
       "      <td>4500.0</td>\n",
       "      <td>30</td>\n",
       "      <td>45500.0</td>\n",
       "    </tr>\n",
       "    <tr>\n",
       "      <th>3</th>\n",
       "      <td>0</td>\n",
       "      <td>0.7967</td>\n",
       "      <td>94.904114</td>\n",
       "      <td>5000.0</td>\n",
       "      <td>4500.0</td>\n",
       "      <td>4500.0</td>\n",
       "      <td>4500.0</td>\n",
       "      <td>4500.0</td>\n",
       "      <td>4500.0</td>\n",
       "      <td>4500.0</td>\n",
       "      <td>4500.0</td>\n",
       "      <td>4500.0</td>\n",
       "      <td>4500.0</td>\n",
       "      <td>35</td>\n",
       "      <td>45500.0</td>\n",
       "    </tr>\n",
       "    <tr>\n",
       "      <th>4</th>\n",
       "      <td>0</td>\n",
       "      <td>0.8035</td>\n",
       "      <td>95.364757</td>\n",
       "      <td>5000.0</td>\n",
       "      <td>4500.0</td>\n",
       "      <td>4500.0</td>\n",
       "      <td>4500.0</td>\n",
       "      <td>4500.0</td>\n",
       "      <td>4500.0</td>\n",
       "      <td>4500.0</td>\n",
       "      <td>4500.0</td>\n",
       "      <td>4500.0</td>\n",
       "      <td>4500.0</td>\n",
       "      <td>40</td>\n",
       "      <td>45500.0</td>\n",
       "    </tr>\n",
       "  </tbody>\n",
       "</table>\n",
       "</div>"
      ],
      "text/plain": [
       "   itterations    accs  training_times   plane     car    bird     cat  \\\n",
       "0            0  0.7703       95.387190  5000.0  4500.0  4500.0  4500.0   \n",
       "1            0  0.7833       95.093551  5000.0  4500.0  4500.0  4500.0   \n",
       "2            0  0.7774       94.994801  5000.0  4500.0  4500.0  4500.0   \n",
       "3            0  0.7967       94.904114  5000.0  4500.0  4500.0  4500.0   \n",
       "4            0  0.8035       95.364757  5000.0  4500.0  4500.0  4500.0   \n",
       "\n",
       "     deer     dog    frog   horse    ship   truck  epochs_trained  \\\n",
       "0  4500.0  4500.0  4500.0  4500.0  4500.0  4500.0              20   \n",
       "1  4500.0  4500.0  4500.0  4500.0  4500.0  4500.0              25   \n",
       "2  4500.0  4500.0  4500.0  4500.0  4500.0  4500.0              30   \n",
       "3  4500.0  4500.0  4500.0  4500.0  4500.0  4500.0              35   \n",
       "4  4500.0  4500.0  4500.0  4500.0  4500.0  4500.0              40   \n",
       "\n",
       "   total_training_size  \n",
       "0              45500.0  \n",
       "1              45500.0  \n",
       "2              45500.0  \n",
       "3              45500.0  \n",
       "4              45500.0  "
      ]
     },
     "metadata": {},
     "output_type": "display_data"
    },
    {
     "name": "stdout",
     "output_type": "stream",
     "text": [
      "(12, 10800)\n"
     ]
    },
    {
     "data": {
      "text/html": [
       "<div>\n",
       "<style scoped>\n",
       "    .dataframe tbody tr th:only-of-type {\n",
       "        vertical-align: middle;\n",
       "    }\n",
       "\n",
       "    .dataframe tbody tr th {\n",
       "        vertical-align: top;\n",
       "    }\n",
       "\n",
       "    .dataframe thead th {\n",
       "        text-align: right;\n",
       "    }\n",
       "</style>\n",
       "<table border=\"1\" class=\"dataframe\">\n",
       "  <thead>\n",
       "    <tr style=\"text-align: right;\">\n",
       "      <th></th>\n",
       "      <th>itterations</th>\n",
       "      <th>accs</th>\n",
       "      <th>training_times</th>\n",
       "      <th>plane</th>\n",
       "      <th>car</th>\n",
       "      <th>bird</th>\n",
       "      <th>cat</th>\n",
       "      <th>deer</th>\n",
       "      <th>dog</th>\n",
       "      <th>frog</th>\n",
       "      <th>horse</th>\n",
       "      <th>ship</th>\n",
       "      <th>truck</th>\n",
       "      <th>epochs_trained</th>\n",
       "      <th>total_training_size</th>\n",
       "    </tr>\n",
       "  </thead>\n",
       "  <tbody>\n",
       "    <tr>\n",
       "      <th>0</th>\n",
       "      <td>0</td>\n",
       "      <td>0.7703</td>\n",
       "      <td>95.387190</td>\n",
       "      <td>5000.0</td>\n",
       "      <td>4500.0</td>\n",
       "      <td>4500.0</td>\n",
       "      <td>4500.0</td>\n",
       "      <td>4500.0</td>\n",
       "      <td>4500.0</td>\n",
       "      <td>4500.0</td>\n",
       "      <td>4500.0</td>\n",
       "      <td>4500.0</td>\n",
       "      <td>4500.0</td>\n",
       "      <td>20</td>\n",
       "      <td>45500.0</td>\n",
       "    </tr>\n",
       "    <tr>\n",
       "      <th>1</th>\n",
       "      <td>0</td>\n",
       "      <td>0.7833</td>\n",
       "      <td>95.093551</td>\n",
       "      <td>5000.0</td>\n",
       "      <td>4500.0</td>\n",
       "      <td>4500.0</td>\n",
       "      <td>4500.0</td>\n",
       "      <td>4500.0</td>\n",
       "      <td>4500.0</td>\n",
       "      <td>4500.0</td>\n",
       "      <td>4500.0</td>\n",
       "      <td>4500.0</td>\n",
       "      <td>4500.0</td>\n",
       "      <td>25</td>\n",
       "      <td>45500.0</td>\n",
       "    </tr>\n",
       "    <tr>\n",
       "      <th>2</th>\n",
       "      <td>0</td>\n",
       "      <td>0.7774</td>\n",
       "      <td>94.994801</td>\n",
       "      <td>5000.0</td>\n",
       "      <td>4500.0</td>\n",
       "      <td>4500.0</td>\n",
       "      <td>4500.0</td>\n",
       "      <td>4500.0</td>\n",
       "      <td>4500.0</td>\n",
       "      <td>4500.0</td>\n",
       "      <td>4500.0</td>\n",
       "      <td>4500.0</td>\n",
       "      <td>4500.0</td>\n",
       "      <td>30</td>\n",
       "      <td>45500.0</td>\n",
       "    </tr>\n",
       "    <tr>\n",
       "      <th>3</th>\n",
       "      <td>0</td>\n",
       "      <td>0.7967</td>\n",
       "      <td>94.904114</td>\n",
       "      <td>5000.0</td>\n",
       "      <td>4500.0</td>\n",
       "      <td>4500.0</td>\n",
       "      <td>4500.0</td>\n",
       "      <td>4500.0</td>\n",
       "      <td>4500.0</td>\n",
       "      <td>4500.0</td>\n",
       "      <td>4500.0</td>\n",
       "      <td>4500.0</td>\n",
       "      <td>4500.0</td>\n",
       "      <td>35</td>\n",
       "      <td>45500.0</td>\n",
       "    </tr>\n",
       "    <tr>\n",
       "      <th>4</th>\n",
       "      <td>0</td>\n",
       "      <td>0.8035</td>\n",
       "      <td>95.364757</td>\n",
       "      <td>5000.0</td>\n",
       "      <td>4500.0</td>\n",
       "      <td>4500.0</td>\n",
       "      <td>4500.0</td>\n",
       "      <td>4500.0</td>\n",
       "      <td>4500.0</td>\n",
       "      <td>4500.0</td>\n",
       "      <td>4500.0</td>\n",
       "      <td>4500.0</td>\n",
       "      <td>4500.0</td>\n",
       "      <td>40</td>\n",
       "      <td>45500.0</td>\n",
       "    </tr>\n",
       "  </tbody>\n",
       "</table>\n",
       "</div>"
      ],
      "text/plain": [
       "   itterations    accs  training_times   plane     car    bird     cat  \\\n",
       "0            0  0.7703       95.387190  5000.0  4500.0  4500.0  4500.0   \n",
       "1            0  0.7833       95.093551  5000.0  4500.0  4500.0  4500.0   \n",
       "2            0  0.7774       94.994801  5000.0  4500.0  4500.0  4500.0   \n",
       "3            0  0.7967       94.904114  5000.0  4500.0  4500.0  4500.0   \n",
       "4            0  0.8035       95.364757  5000.0  4500.0  4500.0  4500.0   \n",
       "\n",
       "     deer     dog    frog   horse    ship   truck  epochs_trained  \\\n",
       "0  4500.0  4500.0  4500.0  4500.0  4500.0  4500.0              20   \n",
       "1  4500.0  4500.0  4500.0  4500.0  4500.0  4500.0              25   \n",
       "2  4500.0  4500.0  4500.0  4500.0  4500.0  4500.0              30   \n",
       "3  4500.0  4500.0  4500.0  4500.0  4500.0  4500.0              35   \n",
       "4  4500.0  4500.0  4500.0  4500.0  4500.0  4500.0              40   \n",
       "\n",
       "   total_training_size  \n",
       "0              45500.0  \n",
       "1              45500.0  \n",
       "2              45500.0  \n",
       "3              45500.0  \n",
       "4              45500.0  "
      ]
     },
     "metadata": {},
     "output_type": "display_data"
    }
   ],
   "source": [
    "#results_from_file = pd.read_csv(\"csv_files/Cifar10_acc_subsets_thomas_batch_size_512_mixture_design_maximin_subsetsize_45000_20230705.csv\")\n",
    "#results_val_from_file = pd.read_csv(\"csv_files/Cifar10_acc_subsets_thomas_batch_size_512_mixture_design_maximin_subsetsize_45000_val_20230708.csv\")\n",
    "#results_4500_from_file = pd.read_csv(\"csv_files/Cifar10_acc_subsets_jelena_batch_size_512_mixture_design_maximin_subsetsize_4500_20230715.csv\")\n",
    "\n",
    "#prep_data\n",
    "data_dict = prep_data.prep_data_all_epochs(results_from_file, \n",
    "              results_val_from_file, \n",
    "              results_4500_from_file, \n",
    "              min_epoch = 20)\n",
    "\n",
    "# the following unacks all dict items into a corresonding variable:\n",
    "locals().update(data_dict)"
   ]
  },
  {
   "cell_type": "code",
   "execution_count": 6,
   "id": "d9d5f0f4",
   "metadata": {},
   "outputs": [
    {
     "data": {
      "text/plain": [
       "'otentially to be deleted '"
      ]
     },
     "execution_count": 6,
     "metadata": {},
     "output_type": "execute_result"
    }
   ],
   "source": [
    "\"otentially to be deleted \"\n",
    "#props = dict(boxstyle='round', facecolor='white', alpha=0.5)\n"
   ]
  },
  {
   "cell_type": "markdown",
   "id": "eada4690",
   "metadata": {},
   "source": [
    "### using a logscaling effect with 2 params for every class:"
   ]
  },
  {
   "cell_type": "code",
   "execution_count": 7,
   "id": "58158b00",
   "metadata": {},
   "outputs": [
    {
     "data": {
      "text/plain": [
       "array([1.00733781e-05, 1.34039401e+06, 4.70632048e-05, 7.05647188e+06,\n",
       "       2.69462343e-08, 1.07296070e+07, 1.42726224e-07, 1.19879960e+07,\n",
       "       1.91569473e-06, 9.94695139e+06, 1.11508418e-05, 1.54269106e+07,\n",
       "       9.21839655e-07, 6.07012731e+06, 1.11954195e-06, 1.11185292e+07,\n",
       "       4.10308867e-08, 1.25020036e+07, 5.49304466e-09, 8.86577400e+06,\n",
       "       4.04018311e-09, 1.09602184e+07, 2.40215968e-08, 9.67158257e+07,\n",
       "       3.96246837e-07])"
      ]
     },
     "execution_count": 7,
     "metadata": {},
     "output_type": "execute_result"
    }
   ],
   "source": [
    "y_hat_name = \"accs_hat_classes_logscaling_epoch_logscaling\"\n",
    "\n",
    "def func(x, a: float, b: float, c: float, d0:float, d0_2:float, d1:float, d1_2:float, d2:float, d2_2:float, d3:float, d3_2:float, d4:float, d4_2:float, d5:float, d5_2:float, d6:float, d6_2:float, d7:float, d7_2:float, d8:float, d8_2:float, d9:float, d9_2:float, d_epochs:float, d_epoch_2:float) -> float:\n",
    "    x0 = x[0]\n",
    "    x1 = x[1]\n",
    "    x2 = x[2]\n",
    "    x3 = x[3]\n",
    "    x4 = x[4]\n",
    "    x5 = x[5]\n",
    "    x6 = x[6]\n",
    "    x7 = x[7]\n",
    "    x8 = x[8]\n",
    "    x9 = x[9]\n",
    "    epochs_trained = x[10]\n",
    "    result = a + (2 / np.pi) * np.arctan(b * (d0* np.log(d0_2 + x0) + d1* np.log(d1_2 + x1)  + d2* np.log(d2_2 + x2) + d3 * np.log(d3_2 + x3) + d4 * np.log(d4_2 + x4) + d5 * np.log(d5_2 + x5) + d6 * np.log(d6_2 + x6) + d7 * np.log(d7_2 + x7) + d8 * np.log(d8_2 + x8) + d9 * np.log(d9_2 + x9) + d_epochs*np.log(d_epoch_2 + epochs_trained)) + c)# this one works quite ok for the 45oo examle\n",
    "    return result\n",
    "\n",
    "np.random.seed(seed=421530)\n",
    "n_p = 25\n",
    "p0 = np.random.uniform(low=0.2, high=1, size = n_p)\n",
    "converged = False\n",
    "#try:\n",
    "params, params_cov = curve_fit(func, xdata, y, maxfev=200000, p0=p0, bounds=(1e-5, 50))\n",
    "converged = True\n",
    "#except:\n",
    "#    print(\"did not converge\")\n",
    "np.diag(params_cov)\n"
   ]
  },
  {
   "cell_type": "code",
   "execution_count": 8,
   "id": "e944daf2",
   "metadata": {},
   "outputs": [],
   "source": [
    "#tm = func(xdata_val, *params)\n",
    "#type(tm)\n",
    "#pd.DataFrame(xdata_val.T).loc[pd.Series(tm).isna(),:]"
   ]
  },
  {
   "cell_type": "code",
   "execution_count": 9,
   "id": "747f0c21",
   "metadata": {},
   "outputs": [
    {
     "data": {
      "text/html": [
       "<div>\n",
       "<style scoped>\n",
       "    .dataframe tbody tr th:only-of-type {\n",
       "        vertical-align: middle;\n",
       "    }\n",
       "\n",
       "    .dataframe tbody tr th {\n",
       "        vertical-align: top;\n",
       "    }\n",
       "\n",
       "    .dataframe thead th {\n",
       "        text-align: right;\n",
       "    }\n",
       "</style>\n",
       "<table border=\"1\" class=\"dataframe\">\n",
       "  <thead>\n",
       "    <tr style=\"text-align: right;\">\n",
       "      <th>param_name</th>\n",
       "      <th>a</th>\n",
       "      <th>b</th>\n",
       "      <th>c</th>\n",
       "      <th>plane_1</th>\n",
       "      <th>plane_2</th>\n",
       "      <th>car_1</th>\n",
       "      <th>car_2</th>\n",
       "      <th>bird_1</th>\n",
       "      <th>bird_2</th>\n",
       "      <th>cat_1</th>\n",
       "      <th>cat_2</th>\n",
       "      <th>deer_1</th>\n",
       "      <th>deer_2</th>\n",
       "      <th>dog_1</th>\n",
       "      <th>dog_2</th>\n",
       "      <th>frog_1</th>\n",
       "      <th>frog_2</th>\n",
       "      <th>horse_1</th>\n",
       "      <th>horse_2</th>\n",
       "      <th>ship_1</th>\n",
       "      <th>ship_2</th>\n",
       "      <th>truck_1</th>\n",
       "      <th>truck_2</th>\n",
       "      <th>epoch_1</th>\n",
       "      <th>epoch_2</th>\n",
       "    </tr>\n",
       "  </thead>\n",
       "  <tbody>\n",
       "    <tr>\n",
       "      <th>param_value</th>\n",
       "      <td>0.466887</td>\n",
       "      <td>0.093528</td>\n",
       "      <td>0.709628</td>\n",
       "      <td>0.214594</td>\n",
       "      <td>0.00083</td>\n",
       "      <td>0.264615</td>\n",
       "      <td>0.002706</td>\n",
       "      <td>0.279703</td>\n",
       "      <td>0.016698</td>\n",
       "      <td>0.254782</td>\n",
       "      <td>0.03224</td>\n",
       "      <td>0.317295</td>\n",
       "      <td>0.011882</td>\n",
       "      <td>0.199032</td>\n",
       "      <td>0.006407</td>\n",
       "      <td>0.269369</td>\n",
       "      <td>0.001748</td>\n",
       "      <td>0.285636</td>\n",
       "      <td>0.000433</td>\n",
       "      <td>0.240537</td>\n",
       "      <td>0.000334</td>\n",
       "      <td>0.267444</td>\n",
       "      <td>0.00113</td>\n",
       "      <td>0.79446</td>\n",
       "      <td>0.020388</td>\n",
       "    </tr>\n",
       "  </tbody>\n",
       "</table>\n",
       "</div>"
      ],
      "text/plain": [
       "param_name          a         b         c   plane_1  plane_2     car_1  \\\n",
       "param_value  0.466887  0.093528  0.709628  0.214594  0.00083  0.264615   \n",
       "\n",
       "param_name      car_2    bird_1    bird_2     cat_1    cat_2    deer_1  \\\n",
       "param_value  0.002706  0.279703  0.016698  0.254782  0.03224  0.317295   \n",
       "\n",
       "param_name     deer_2     dog_1     dog_2    frog_1    frog_2   horse_1  \\\n",
       "param_value  0.011882  0.199032  0.006407  0.269369  0.001748  0.285636   \n",
       "\n",
       "param_name    horse_2    ship_1    ship_2   truck_1  truck_2  epoch_1  \\\n",
       "param_value  0.000433  0.240537  0.000334  0.267444  0.00113  0.79446   \n",
       "\n",
       "param_name    epoch_2  \n",
       "param_value  0.020388  "
      ]
     },
     "metadata": {},
     "output_type": "display_data"
    },
    {
     "name": "stdout",
     "output_type": "stream",
     "text": [
      "\\begin{tabular}{lrrrrrrrrrrrrrrrrrrrrrrrrr}\n",
      "\\toprule\n",
      "param\\_name &    a &    b &    c &  plane\\_1 &  plane\\_2 &  car\\_1 &  car\\_2 &  bird\\_1 &  bird\\_2 &  cat\\_1 &  cat\\_2 &  deer\\_1 &  deer\\_2 &  dog\\_1 &  dog\\_2 &  frog\\_1 &  frog\\_2 &  horse\\_1 &  horse\\_2 &  ship\\_1 &  ship\\_2 &  truck\\_1 &  truck\\_2 &  epoch\\_1 &  epoch\\_2 \\\\\n",
      "\\midrule\n",
      "param\\_value & 0.47 & 0.09 & 0.71 &     0.21 &     0.00 &   0.26 &   0.00 &    0.28 &    0.02 &   0.25 &   0.03 &    0.32 &    0.01 &   0.20 &   0.01 &    0.27 &    0.00 &     0.29 &     0.00 &    0.24 &    0.00 &     0.27 &     0.00 &     0.79 &     0.02 \\\\\n",
      "\\bottomrule\n",
      "\\end{tabular}\n",
      "\n",
      "0.0006213033832911595\n"
     ]
    },
    {
     "data": {
      "image/png": "[encoded data removed]",
      "text/plain": [
       "<Figure size 432x288 with 1 Axes>"
      ]
     },
     "metadata": {
      "needs_background": "light"
     },
     "output_type": "display_data"
    },
    {
     "name": "stdout",
     "output_type": "stream",
     "text": [
      "0.9643679525851759\n",
      "mean val loss: nan\n"
     ]
    },
    {
     "name": "stderr",
     "output_type": "stream",
     "text": [
      "/tmp/ipykernel_4349/3383598592.py:15: RuntimeWarning: invalid value encountered in log\n",
      "  result = a + (2 / np.pi) * np.arctan(b * (d0* np.log(d0_2 + x0) + d1* np.log(d1_2 + x1)  + d2* np.log(d2_2 + x2) + d3 * np.log(d3_2 + x3) + d4 * np.log(d4_2 + x4) + d5 * np.log(d5_2 + x5) + d6 * np.log(d6_2 + x6) + d7 * np.log(d7_2 + x7) + d8 * np.log(d8_2 + x8) + d9 * np.log(d9_2 + x9) + d_epochs*np.log(d_epoch_2 + epochs_trained)) + c)# this one works quite ok for the 45oo examle\n"
     ]
    },
    {
     "ename": "ValueError",
     "evalue": "Input contains NaN, infinity or a value too large for dtype('float64').",
     "output_type": "error",
     "traceback": [
      "\u001b[0;31m---------------------------------------------------------------------------\u001b[0m",
      "\u001b[0;31mValueError\u001b[0m                                Traceback (most recent call last)",
      "\u001b[1;32m/home/ubuntu/repos/training_dataset_size_per_class/notebooks/cifar10_datasetsize_arctan_logscaling.ipynb Cell 13\u001b[0m line \u001b[0;36m7\n\u001b[1;32m      <a href='vscode-notebook-cell://ssh-remote%2Bec2-18-196-16-196.eu-central-1.compute.amazonaws.com/home/ubuntu/repos/training_dataset_size_per_class/notebooks/cifar10_datasetsize_arctan_logscaling.ipynb#X13sdnNjb2RlLXJlbW90ZQ%3D%3D?line=3'>4</a>\u001b[0m param_names \u001b[39m=\u001b[39m param_names \u001b[39m+\u001b[39m [\u001b[39m\"\u001b[39m\u001b[39mepoch_1\u001b[39m\u001b[39m\"\u001b[39m, \u001b[39m\"\u001b[39m\u001b[39mepoch_2\u001b[39m\u001b[39m\"\u001b[39m]\n\u001b[1;32m      <a href='vscode-notebook-cell://ssh-remote%2Bec2-18-196-16-196.eu-central-1.compute.amazonaws.com/home/ubuntu/repos/training_dataset_size_per_class/notebooks/cifar10_datasetsize_arctan_logscaling.ipynb#X13sdnNjb2RlLXJlbW90ZQ%3D%3D?line=5'>6</a>\u001b[0m \u001b[39mif\u001b[39;00m converged:\n\u001b[0;32m----> <a href='vscode-notebook-cell://ssh-remote%2Bec2-18-196-16-196.eu-central-1.compute.amazonaws.com/home/ubuntu/repos/training_dataset_size_per_class/notebooks/cifar10_datasetsize_arctan_logscaling.ipynb#X13sdnNjb2RlLXJlbW90ZQ%3D%3D?line=6'>7</a>\u001b[0m     plotting_printing\u001b[39m.\u001b[39;49mplotting_printing_all_epochs(func, model_type, y_hat_name, xdata, y, param_names,  params, results, xdata_val, y_val, results_val, xdata_4500, xdata_pred, results_pred_orig, results_4500, results_4500_orig, saving_plots\u001b[39m=\u001b[39;49msave_plots, is_2param\u001b[39m=\u001b[39;49m\u001b[39mFalse\u001b[39;49;00m)\n\u001b[1;32m      <a href='vscode-notebook-cell://ssh-remote%2Bec2-18-196-16-196.eu-central-1.compute.amazonaws.com/home/ubuntu/repos/training_dataset_size_per_class/notebooks/cifar10_datasetsize_arctan_logscaling.ipynb#X13sdnNjb2RlLXJlbW90ZQ%3D%3D?line=7'>8</a>\u001b[0m     results \u001b[39m=\u001b[39m plotting_printing\u001b[39m.\u001b[39mforward_testing(results_orig, results_orig, results, func, n_p, xdata, y, xdata, y_hat_name, bounds\u001b[39m=\u001b[39m(\u001b[39m1e-5\u001b[39m, \u001b[39m50\u001b[39m))\n\u001b[1;32m      <a href='vscode-notebook-cell://ssh-remote%2Bec2-18-196-16-196.eu-central-1.compute.amazonaws.com/home/ubuntu/repos/training_dataset_size_per_class/notebooks/cifar10_datasetsize_arctan_logscaling.ipynb#X13sdnNjb2RlLXJlbW90ZQ%3D%3D?line=8'>9</a>\u001b[0m     plotting_printing\u001b[39m.\u001b[39mplot_forward_testing(results, y_hat_name)\n",
      "File \u001b[0;32m~/repos/training_dataset_size_per_class/src/plotting_printing.py:56\u001b[0m, in \u001b[0;36mplotting_printing_all_epochs\u001b[0;34m(func, model_type, y_hat_name, xdata, y, param_names, params, results, xdata_val, y_val, results_val, xdata_4500, xdata_pred, results_pred_orig, results_4500, results_4500_orig, saving_plots, is_2param)\u001b[0m\n\u001b[1;32m     54\u001b[0m plt\u001b[39m.\u001b[39mylim((\u001b[39m0.05\u001b[39m, \u001b[39m0.9\u001b[39m))\n\u001b[1;32m     55\u001b[0m plt\u001b[39m.\u001b[39maxline((\u001b[39m0\u001b[39m, \u001b[39m0\u001b[39m), slope\u001b[39m=\u001b[39m\u001b[39m1\u001b[39m, color\u001b[39m=\u001b[39m\u001b[39m\"\u001b[39m\u001b[39mblack\u001b[39m\u001b[39m\"\u001b[39m, linestyle\u001b[39m=\u001b[39m(\u001b[39m0\u001b[39m, (\u001b[39m5\u001b[39m, \u001b[39m5\u001b[39m)))\n\u001b[0;32m---> 56\u001b[0m plt\u001b[39m.\u001b[39mtext(x\u001b[39m=\u001b[39m\u001b[39m0.1\u001b[39m, y\u001b[39m=\u001b[39m\u001b[39m0.8\u001b[39m, s\u001b[39m=\u001b[39m\u001b[39mf\u001b[39m\u001b[39m\"\u001b[39m\u001b[39mr-sq: \u001b[39m\u001b[39m{\u001b[39;00mnp\u001b[39m.\u001b[39mround(metrics\u001b[39m.\u001b[39mr2_score(results_val\u001b[39m.\u001b[39maccs,\u001b[39m \u001b[39mresults_val[y_hat_name]),\u001b[39m \u001b[39m\u001b[39m3\u001b[39m)\u001b[39m}\u001b[39;00m\u001b[39m\"\u001b[39m, bbox\u001b[39m=\u001b[39mprops)\n\u001b[1;32m     57\u001b[0m plt\u001b[39m.\u001b[39mlegend(loc \u001b[39m=\u001b[39m \u001b[39m'\u001b[39m\u001b[39mlower right\u001b[39m\u001b[39m'\u001b[39m)\n\u001b[1;32m     58\u001b[0m \u001b[39mif\u001b[39;00m saving_plots:\n",
      "File \u001b[0;32m~/.pyenv/versions/3.8.10/envs/venv_tdss/lib/python3.8/site-packages/sklearn/metrics/_regression.py:789\u001b[0m, in \u001b[0;36mr2_score\u001b[0;34m(y_true, y_pred, sample_weight, multioutput)\u001b[0m\n\u001b[1;32m    702\u001b[0m \u001b[39mdef\u001b[39;00m \u001b[39mr2_score\u001b[39m(y_true, y_pred, \u001b[39m*\u001b[39m, sample_weight\u001b[39m=\u001b[39m\u001b[39mNone\u001b[39;00m, multioutput\u001b[39m=\u001b[39m\u001b[39m\"\u001b[39m\u001b[39muniform_average\u001b[39m\u001b[39m\"\u001b[39m):\n\u001b[1;32m    703\u001b[0m \u001b[39m    \u001b[39m\u001b[39m\"\"\":math:`R^2` (coefficient of determination) regression score function.\u001b[39;00m\n\u001b[1;32m    704\u001b[0m \n\u001b[1;32m    705\u001b[0m \u001b[39m    Best possible score is 1.0 and it can be negative (because the\u001b[39;00m\n\u001b[0;32m   (...)\u001b[0m\n\u001b[1;32m    787\u001b[0m \u001b[39m    -3.0\u001b[39;00m\n\u001b[1;32m    788\u001b[0m \u001b[39m    \"\"\"\u001b[39;00m\n\u001b[0;32m--> 789\u001b[0m     y_type, y_true, y_pred, multioutput \u001b[39m=\u001b[39m _check_reg_targets(\n\u001b[1;32m    790\u001b[0m         y_true, y_pred, multioutput\n\u001b[1;32m    791\u001b[0m     )\n\u001b[1;32m    792\u001b[0m     check_consistent_length(y_true, y_pred, sample_weight)\n\u001b[1;32m    794\u001b[0m     \u001b[39mif\u001b[39;00m _num_samples(y_pred) \u001b[39m<\u001b[39m \u001b[39m2\u001b[39m:\n",
      "File \u001b[0;32m~/.pyenv/versions/3.8.10/envs/venv_tdss/lib/python3.8/site-packages/sklearn/metrics/_regression.py:96\u001b[0m, in \u001b[0;36m_check_reg_targets\u001b[0;34m(y_true, y_pred, multioutput, dtype)\u001b[0m\n\u001b[1;32m     94\u001b[0m check_consistent_length(y_true, y_pred)\n\u001b[1;32m     95\u001b[0m y_true \u001b[39m=\u001b[39m check_array(y_true, ensure_2d\u001b[39m=\u001b[39m\u001b[39mFalse\u001b[39;00m, dtype\u001b[39m=\u001b[39mdtype)\n\u001b[0;32m---> 96\u001b[0m y_pred \u001b[39m=\u001b[39m check_array(y_pred, ensure_2d\u001b[39m=\u001b[39;49m\u001b[39mFalse\u001b[39;49;00m, dtype\u001b[39m=\u001b[39;49mdtype)\n\u001b[1;32m     98\u001b[0m \u001b[39mif\u001b[39;00m y_true\u001b[39m.\u001b[39mndim \u001b[39m==\u001b[39m \u001b[39m1\u001b[39m:\n\u001b[1;32m     99\u001b[0m     y_true \u001b[39m=\u001b[39m y_true\u001b[39m.\u001b[39mreshape((\u001b[39m-\u001b[39m\u001b[39m1\u001b[39m, \u001b[39m1\u001b[39m))\n",
      "File \u001b[0;32m~/.pyenv/versions/3.8.10/envs/venv_tdss/lib/python3.8/site-packages/sklearn/utils/validation.py:800\u001b[0m, in \u001b[0;36mcheck_array\u001b[0;34m(array, accept_sparse, accept_large_sparse, dtype, order, copy, force_all_finite, ensure_2d, allow_nd, ensure_min_samples, ensure_min_features, estimator)\u001b[0m\n\u001b[1;32m    794\u001b[0m         \u001b[39mraise\u001b[39;00m \u001b[39mValueError\u001b[39;00m(\n\u001b[1;32m    795\u001b[0m             \u001b[39m\"\u001b[39m\u001b[39mFound array with dim \u001b[39m\u001b[39m%d\u001b[39;00m\u001b[39m. \u001b[39m\u001b[39m%s\u001b[39;00m\u001b[39m expected <= 2.\u001b[39m\u001b[39m\"\u001b[39m\n\u001b[1;32m    796\u001b[0m             \u001b[39m%\u001b[39m (array\u001b[39m.\u001b[39mndim, estimator_name)\n\u001b[1;32m    797\u001b[0m         )\n\u001b[1;32m    799\u001b[0m     \u001b[39mif\u001b[39;00m force_all_finite:\n\u001b[0;32m--> 800\u001b[0m         _assert_all_finite(array, allow_nan\u001b[39m=\u001b[39;49mforce_all_finite \u001b[39m==\u001b[39;49m \u001b[39m\"\u001b[39;49m\u001b[39mallow-nan\u001b[39;49m\u001b[39m\"\u001b[39;49m)\n\u001b[1;32m    802\u001b[0m \u001b[39mif\u001b[39;00m ensure_min_samples \u001b[39m>\u001b[39m \u001b[39m0\u001b[39m:\n\u001b[1;32m    803\u001b[0m     n_samples \u001b[39m=\u001b[39m _num_samples(array)\n",
      "File \u001b[0;32m~/.pyenv/versions/3.8.10/envs/venv_tdss/lib/python3.8/site-packages/sklearn/utils/validation.py:114\u001b[0m, in \u001b[0;36m_assert_all_finite\u001b[0;34m(X, allow_nan, msg_dtype)\u001b[0m\n\u001b[1;32m    107\u001b[0m     \u001b[39mif\u001b[39;00m (\n\u001b[1;32m    108\u001b[0m         allow_nan\n\u001b[1;32m    109\u001b[0m         \u001b[39mand\u001b[39;00m np\u001b[39m.\u001b[39misinf(X)\u001b[39m.\u001b[39many()\n\u001b[1;32m    110\u001b[0m         \u001b[39mor\u001b[39;00m \u001b[39mnot\u001b[39;00m allow_nan\n\u001b[1;32m    111\u001b[0m         \u001b[39mand\u001b[39;00m \u001b[39mnot\u001b[39;00m np\u001b[39m.\u001b[39misfinite(X)\u001b[39m.\u001b[39mall()\n\u001b[1;32m    112\u001b[0m     ):\n\u001b[1;32m    113\u001b[0m         type_err \u001b[39m=\u001b[39m \u001b[39m\"\u001b[39m\u001b[39minfinity\u001b[39m\u001b[39m\"\u001b[39m \u001b[39mif\u001b[39;00m allow_nan \u001b[39melse\u001b[39;00m \u001b[39m\"\u001b[39m\u001b[39mNaN, infinity\u001b[39m\u001b[39m\"\u001b[39m\n\u001b[0;32m--> 114\u001b[0m         \u001b[39mraise\u001b[39;00m \u001b[39mValueError\u001b[39;00m(\n\u001b[1;32m    115\u001b[0m             msg_err\u001b[39m.\u001b[39mformat(\n\u001b[1;32m    116\u001b[0m                 type_err, msg_dtype \u001b[39mif\u001b[39;00m msg_dtype \u001b[39mis\u001b[39;00m \u001b[39mnot\u001b[39;00m \u001b[39mNone\u001b[39;00m \u001b[39melse\u001b[39;00m X\u001b[39m.\u001b[39mdtype\n\u001b[1;32m    117\u001b[0m             )\n\u001b[1;32m    118\u001b[0m         )\n\u001b[1;32m    119\u001b[0m \u001b[39m# for object dtype data, we only check for NaNs (GH-13254)\u001b[39;00m\n\u001b[1;32m    120\u001b[0m \u001b[39melif\u001b[39;00m X\u001b[39m.\u001b[39mdtype \u001b[39m==\u001b[39m np\u001b[39m.\u001b[39mdtype(\u001b[39m\"\u001b[39m\u001b[39mobject\u001b[39m\u001b[39m\"\u001b[39m) \u001b[39mand\u001b[39;00m \u001b[39mnot\u001b[39;00m allow_nan:\n",
      "\u001b[0;31mValueError\u001b[0m: Input contains NaN, infinity or a value too large for dtype('float64')."
     ]
    },
    {
     "data": {
      "image/png": "[encoded data removed]",
      "text/plain": [
       "<Figure size 432x288 with 1 Axes>"
      ]
     },
     "metadata": {
      "needs_background": "light"
     },
     "output_type": "display_data"
    }
   ],
   "source": [
    "param_names = [\"a\", \"b\",  \"c\"]\n",
    "for c in classes:\n",
    "    param_names = param_names + [f\"{c}_1\", f\"{c}_2\"]\n",
    "param_names = param_names + [\"epoch_1\", \"epoch_2\"]\n",
    "\n",
    "if converged:\n",
    "    plotting_printing.plotting_printing_all_epochs(func, model_type, y_hat_name, xdata, y, param_names,  params, results, xdata_val, y_val, results_val, xdata_4500, xdata_pred, results_pred_orig, results_4500, results_4500_orig, saving_plots=save_plots, is_2param=False)\n",
    "    results = plotting_printing.forward_testing(results_orig, results_orig, results, func, n_p, xdata, y, xdata, y_hat_name, bounds=(1e-5, 50))\n",
    "    plotting_printing.plot_forward_testing(results, y_hat_name)\n",
    "    results_val = plotting_printing.forward_testing(results_orig, results_val_orig, results_val, func, n_p, xdata, y, xdata_val, y_hat_name, bounds=(1e-5, 50))\n",
    "    plotting_printing.plot_forward_testing(results_val, y_hat_name)"
   ]
  },
  {
   "cell_type": "code",
   "execution_count": null,
   "id": "907ca964",
   "metadata": {},
   "outputs": [],
   "source": [
    "#\n",
    "y_hat_name = \"accs_hat_total_n_logscaling_epoch_logscaling\"\n",
    "\n",
    "def func(x, a: float, b: float, c: float, d_total_n:float, d_total_n_2:float, d_epochs:float, d_epochs_2:float) -> float:\n",
    "    x_epoch = x[10]\n",
    "    x_total_n = x[11]\n",
    "    result = a + (2 / np.pi) * np.arctan(b * (d_total_n * np.log(d_total_n_2 + x_total_n) + d_epochs * np.log(d_epochs_2 + x_epoch)) + c)\n",
    "    return result\n",
    "\n",
    "np.random.seed(seed=434222)\n",
    "n_p = 7\n",
    "p0 = np.random.uniform(low=0, high=1, size = n_p)\n",
    "converged = False\n",
    "try:\n",
    "    params, params_cov = curve_fit(func, xdata, y, maxfev=200000, p0=p0, bounds=(0, 10))\n",
    "    converged = True\n",
    "except:\n",
    "    print(\"did not converge\")\n"
   ]
  },
  {
   "cell_type": "code",
   "execution_count": null,
   "id": "35afd74b",
   "metadata": {},
   "outputs": [],
   "source": [
    "param_names = [\"a\", \"b\", \"c\", \"total_n\", \"total_n_2\", \"epoch\", \"epoch_2\"]\n",
    "\n",
    "if converged:\n",
    "    plotting_printing.plotting_printing_all_epochs(func, model_type, y_hat_name, xdata, y, param_names,  params, results, xdata_val, y_val, results_val, xdata_4500, xdata_pred, results_pred_orig, results_4500, results_4500_orig, saving_plots=save_plots, is_2param=False)\n",
    "    results = plotting_printing.forward_testing(results_orig, results_orig, results, func, n_p, xdata, y, xdata, y_hat_name, bounds=(1e-5, 50))\n",
    "    plotting_printing.plot_forward_testing(results, y_hat_name)\n",
    "    results_val = plotting_printing.forward_testing(results_orig, results_val_orig, results_val, func, n_p, xdata, y, xdata_val, y_hat_name, bounds=(1e-5, 50))\n",
    "    plotting_printing.plot_forward_testing(results_val, y_hat_name)\n"
   ]
  }
 ],
 "metadata": {
  "kernelspec": {
   "display_name": "Python 3 (ipykernel)",
   "language": "python",
   "name": "python3"
  },
  "language_info": {
   "codemirror_mode": {
    "name": "ipython",
    "version": 3
   },
   "file_extension": ".py",
   "mimetype": "text/x-python",
   "name": "python",
   "nbconvert_exporter": "python",
   "pygments_lexer": "ipython3",
   "version": "3.8.10"
  },
  "vscode": {
   "interpreter": {
    "hash": "c9bcba196a01498016ccd64548f4c665ee450ddca7e9d0b8c7efd8e8a933354c"
   }
  }
 },
 "nbformat": 4,
 "nbformat_minor": 5
}
