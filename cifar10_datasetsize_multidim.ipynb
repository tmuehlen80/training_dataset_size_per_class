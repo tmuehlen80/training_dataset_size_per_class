{
 "cells": [
  {
   "cell_type": "code",
   "execution_count": 1,
   "id": "4619b589-aed6-47a2-ab8d-c9b9320f367d",
   "metadata": {},
   "outputs": [],
   "source": [
    "import pandas as pd\n",
    "pd.set_option(\"display.max_columns\", None)\n",
    "#pd.set_option(\"display.max_rows\", None)\n",
    "from IPython.display import HTML\n",
    "from IPython.display import display\n",
    "import numpy as np\n",
    "import warnings\n",
    "from pandas.core.common import SettingWithCopyWarning\n",
    "warnings.simplefilter(action=\"ignore\", category=SettingWithCopyWarning)\n",
    "warnings.simplefilter(action=\"ignore\", category=FutureWarning)\n",
    "import matplotlib.pyplot as plt\n",
    "import seaborn as sns\n",
    "import os\n",
    "\n",
    "from scipy.optimize import curve_fit"
   ]
  },
  {
   "cell_type": "code",
   "execution_count": 2,
   "id": "680047ab-00c1-4fc0-9c35-20652cfc5277",
   "metadata": {},
   "outputs": [],
   "source": [
    "import torch\n",
    "\n",
    "import torchvision\n",
    "import torchvision.transforms as transforms\n",
    "from sklearn import preprocessing\n",
    "from sklearn import metrics\n",
    "from sklearn import linear_model\n",
    "from scipy import stats\n",
    "import statsmodels.api as sm\n",
    "#import matplotlib.pyplot as plt\n",
    "#import numpy as np\n",
    "#import pandas as pd\n",
    "import statsmodels.api as sm\n",
    "from scipy import stats\n",
    "from statsmodels.formula.api import logit\n",
    "import statsmodels.formula.api as smf"
   ]
  },
  {
   "cell_type": "code",
   "execution_count": 3,
   "id": "c3222cde",
   "metadata": {},
   "outputs": [],
   "source": [
    "# custom defined functions:\n",
    "# now fit the powerlaw:\n",
    "\n",
    "def func_powerlaw(x: float, a: float, c: float) -> float:\n",
    "    return a + x**(-1 / 5) * c\n",
    "\n",
    "#def func_powerlaw_exponent(x0: float, x1:float, x2:float, x3:float, x4:float, x5:float, x6:float, x7:float, x8:float, x9:float, a: float, b: float, c: float, d0:float, d1:float, d2:float, d3:float, d4:float, d5:float, d6:float, d7:float, d8:float, d9:float) -> float:\n",
    "#    return a + ((d0*x0 + d1*x1 + d2*x2 + d3*x3 + d4*x4 + d5*x5 + d6*x6 + d7*x7 + d8*x8 + d9*x9 + d10*epochs_trained)**b) * c\n",
    "\n",
    "def func_powerlaw_exponent_epoch(x, a: float, b: float, c: float, d0:float, d1:float, d2:float, d3:float, d4:float, d5:float, d6:float, d7:float, d8:float, d9:float, d_epochs:float) -> float:\n",
    "    x0 = x[0]\n",
    "    x1 = x[1]\n",
    "    x2 = x[2]\n",
    "    x3 = x[3]\n",
    "    x4 = x[4]\n",
    "    x5 = x[5]\n",
    "    x6 = x[6]\n",
    "    x7 = x[7]\n",
    "    x8 = x[8]\n",
    "    x9 = x[9]\n",
    "    epochs_trained = x[10]\n",
    "    #: float, x1:float, x2:float, x3:float, x4:float, x5:float, x6:float, x7:float, x8:float, x9:float\n",
    "    return a + ((d0*x0 + d1*x1 + d2*x2 + d3*x3 + d4*x4 + d5*x5 + d6*x6 + d7*x7 + d8*x8 + d9*x9 + d_epochs*epochs_trained)**b) * c\n",
    "\n",
    "\n",
    "def func_powerlaw_exponent_epoch_2(x, a: float, b: float, c: float, d_int:float, d0:float, d1:float, d2:float, d3:float, d4:float, d5:float, d6:float, d7:float, d8:float, d9:float, d_epochs:float) -> float:\n",
    "    x0 = x[0]\n",
    "    x1 = x[1]\n",
    "    x2 = x[2]\n",
    "    x3 = x[3]\n",
    "    x4 = x[4]\n",
    "    x5 = x[5]\n",
    "    x6 = x[6]\n",
    "    x7 = x[7]\n",
    "    x8 = x[8]\n",
    "    x9 = x[9]\n",
    "    epochs_trained = x[10]\n",
    "    #: float, x1:float, x2:float, x3:float, x4:float, x5:float, x6:float, x7:float, x8:float, x9:float\n",
    "    return a + ((d_int + d0*x0 + d1*x1 + d2*x2 + d3*x3 + d4*x4 + d5*x5 + d6*x6 + d7*x7 + d8*x8 + d9*x9 + d_epochs*epochs_trained)**b) * c\n",
    "\n",
    "def func_powerlaw_exponent(x, a: float, b: float, c: float, d0:float, d1:float, d2:float, d3:float, d4:float, d5:float, d6:float, d7:float, d8:float, d9:float) -> float:\n",
    "    x0 = x[0]\n",
    "    x1 = x[1]\n",
    "    x2 = x[2]\n",
    "    x3 = x[3]\n",
    "    x4 = x[4]\n",
    "    x5 = x[5]\n",
    "    x6 = x[6]\n",
    "    x7 = x[7]\n",
    "    x8 = x[8]\n",
    "    x9 = x[9]\n",
    "    #: float, x1:float, x2:float, x3:float, x4:float, x5:float, x6:float, x7:float, x8:float, x9:float\n",
    "    return a + ((d0*x0 + d1*x1 + d2*x2 + d3*x3 + d4*x4 + d5*x5 + d6*x6 + d7*x7 + d8*x8 + d9*x9)**b) * c"
   ]
  },
  {
   "attachments": {},
   "cell_type": "markdown",
   "id": "f9306df2",
   "metadata": {},
   "source": [
    "### Purpose of this notebook: \n",
    "\n",
    "# PoC for a multidimensional power law approach for training dataset size prediction.\n",
    "\n",
    "* Using Cifar10 data\n",
    "* and a standard cnn architecture\n",
    "* Varying the number of images per class with different number of overall training dataset sizes\n",
    "* Collect accuracies for each experiment\n",
    "* Fit a power law with a linear combination as input.\n",
    "\n",
    "# statistical models considered:\n",
    "\n",
    "* ### power law: \n",
    "    * Just using last epoch\n",
    "    * Using all epochs\n",
    "    * ref: Just using overall training dataset size with last epoch\n"
   ]
  },
  {
   "cell_type": "markdown",
   "id": "c8de233e",
   "metadata": {},
   "source": [
    "# Data prep\n",
    "\n",
    "* reading in csv data\n",
    "* filter to only keep epochs $>10$\n",
    "* normalize"
   ]
  },
  {
   "attachments": {},
   "cell_type": "markdown",
   "id": "32ee6f57",
   "metadata": {},
   "source": [
    "Please run `cifar10_datasetsize_multidim.py` before running this notebook.\n"
   ]
  },
  {
   "cell_type": "code",
   "execution_count": 4,
   "id": "2e40cca8",
   "metadata": {},
   "outputs": [
    {
     "name": "stdout",
     "output_type": "stream",
     "text": [
      "(10800, 13)\n"
     ]
    },
    {
     "data": {
      "text/html": [
       "<div>\n",
       "<style scoped>\n",
       "    .dataframe tbody tr th:only-of-type {\n",
       "        vertical-align: middle;\n",
       "    }\n",
       "\n",
       "    .dataframe tbody tr th {\n",
       "        vertical-align: top;\n",
       "    }\n",
       "\n",
       "    .dataframe thead th {\n",
       "        text-align: right;\n",
       "    }\n",
       "</style>\n",
       "<table border=\"1\" class=\"dataframe\">\n",
       "  <thead>\n",
       "    <tr style=\"text-align: right;\">\n",
       "      <th></th>\n",
       "      <th>accs</th>\n",
       "      <th>training_times</th>\n",
       "      <th>plane</th>\n",
       "      <th>car</th>\n",
       "      <th>bird</th>\n",
       "      <th>cat</th>\n",
       "      <th>deer</th>\n",
       "      <th>dog</th>\n",
       "      <th>frog</th>\n",
       "      <th>horse</th>\n",
       "      <th>ship</th>\n",
       "      <th>truck</th>\n",
       "      <th>epochs_trained</th>\n",
       "    </tr>\n",
       "  </thead>\n",
       "  <tbody>\n",
       "    <tr>\n",
       "      <th>0</th>\n",
       "      <td>0.1006</td>\n",
       "      <td>0.868126</td>\n",
       "      <td>145.0</td>\n",
       "      <td>31.0</td>\n",
       "      <td>97.0</td>\n",
       "      <td>496.0</td>\n",
       "      <td>1096.0</td>\n",
       "      <td>307.0</td>\n",
       "      <td>2382.0</td>\n",
       "      <td>9.0</td>\n",
       "      <td>373.0</td>\n",
       "      <td>63.0</td>\n",
       "      <td>0</td>\n",
       "    </tr>\n",
       "    <tr>\n",
       "      <th>1</th>\n",
       "      <td>0.1314</td>\n",
       "      <td>4.390345</td>\n",
       "      <td>145.0</td>\n",
       "      <td>31.0</td>\n",
       "      <td>97.0</td>\n",
       "      <td>496.0</td>\n",
       "      <td>1096.0</td>\n",
       "      <td>307.0</td>\n",
       "      <td>2382.0</td>\n",
       "      <td>9.0</td>\n",
       "      <td>373.0</td>\n",
       "      <td>63.0</td>\n",
       "      <td>5</td>\n",
       "    </tr>\n",
       "  </tbody>\n",
       "</table>\n",
       "</div>"
      ],
      "text/plain": [
       "     accs  training_times  plane   car  bird    cat    deer    dog    frog  \\\n",
       "0  0.1006        0.868126  145.0  31.0  97.0  496.0  1096.0  307.0  2382.0   \n",
       "1  0.1314        4.390345  145.0  31.0  97.0  496.0  1096.0  307.0  2382.0   \n",
       "\n",
       "   horse   ship  truck  epochs_trained  \n",
       "0    9.0  373.0   63.0               0  \n",
       "1    9.0  373.0   63.0               5  "
      ]
     },
     "execution_count": 4,
     "metadata": {},
     "output_type": "execute_result"
    }
   ],
   "source": [
    "#results = pd.read_csv(\"Cifar10_acc_subsets_thomas_batch_size_512_mixture_design_20230628.csv\")\n",
    "results = pd.read_csv(\"csv_files/Cifar10_acc_subsets_thomas_batch_size_512_mixture_design_maximin_subsetsize_45000_20230705.csv\")\n",
    "results_val = pd.read_csv(\"csv_files/Cifar10_acc_subsets_thomas_batch_size_512_mixture_design_maximin_subsetsize_45000_val_20230708.csv\")\n",
    "print(results.shape)\n",
    "results.head(2)"
   ]
  },
  {
   "cell_type": "code",
   "execution_count": 5,
   "id": "127bb8d0",
   "metadata": {},
   "outputs": [
    {
     "data": {
      "text/html": [
       "<div>\n",
       "<style scoped>\n",
       "    .dataframe tbody tr th:only-of-type {\n",
       "        vertical-align: middle;\n",
       "    }\n",
       "\n",
       "    .dataframe tbody tr th {\n",
       "        vertical-align: top;\n",
       "    }\n",
       "\n",
       "    .dataframe thead th {\n",
       "        text-align: right;\n",
       "    }\n",
       "</style>\n",
       "<table border=\"1\" class=\"dataframe\">\n",
       "  <thead>\n",
       "    <tr style=\"text-align: right;\">\n",
       "      <th></th>\n",
       "      <th>accs</th>\n",
       "      <th>training_times</th>\n",
       "      <th>plane</th>\n",
       "      <th>car</th>\n",
       "      <th>bird</th>\n",
       "      <th>cat</th>\n",
       "      <th>deer</th>\n",
       "      <th>dog</th>\n",
       "      <th>frog</th>\n",
       "      <th>horse</th>\n",
       "      <th>ship</th>\n",
       "      <th>truck</th>\n",
       "      <th>epochs_trained</th>\n",
       "    </tr>\n",
       "  </thead>\n",
       "  <tbody>\n",
       "    <tr>\n",
       "      <th>0</th>\n",
       "      <td>0.1787</td>\n",
       "      <td>4.370253</td>\n",
       "      <td>145.0</td>\n",
       "      <td>31.0</td>\n",
       "      <td>97.0</td>\n",
       "      <td>496.0</td>\n",
       "      <td>1096.0</td>\n",
       "      <td>307.0</td>\n",
       "      <td>2382.0</td>\n",
       "      <td>9.0</td>\n",
       "      <td>373.0</td>\n",
       "      <td>63.0</td>\n",
       "      <td>10</td>\n",
       "    </tr>\n",
       "    <tr>\n",
       "      <th>1</th>\n",
       "      <td>0.2051</td>\n",
       "      <td>4.355270</td>\n",
       "      <td>145.0</td>\n",
       "      <td>31.0</td>\n",
       "      <td>97.0</td>\n",
       "      <td>496.0</td>\n",
       "      <td>1096.0</td>\n",
       "      <td>307.0</td>\n",
       "      <td>2382.0</td>\n",
       "      <td>9.0</td>\n",
       "      <td>373.0</td>\n",
       "      <td>63.0</td>\n",
       "      <td>15</td>\n",
       "    </tr>\n",
       "    <tr>\n",
       "      <th>2</th>\n",
       "      <td>0.2030</td>\n",
       "      <td>4.387133</td>\n",
       "      <td>145.0</td>\n",
       "      <td>31.0</td>\n",
       "      <td>97.0</td>\n",
       "      <td>496.0</td>\n",
       "      <td>1096.0</td>\n",
       "      <td>307.0</td>\n",
       "      <td>2382.0</td>\n",
       "      <td>9.0</td>\n",
       "      <td>373.0</td>\n",
       "      <td>63.0</td>\n",
       "      <td>20</td>\n",
       "    </tr>\n",
       "    <tr>\n",
       "      <th>3</th>\n",
       "      <td>0.2506</td>\n",
       "      <td>4.299767</td>\n",
       "      <td>145.0</td>\n",
       "      <td>31.0</td>\n",
       "      <td>97.0</td>\n",
       "      <td>496.0</td>\n",
       "      <td>1096.0</td>\n",
       "      <td>307.0</td>\n",
       "      <td>2382.0</td>\n",
       "      <td>9.0</td>\n",
       "      <td>373.0</td>\n",
       "      <td>63.0</td>\n",
       "      <td>25</td>\n",
       "    </tr>\n",
       "  </tbody>\n",
       "</table>\n",
       "</div>"
      ],
      "text/plain": [
       "     accs  training_times  plane   car  bird    cat    deer    dog    frog  \\\n",
       "0  0.1787        4.370253  145.0  31.0  97.0  496.0  1096.0  307.0  2382.0   \n",
       "1  0.2051        4.355270  145.0  31.0  97.0  496.0  1096.0  307.0  2382.0   \n",
       "2  0.2030        4.387133  145.0  31.0  97.0  496.0  1096.0  307.0  2382.0   \n",
       "3  0.2506        4.299767  145.0  31.0  97.0  496.0  1096.0  307.0  2382.0   \n",
       "\n",
       "   horse   ship  truck  epochs_trained  \n",
       "0    9.0  373.0   63.0              10  \n",
       "1    9.0  373.0   63.0              15  \n",
       "2    9.0  373.0   63.0              20  \n",
       "3    9.0  373.0   63.0              25  "
      ]
     },
     "execution_count": 5,
     "metadata": {},
     "output_type": "execute_result"
    }
   ],
   "source": [
    "# Filter data to start with 10 epochs:\n",
    "# anything below a certain number of epochs seems to be very flaky.\n",
    "mask = results.epochs_trained >= 10\n",
    "results = results[mask].reset_index(drop=True)\n",
    "mask = results_val.epochs_trained >= 10\n",
    "results_val = results_val[mask].reset_index(drop=True)\n",
    "\n",
    "results.head(4)"
   ]
  },
  {
   "cell_type": "code",
   "execution_count": 6,
   "id": "24becc1b",
   "metadata": {},
   "outputs": [
    {
     "data": {
      "text/html": [
       "<div>\n",
       "<style scoped>\n",
       "    .dataframe tbody tr th:only-of-type {\n",
       "        vertical-align: middle;\n",
       "    }\n",
       "\n",
       "    .dataframe tbody tr th {\n",
       "        vertical-align: top;\n",
       "    }\n",
       "\n",
       "    .dataframe thead th {\n",
       "        text-align: right;\n",
       "    }\n",
       "</style>\n",
       "<table border=\"1\" class=\"dataframe\">\n",
       "  <thead>\n",
       "    <tr style=\"text-align: right;\">\n",
       "      <th></th>\n",
       "      <th>accs</th>\n",
       "      <th>training_times</th>\n",
       "      <th>plane</th>\n",
       "      <th>car</th>\n",
       "      <th>bird</th>\n",
       "      <th>cat</th>\n",
       "      <th>deer</th>\n",
       "      <th>dog</th>\n",
       "      <th>frog</th>\n",
       "      <th>horse</th>\n",
       "      <th>ship</th>\n",
       "      <th>truck</th>\n",
       "      <th>epochs_trained</th>\n",
       "    </tr>\n",
       "  </thead>\n",
       "  <tbody>\n",
       "    <tr>\n",
       "      <th>0</th>\n",
       "      <td>0.1787</td>\n",
       "      <td>0.004281</td>\n",
       "      <td>0.026474</td>\n",
       "      <td>0.005604</td>\n",
       "      <td>0.017044</td>\n",
       "      <td>0.098679</td>\n",
       "      <td>0.217723</td>\n",
       "      <td>0.060096</td>\n",
       "      <td>0.474814</td>\n",
       "      <td>0.001601</td>\n",
       "      <td>0.074059</td>\n",
       "      <td>0.012402</td>\n",
       "      <td>0.000000</td>\n",
       "    </tr>\n",
       "    <tr>\n",
       "      <th>1</th>\n",
       "      <td>0.2051</td>\n",
       "      <td>0.003710</td>\n",
       "      <td>0.026474</td>\n",
       "      <td>0.005604</td>\n",
       "      <td>0.017044</td>\n",
       "      <td>0.098679</td>\n",
       "      <td>0.217723</td>\n",
       "      <td>0.060096</td>\n",
       "      <td>0.474814</td>\n",
       "      <td>0.001601</td>\n",
       "      <td>0.074059</td>\n",
       "      <td>0.012402</td>\n",
       "      <td>0.027027</td>\n",
       "    </tr>\n",
       "  </tbody>\n",
       "</table>\n",
       "</div>"
      ],
      "text/plain": [
       "     accs  training_times     plane       car      bird       cat      deer  \\\n",
       "0  0.1787        0.004281  0.026474  0.005604  0.017044  0.098679  0.217723   \n",
       "1  0.2051        0.003710  0.026474  0.005604  0.017044  0.098679  0.217723   \n",
       "\n",
       "        dog      frog     horse      ship     truck  epochs_trained  \n",
       "0  0.060096  0.474814  0.001601  0.074059  0.012402        0.000000  \n",
       "1  0.060096  0.474814  0.001601  0.074059  0.012402        0.027027  "
      ]
     },
     "execution_count": 6,
     "metadata": {},
     "output_type": "execute_result"
    }
   ],
   "source": [
    "### normalize results:\n",
    "scaler = preprocessing.MinMaxScaler()\n",
    "scaler.fit(X = results.iloc[:, 1:])\n",
    "results_scaled = pd.DataFrame(scaler.transform(results.iloc[:, 1:]))\n",
    "results_scaled.columns = results.iloc[:, 1:].columns\n",
    "results = pd.concat([results[\"accs\"], results_scaled], axis=1)\n",
    "results.head(2)"
   ]
  },
  {
   "cell_type": "code",
   "execution_count": 7,
   "id": "7e78c193",
   "metadata": {},
   "outputs": [
    {
     "data": {
      "text/html": [
       "<div>\n",
       "<style scoped>\n",
       "    .dataframe tbody tr th:only-of-type {\n",
       "        vertical-align: middle;\n",
       "    }\n",
       "\n",
       "    .dataframe tbody tr th {\n",
       "        vertical-align: top;\n",
       "    }\n",
       "\n",
       "    .dataframe thead th {\n",
       "        text-align: right;\n",
       "    }\n",
       "</style>\n",
       "<table border=\"1\" class=\"dataframe\">\n",
       "  <thead>\n",
       "    <tr style=\"text-align: right;\">\n",
       "      <th></th>\n",
       "      <th>accs</th>\n",
       "      <th>training_times</th>\n",
       "      <th>plane</th>\n",
       "      <th>car</th>\n",
       "      <th>bird</th>\n",
       "      <th>cat</th>\n",
       "      <th>deer</th>\n",
       "      <th>dog</th>\n",
       "      <th>frog</th>\n",
       "      <th>horse</th>\n",
       "      <th>ship</th>\n",
       "      <th>truck</th>\n",
       "      <th>epochs_trained</th>\n",
       "    </tr>\n",
       "  </thead>\n",
       "  <tbody>\n",
       "    <tr>\n",
       "      <th>0</th>\n",
       "      <td>0.2633</td>\n",
       "      <td>0.005252</td>\n",
       "      <td>0.138187</td>\n",
       "      <td>0.041833</td>\n",
       "      <td>0.040706</td>\n",
       "      <td>0.005404</td>\n",
       "      <td>0.15016</td>\n",
       "      <td>0.019832</td>\n",
       "      <td>0.395143</td>\n",
       "      <td>0.038223</td>\n",
       "      <td>0.151521</td>\n",
       "      <td>0.008002</td>\n",
       "      <td>0.000000</td>\n",
       "    </tr>\n",
       "    <tr>\n",
       "      <th>1</th>\n",
       "      <td>0.2866</td>\n",
       "      <td>0.009001</td>\n",
       "      <td>0.138187</td>\n",
       "      <td>0.041833</td>\n",
       "      <td>0.040706</td>\n",
       "      <td>0.005404</td>\n",
       "      <td>0.15016</td>\n",
       "      <td>0.019832</td>\n",
       "      <td>0.395143</td>\n",
       "      <td>0.038223</td>\n",
       "      <td>0.151521</td>\n",
       "      <td>0.008002</td>\n",
       "      <td>0.027027</td>\n",
       "    </tr>\n",
       "  </tbody>\n",
       "</table>\n",
       "</div>"
      ],
      "text/plain": [
       "     accs  training_times     plane       car      bird       cat     deer  \\\n",
       "0  0.2633        0.005252  0.138187  0.041833  0.040706  0.005404  0.15016   \n",
       "1  0.2866        0.009001  0.138187  0.041833  0.040706  0.005404  0.15016   \n",
       "\n",
       "        dog      frog     horse      ship     truck  epochs_trained  \n",
       "0  0.019832  0.395143  0.038223  0.151521  0.008002        0.000000  \n",
       "1  0.019832  0.395143  0.038223  0.151521  0.008002        0.027027  "
      ]
     },
     "execution_count": 7,
     "metadata": {},
     "output_type": "execute_result"
    }
   ],
   "source": [
    "# using the same scaler for train and val:\n",
    "results_scaled_val = pd.DataFrame(scaler.transform(results_val.iloc[:, 1:]))\n",
    "results_scaled_val.columns = results_val.iloc[:, 1:].columns\n",
    "results_val = pd.concat([results_val[\"accs\"], results_scaled_val], axis=1)\n",
    "results_val.head(2)"
   ]
  },
  {
   "cell_type": "code",
   "execution_count": 8,
   "id": "12f10cc7",
   "metadata": {},
   "outputs": [
    {
     "data": {
      "text/plain": [
       "(11, 10260)"
      ]
     },
     "execution_count": 8,
     "metadata": {},
     "output_type": "execute_result"
    }
   ],
   "source": [
    "xdata = np.transpose(results.to_numpy()[:, 2:])\n",
    "y = results.to_numpy()[:, 0]\n",
    "xdata_val = np.transpose(results_val.to_numpy()[:, 2:])\n",
    "y_val = results_val.to_numpy()[:, 0]\n",
    "xdata.shape\n",
    "# try out, if the function works\n",
    "#func_powerlaw_exponent_epoch(xdata, 0, 0.1, .3, .1, .1, .1, .1, .1, .1, .1, .1, .1, .1, .1)"
   ]
  },
  {
   "cell_type": "markdown",
   "id": "151132e9",
   "metadata": {},
   "source": [
    "# powerlaw - full option"
   ]
  },
  {
   "attachments": {},
   "cell_type": "markdown",
   "id": "21f99b1a",
   "metadata": {},
   "source": [
    "### Full option: \n",
    "\n",
    "* Fit a power law model, having the count of each level as input ... \n",
    "* ... and the number of epochs as an input as well."
   ]
  },
  {
   "cell_type": "code",
   "execution_count": 12,
   "id": "350ab01c",
   "metadata": {},
   "outputs": [
    {
     "name": "stdout",
     "output_type": "stream",
     "text": [
      "(11, 10260)\n"
     ]
    },
    {
     "data": {
      "text/html": [
       "<div>\n",
       "<style scoped>\n",
       "    .dataframe tbody tr th:only-of-type {\n",
       "        vertical-align: middle;\n",
       "    }\n",
       "\n",
       "    .dataframe tbody tr th {\n",
       "        vertical-align: top;\n",
       "    }\n",
       "\n",
       "    .dataframe thead th {\n",
       "        text-align: right;\n",
       "    }\n",
       "</style>\n",
       "<table border=\"1\" class=\"dataframe\">\n",
       "  <thead>\n",
       "    <tr style=\"text-align: right;\">\n",
       "      <th></th>\n",
       "      <th>plane</th>\n",
       "      <th>car</th>\n",
       "      <th>bird</th>\n",
       "      <th>cat</th>\n",
       "      <th>deer</th>\n",
       "      <th>dog</th>\n",
       "      <th>frog</th>\n",
       "      <th>horse</th>\n",
       "      <th>ship</th>\n",
       "      <th>truck</th>\n",
       "      <th>epochs_trained</th>\n",
       "    </tr>\n",
       "  </thead>\n",
       "  <tbody>\n",
       "    <tr>\n",
       "      <th>0</th>\n",
       "      <td>0.026474</td>\n",
       "      <td>0.005604</td>\n",
       "      <td>0.017044</td>\n",
       "      <td>0.098679</td>\n",
       "      <td>0.217723</td>\n",
       "      <td>0.060096</td>\n",
       "      <td>0.474814</td>\n",
       "      <td>0.001601</td>\n",
       "      <td>0.074059</td>\n",
       "      <td>0.012402</td>\n",
       "      <td>0.000000</td>\n",
       "    </tr>\n",
       "    <tr>\n",
       "      <th>1</th>\n",
       "      <td>0.026474</td>\n",
       "      <td>0.005604</td>\n",
       "      <td>0.017044</td>\n",
       "      <td>0.098679</td>\n",
       "      <td>0.217723</td>\n",
       "      <td>0.060096</td>\n",
       "      <td>0.474814</td>\n",
       "      <td>0.001601</td>\n",
       "      <td>0.074059</td>\n",
       "      <td>0.012402</td>\n",
       "      <td>0.027027</td>\n",
       "    </tr>\n",
       "  </tbody>\n",
       "</table>\n",
       "</div>"
      ],
      "text/plain": [
       "      plane       car      bird       cat      deer       dog      frog  \\\n",
       "0  0.026474  0.005604  0.017044  0.098679  0.217723  0.060096  0.474814   \n",
       "1  0.026474  0.005604  0.017044  0.098679  0.217723  0.060096  0.474814   \n",
       "\n",
       "      horse      ship     truck  epochs_trained  \n",
       "0  0.001601  0.074059  0.012402        0.000000  \n",
       "1  0.001601  0.074059  0.012402        0.027027  "
      ]
     },
     "execution_count": 12,
     "metadata": {},
     "output_type": "execute_result"
    }
   ],
   "source": [
    "print(xdata.shape)\n",
    "results.iloc[:, 2:].head(2)\n"
   ]
  },
  {
   "cell_type": "code",
   "execution_count": 85,
   "id": "b345a315",
   "metadata": {},
   "outputs": [],
   "source": []
  },
  {
   "cell_type": "code",
   "execution_count": 95,
   "id": "7b203437",
   "metadata": {},
   "outputs": [
    {
     "name": "stderr",
     "output_type": "stream",
     "text": [
      "/tmp/ipykernel_364429/2581796869.py:14: RuntimeWarning: invalid value encountered in power\n",
      "  return a + ((d0*x0 + d1*x1 + d2*x2 + d3*x3 + d4*x4 + d5*x5 + d6*x6 + d7*x7 + d8*x8 + d9*x9 + d_epochs*epochs_trained)**b) * c\n"
     ]
    },
    {
     "name": "stdout",
     "output_type": "stream",
     "text": [
      "[-0.05191464  0.40446368  0.37700809  0.95319015  0.79498191  0.75846883\n",
      "  0.43407371  0.77031675  0.6992817   0.75561634  0.95828271  0.58193432\n",
      "  0.63893863  1.5286968 ]\n",
      "25.826384078945967\n"
     ]
    }
   ],
   "source": [
    "def func_powerlaw_exponent_epoch(x, a: float, b: float, c: float, d0:float, d1:float, d2:float, d3:float, d4:float, d5:float, d6:float, d7:float, d8:float, d9:float, d_epochs:float) -> float:\n",
    "    x0 = x[0]\n",
    "    x1 = x[1]\n",
    "    x2 = x[2]\n",
    "    x3 = x[3]\n",
    "    x4 = x[4]\n",
    "    x5 = x[5]\n",
    "    x6 = x[6]\n",
    "    x7 = x[7]\n",
    "    x8 = x[8]\n",
    "    x9 = x[9]\n",
    "    epochs_trained = x[10]\n",
    "    #: float, x1:float, x2:float, x3:float, x4:float, x5:float, x6:float, x7:float, x8:float, x9:float\n",
    "    return a + ((d0*x0 + d1*x1 + d2*x2 + d3*x3 + d4*x4 + d5*x5 + d6*x6 + d7*x7 + d8*x8 + d9*x9 + d_epochs*epochs_trained)**b) * c\n",
    "\n",
    "\n",
    "\n",
    "params, params_cov = curve_fit(func_powerlaw_exponent_epoch, xdata, y, maxfev=200000, p0=p0, bounds=(-10, 10))\n",
    "print(params)\n",
    "y_hat = func_powerlaw_exponent_epoch(xdata, params[0], params[1], params[2], params[3], params[4], params[5], params[6], params[7], params[8], params[9], params[10], params[11], params[12], params[13])\n",
    "#results[\"accs_hat\"] = y_hat\n",
    "print(((y_hat - y)**2).sum())\n"
   ]
  },
  {
   "cell_type": "code",
   "execution_count": 102,
   "id": "e9ae4c69",
   "metadata": {},
   "outputs": [
    {
     "name": "stdout",
     "output_type": "stream",
     "text": [
      "[-0.0519121   0.40446558  0.47107841  0.54951823  0.45831724  0.43726404\n",
      "  0.2502508   0.44409642  0.40313996  0.43562081  0.55245609  0.33549316\n",
      "  0.36835485  0.88131012]\n",
      "25.82638408299153\n"
     ]
    }
   ],
   "source": [
    "#p0 = [0.1, 0.1, .1, .1, .1, .1, .1, .1, .1, .1, .1, .1, .1, 0.1]\n",
    "#p0_2 = [0.1, 0.1, 0.1, .1, .1, .1, .1, .1, .1, .1, .1, .1, .1, .1, .1]\n",
    "\n",
    "p0 = np.random.uniform(low=0, high=1, size = 14)\n",
    "\n",
    "try:\n",
    "    params, params_cov = curve_fit(func_powerlaw_exponent_epoch, xdata, y, maxfev=200000, p0=p0, bounds=(-10, 10))\n",
    "    print(params)\n",
    "    y_hat = func_powerlaw_exponent_epoch(xdata, params[0], params[1], params[2], params[3], params[4], params[5], params[6], params[7], params[8], params[9], params[10], params[11], params[12], params[13])\n",
    "    #results[\"accs_hat\"] = y_hat\n",
    "    print(((y_hat - y)**2).sum())\n",
    "except:\n",
    "    print(\"did not converge\")\n",
    "\n"
   ]
  },
  {
   "cell_type": "code",
   "execution_count": 21,
   "id": "8a94ddbe",
   "metadata": {},
   "outputs": [
    {
     "data": {
      "text/plain": [
       "40.07335610309743"
      ]
     },
     "execution_count": 21,
     "metadata": {},
     "output_type": "execute_result"
    }
   ],
   "source": [
    "# calculate least square value:\n",
    "\n",
    "#y_hat = func_powerlaw_exponent_epoch(xdata, params[0], params[1], params[2], params[3], params[4], params[5], params[6], params[7], params[8], params[8], params[9], params[10], params[11], params[12])\n",
    "#results[\"accs_hat\"] = y_hat\n",
    "#((y_hat - y)**2).sum()\n"
   ]
  },
  {
   "cell_type": "markdown",
   "id": "3c52a9a8",
   "metadata": {},
   "source": [
    "The following dict with parameters can be interpreted: \n",
    "* The large an estimated parameter value for a level is, the higher the impact to the accuracy. \n",
    "* That means, it makes more sense to add images from the classes with the highest parameters."
   ]
  },
  {
   "cell_type": "code",
   "execution_count": 103,
   "id": "1b75bc4c",
   "metadata": {},
   "outputs": [
    {
     "data": {
      "text/plain": [
       "{'a': -0.05191210171579242,\n",
       " 'b': 0.4044655786625687,\n",
       " 'c': 0.4710784061700931,\n",
       " 'plane': 0.5495182273577036,\n",
       " 'car': 0.45831723647849515,\n",
       " 'bird': 0.43726403657793766,\n",
       " 'cat': 0.2502507964254963,\n",
       " 'deer': 0.4440964197003873,\n",
       " 'dog': 0.40313995996222435,\n",
       " 'frog': 0.435620808965328,\n",
       " 'horse': 0.5524560895265281,\n",
       " 'ship': 0.33549315935715446,\n",
       " 'truck': 0.36835485079926,\n",
       " 'epochs_trained': 0.8813101181907371,\n",
       " 'epochs': 0.8813101181907371}"
      ]
     },
     "execution_count": 103,
     "metadata": {},
     "output_type": "execute_result"
    }
   ],
   "source": [
    "levels = list(results.columns)[2:-1]\n",
    "len(params)\n",
    "\n",
    "params_dict = {\"a\": params[0], \"b\": params[1], \"c\": params[2]}#, levels[0]:float, d1:float, d2:float, d3:float, d4:float, d5:float, d6:float, d7:float, d8:float, d9:float, d_epochs:float) \n",
    "for i in range(len(levels)):\n",
    "    params_dict[levels[i]] = params[i + 3]\n",
    "params_dict[\"epochs\"] = params[-1]\n",
    "params_dict"
   ]
  },
  {
   "cell_type": "code",
   "execution_count": 104,
   "id": "b6f00299",
   "metadata": {},
   "outputs": [
    {
     "data": {
      "image/png": "[encoded data removed]",
      "text/plain": [
       "<Figure size 432x288 with 1 Axes>"
      ]
     },
     "metadata": {
      "needs_background": "light"
     },
     "output_type": "display_data"
    },
    {
     "data": {
      "text/plain": [
       "0.8776119152506037"
      ]
     },
     "execution_count": 104,
     "metadata": {},
     "output_type": "execute_result"
    }
   ],
   "source": [
    "# dataframe for plotting:\n",
    "y_hat = func_powerlaw_exponent_epoch(xdata, params[0], params[1], params[2], params[3], params[4], params[5], params[6], params[7], params[8], params[9], params[10], params[11], params[12], params[13])\n",
    "results[\"accs_hat\"] = y_hat\n",
    "\n",
    "sns.scatterplot(data = results, x=\"accs\", y = \"accs_hat\", hue = \"epochs_trained\")\n",
    "plt.xlim((0.05, 0.9))\n",
    "plt.ylim((0.05, 0.9))\n",
    "plt.axline((0, 0), slope=1, color=\"black\", linestyle=(0, (5, 5)))\n",
    "plt.show()\n",
    "\n",
    "metrics.r2_score(results.accs, results.accs_hat)"
   ]
  },
  {
   "cell_type": "code",
   "execution_count": 111,
   "id": "18843153",
   "metadata": {},
   "outputs": [
    {
     "name": "stdout",
     "output_type": "stream",
     "text": [
      "[-9.99999935  0.03789509  9.63529054  4.09359236  2.04565563  1.70210697\n",
      "  1.62373228  0.93182625  1.66007155  1.5034354   1.6117244   2.06950381\n",
      "  1.26054007  1.35890937  3.3211364 ]\n",
      "25.709134715856976\n"
     ]
    },
    {
     "data": {
      "image/png": "[encoded data removed]",
      "text/plain": [
       "<Figure size 432x288 with 1 Axes>"
      ]
     },
     "metadata": {
      "needs_background": "light"
     },
     "output_type": "display_data"
    },
    {
     "name": "stdout",
     "output_type": "stream",
     "text": [
      "0.8781675457033827\n"
     ]
    }
   ],
   "source": [
    "def func_powerlaw_exponent_epoch(x, a: float, b: float, c: float, d_intercept:float, d0:float, d1:float, d2:float, d3:float, d4:float, d5:float, d6:float, d7:float, d8:float, d9:float, d_epochs:float) -> float:\n",
    "    x0 = x[0]\n",
    "    x1 = x[1]\n",
    "    x2 = x[2]\n",
    "    x3 = x[3]\n",
    "    x4 = x[4]\n",
    "    x5 = x[5]\n",
    "    x6 = x[6]\n",
    "    x7 = x[7]\n",
    "    x8 = x[8]\n",
    "    x9 = x[9]\n",
    "    epochs_trained = x[10]\n",
    "    #: float, x1:float, x2:float, x3:float, x4:float, x5:float, x6:float, x7:float, x8:float, x9:float\n",
    "    return a + ((d_intercept + d0*x0 + d1*x1 + d2*x2 + d3*x3 + d4*x4 + d5*x5 + d6*x6 + d7*x7 + d8*x8 + d9*x9 + d_epochs*epochs_trained)**b) * c\n",
    "\n",
    "p0 = np.random.uniform(low=-0, high=2, size = 15)\n",
    "\n",
    "try:\n",
    "    params, params_cov = curve_fit(func_powerlaw_exponent_epoch, xdata, y, maxfev=200000, p0=p0, bounds=(-10, 10))\n",
    "except:\n",
    "    print(\"did not converge\")\n",
    "\n",
    "print(params)\n",
    "y_hat = func_powerlaw_exponent_epoch(xdata, params[0], params[1], params[2], params[3], params[4], params[5], params[6], params[7], params[8], params[9], params[10], params[11], params[12], params[13], params[14])\n",
    "#results[\"accs_hat\"] = y_hat\n",
    "print(((y_hat - y)**2).sum())\n",
    "results[\"accs_hat_intercept\"] = y_hat\n",
    "sns.scatterplot(data = results, x=\"accs\", y = \"accs_hat_intercept\", hue = \"epochs_trained\")\n",
    "plt.xlim((0.05, 0.9))\n",
    "plt.ylim((0.05, 0.9))\n",
    "plt.axline((0, 0), slope=1, color=\"black\", linestyle=(0, (5, 5)))\n",
    "plt.show()\n",
    "print(metrics.r2_score(results.accs, results.accs_hat_intercept))\n",
    "\n",
    "#params, params_cov = curve_fit(func_powerlaw_exponent_epoch_2, xdata, y, maxfev=200000, p0=p0_2, bounds=(0, 2))\n"
   ]
  },
  {
   "cell_type": "code",
   "execution_count": null,
   "id": "479acf95",
   "metadata": {},
   "outputs": [],
   "source": [
    "#p0 = [0.1, 0.1, .1, .1, .1, .1, .1, .1, .1, .1, .1, .1, .1, 0.1]\n",
    "#p0_2 = [0.1, 0.1, 0.1, .1, .1, .1, .1, .1, .1, .1, .1, .1, .1, .1, .1]\n",
    "\n",
    "p0 = np.random.uniform(low=-0, high=2, size = 15)\n",
    "\n",
    "try:\n",
    "    params, params_cov = curve_fit(func_powerlaw_exponent_epoch, xdata, y, maxfev=200000, p0=p0, bounds=(-10, 10))\n",
    "    print(params)\n",
    "    y_hat = func_powerlaw_exponent_epoch(xdata, params[0], params[1], params[2], params[3], params[4], params[5], params[6], params[7], params[8], params[8], params[9], params[10], params[11], params[12])\n",
    "    #results[\"accs_hat\"] = y_hat\n",
    "    print(((y_hat - y)**2).sum())\n",
    "except:\n",
    "    print(\"did not converge\")\n",
    "#params, params_cov = curve_fit(func_powerlaw_exponent_epoch_2, xdata, y, maxfev=200000, p0=p0_2, bounds=(0, 2))\n",
    "\n"
   ]
  },
  {
   "attachments": {},
   "cell_type": "markdown",
   "id": "18cd6e0f",
   "metadata": {},
   "source": [
    "### Try out glm formula interface.\n",
    "\n",
    "* This would have the advantage that it is easy to try out different functions.\n",
    "* But the disadvantage is that it stays inside the boundaries of a glm."
   ]
  },
  {
   "cell_type": "code",
   "execution_count": null,
   "id": "8e372017",
   "metadata": {},
   "outputs": [],
   "source": []
  },
  {
   "cell_type": "code",
   "execution_count": null,
   "id": "c3e09666",
   "metadata": {},
   "outputs": [],
   "source": [
    "#formula = \"accs ~ plane + car + bird + cat + deer + dog + frog + horse + ship + truck + epochs_trained\"\n",
    "#formula = \"accs ~ plane + car + bird + cat + deer + dog + frog + horse + ship + truck + epochs_trained + plane*epochs_trained + car*epochs_trained + bird * epochs_trained + car*epochs_trained + deer*epochs_trained + dog*epochs_trained + frog*epochs_trained + horse * epochs_trained + ship*epochs_trained + truck * epochs_trained\"\n",
    "formula = \"accs ~ plane + car + bird + cat + deer + dog + frog + horse + ship + truck + epochs_trained + np.power(epochs_trained, 2)\"\n",
    "formula = \"accs ~ plane + car + bird + cat + deer + dog + frog + horse + ship + truck + epochs_trained + np.power(epochs_trained, 2) + I(plane + car + bird + cat + deer + dog + frog + horse + ship + truck) : epochs_trained\"\n",
    "formula\n"
   ]
  },
  {
   "cell_type": "code",
   "execution_count": null,
   "id": "9ae68956",
   "metadata": {},
   "outputs": [],
   "source": [
    "tmp = smf.glm(formula=formula, data=results, family=sm.families.Binomial()).fit()\n",
    "print(tmp.summary())\n",
    "tmp.fittedvalues"
   ]
  },
  {
   "cell_type": "code",
   "execution_count": null,
   "id": "4cc2b462",
   "metadata": {},
   "outputs": [],
   "source": [
    "results = pd.concat([pd.DataFrame({\"accs_hat_glm_form\": tmp.fittedvalues}), results], axis=1)\n",
    "results.head(2)"
   ]
  },
  {
   "cell_type": "code",
   "execution_count": null,
   "id": "38e52f42",
   "metadata": {},
   "outputs": [],
   "source": [
    "sns.scatterplot(data = results, x=\"accs\", y = \"accs_hat_glm_form\", hue = \"epochs_trained\")\n",
    "plt.xlim((0.05, 0.9))\n",
    "plt.ylim((0.05, 0.9))\n",
    "plt.axline((0, 0), slope=1, color=\"black\", linestyle=(0, (5, 5)))\n",
    "plt.show()\n",
    "\n",
    "metrics.r2_score(results.accs, results.accs_hat_glm_form)"
   ]
  },
  {
   "cell_type": "code",
   "execution_count": null,
   "id": "9e0b4d06",
   "metadata": {},
   "outputs": [],
   "source": [
    "results.head(2)"
   ]
  },
  {
   "cell_type": "code",
   "execution_count": null,
   "id": "e6890e8e",
   "metadata": {},
   "outputs": [],
   "source": [
    "features_wo_epoch = [\"plane\", \"car\", \"bird\", \"cat\", \"deer\", \"dog\", \"frog\", \"horse\", \"ship\", \"truck\"]\n",
    "features = [\"plane\", \"car\", \"bird\", \"cat\", \"deer\", \"dog\", \"frog\", \"horse\", \"ship\", \"truck\", \"epochs_trained\"]\n"
   ]
  },
  {
   "cell_type": "code",
   "execution_count": null,
   "id": "ab357513",
   "metadata": {},
   "outputs": [],
   "source": [
    "#data_exog = sm.add_constant(results.iloc[:,1:(-1)], prepend=False)\n",
    "data_exog = sm.add_constant(results[features], prepend=False)\n",
    "\n",
    "data_exog.head(2)\n",
    "data_endog = results.accs\n",
    "glm_binom = sm.GLM(data_endog, data_exog, family=sm.families.Binomial())\n",
    "res = glm_binom.fit()\n",
    "print(res.summary())"
   ]
  },
  {
   "cell_type": "code",
   "execution_count": null,
   "id": "279c5151",
   "metadata": {},
   "outputs": [],
   "source": [
    "#glm = pd.concat([])\n",
    "results = pd.concat([pd.DataFrame({\"accs_hat_glm\": res.fittedvalues}), results], axis=1)\n",
    "results.head(2)"
   ]
  },
  {
   "cell_type": "code",
   "execution_count": null,
   "id": "c5665c9d",
   "metadata": {},
   "outputs": [],
   "source": [
    "\n",
    "sns.scatterplot(data = results, x=\"accs\", y = \"accs_hat_glm\", hue = \"epochs_trained\")\n",
    "plt.xlim((0.05, 0.9))\n",
    "plt.ylim((0.05, 0.9))\n",
    "plt.axline((0, 0), slope=1, color=\"black\", linestyle=(0, (5, 5)))\n",
    "plt.show()\n",
    "\n",
    "metrics.r2_score(results.accs, results.accs_hat_glm)"
   ]
  },
  {
   "cell_type": "code",
   "execution_count": null,
   "id": "e4e8d7a2",
   "metadata": {},
   "outputs": [],
   "source": []
  },
  {
   "attachments": {},
   "cell_type": "markdown",
   "id": "e8c102a8",
   "metadata": {},
   "source": [
    "### Doing some other attempts to find good fits\n",
    "\n",
    "* Using transformations."
   ]
  },
  {
   "cell_type": "code",
   "execution_count": null,
   "id": "8c44bdd7",
   "metadata": {},
   "outputs": [],
   "source": [
    "# dataframe for plotting:\n",
    "y_hat = func_powerlaw_exponent_epoch(xdata, params[0], params[1], params[2], params[3], params[4], params[5], params[6], params[7], params[8], params[8], params[9], params[10], params[11], params[12])\n",
    "results[\"accs_hat\"] = y_hat\n",
    "\n",
    "sns.scatterplot(data = results, x=\"accs\", y = \"accs_hat\", hue = \"epochs_trained\")\n",
    "plt.xlim((0.05, 0.9))\n",
    "plt.ylim((0.05, 0.9))\n",
    "plt.axline((0, 0), slope=1, color=\"black\", linestyle=(0, (5, 5)))\n",
    "plt.show()\n",
    "\n",
    "metrics.r2_score(results.accs, results.accs_hat)"
   ]
  },
  {
   "cell_type": "code",
   "execution_count": null,
   "id": "20c9f17c",
   "metadata": {},
   "outputs": [],
   "source": [
    "lr = linear_model.LogisticRegression()\n",
    "print(np.transpose(xdata).shape)\n",
    "print(y.shape)\n",
    "pd.Series(y)\n",
    "#lr.fit(X=np.transpose(xdata), y=pd.Series(y))\n",
    "# hm, transform y's to -inf, inf and use standard linear regression.\n",
    "y_tan = np.tan(np.pi*(y - 1/2))\n",
    "y_phi = stats.norm().ppf(y)\n",
    "\n",
    "lr_tan = linear_model.LinearRegression()\n",
    "lr_tan.fit(X=np.transpose(xdata), y=y_tan)\n",
    "y_tan_hat = lr_tan.predict(np.transpose(xdata))\n",
    "\n",
    "lr_phi = linear_model.LinearRegression()\n",
    "lr_phi.fit(X=np.transpose(xdata), y=y_phi)\n",
    "y_phi_hat = lr_phi.predict(np.transpose(xdata))\n",
    "y_hat_phi = stats.norm.pdf(y_phi_hat)\n",
    "plt.scatter(y_phi, y_phi_hat)\n",
    "plt.axline((0, 0), slope=1, color=\"black\", linestyle=(0, (5, 5)))\n",
    "plt.show()\n",
    "plt.scatter(y, y_hat_phi)\n",
    "plt.axline((0, 0), slope=1, color=\"black\", linestyle=(0, (5, 5)))\n",
    "plt.show()\n",
    "\n",
    "plt.scatter(y_tan, y_tan_hat)\n",
    "plt.axline((0, 0), slope=1, color=\"black\", linestyle=(0, (5, 5)))\n",
    "plt.show()"
   ]
  },
  {
   "attachments": {},
   "cell_type": "markdown",
   "id": "de009d9a",
   "metadata": {},
   "source": [
    "The fit is here still to be improved. Especially the effect of the epochs is not captured well by the prediction function."
   ]
  },
  {
   "attachments": {},
   "cell_type": "markdown",
   "id": "5207fd01",
   "metadata": {},
   "source": [
    "### Restrict all data to the same epoch:"
   ]
  },
  {
   "cell_type": "code",
   "execution_count": null,
   "id": "10cbac26",
   "metadata": {},
   "outputs": [],
   "source": [
    "# do the same without epoch:\n",
    "mask = results.epochs_trained == 1\n",
    "results_final_epoch = results[mask][[\"accs\"] + features_wo_epoch].reset_index(drop=True)\n",
    "#results_final_epoch.head(2)\n",
    "xdata = np.transpose(results_final_epoch.to_numpy()[:, 1:])\n",
    "y = results_final_epoch.to_numpy()[:, 0]\n",
    "#xdata.shape\n"
   ]
  },
  {
   "cell_type": "code",
   "execution_count": null,
   "id": "f47adc14",
   "metadata": {},
   "outputs": [],
   "source": [
    "p0 = [0.1, 0.1, .1, .1, .1, .1, .1, .1, .1, .1, .1, .1, .1]\n",
    "params, params_cov = curve_fit(func_powerlaw_exponent,\n",
    "                                xdata,\n",
    "                                y,\n",
    "                                maxfev=200000,\n",
    "                                p0=p0,\n",
    "                                bounds=(0, 4))"
   ]
  },
  {
   "cell_type": "code",
   "execution_count": null,
   "id": "80968c26",
   "metadata": {},
   "outputs": [],
   "source": [
    "params"
   ]
  },
  {
   "cell_type": "code",
   "execution_count": null,
   "id": "58b36115",
   "metadata": {},
   "outputs": [],
   "source": [
    "y_hat = func_powerlaw_exponent(xdata, params[0], params[1], params[2], params[3], params[4], params[5], params[6], params[7], params[8], params[8], params[9], params[10], params[11])\n",
    "results_final_epoch[\"accs_hat\"] = y_hat\n",
    "\n",
    "sns.scatterplot(data=results_final_epoch, x=\"accs\", y = \"accs_hat\")\n",
    "plt.xlim((0.2, 0.9))\n",
    "plt.ylim((0.2, 0.9))\n",
    "plt.axline((0, 0), slope=1, color=\"black\", linestyle=(0, (5, 5)))\n",
    "plt.show()\n",
    "\n",
    "metrics.r2_score(results_final_epoch.accs, results_final_epoch.accs_hat)"
   ]
  },
  {
   "attachments": {},
   "cell_type": "markdown",
   "id": "8c8e2b00",
   "metadata": {},
   "source": [
    "* Fitting to the data coming from the same no. of epochs yields a much better prediction."
   ]
  },
  {
   "attachments": {},
   "cell_type": "markdown",
   "id": "abbfcc16",
   "metadata": {},
   "source": [
    "# Notebook junkyard:"
   ]
  },
  {
   "attachments": {},
   "cell_type": "markdown",
   "id": "693947bc",
   "metadata": {},
   "source": [
    "### experiment with maximin optimization on constrained simplex mixture designs."
   ]
  },
  {
   "cell_type": "code",
   "execution_count": null,
   "id": "fe7f0925",
   "metadata": {},
   "outputs": [],
   "source": [
    "from dexpy.samplers import uniform_simplex_sample\n",
    "from scipy import spatial\n",
    "import matplotlib.pyplot as plt\n",
    "import numpy as np"
   ]
  },
  {
   "cell_type": "code",
   "execution_count": null,
   "id": "1c0bd563",
   "metadata": {},
   "outputs": [],
   "source": [
    "def create_constrained_mixture_design(d, n, n_sum, c_max, n_optim):\n",
    "    \"\"\"a version using point wise generation and point wise replacement.\"\"\"\n",
    "    #d = 4\n",
    "    #n = 20\n",
    "    #n_optim = 1000\n",
    "    #n_sum = 10000\n",
    "    #c_max = 5000\n",
    "    n_sample = 0\n",
    "    # create a first doe\n",
    "    while n_sample < n:\n",
    "        candidate = uniform_simplex_sample(1, d) \n",
    "        candidate_scaled = candidate * n_sum\n",
    "        if (candidate_scaled > c_max).sum() == 0:\n",
    "            if n_sample == 0:\n",
    "                doe_best = candidate\n",
    "                doe_best_scaled = candidate_scaled\n",
    "                n_sample += 1\n",
    "            else:\n",
    "                doe_best = np.append(doe_best, candidate, axis = 0)\n",
    "                doe_best_scaled = np.append(doe_best_scaled, candidate_scaled, axis = 0)\n",
    "                n_sample += 1\n",
    "    Mm = 0\n",
    "    # improve the doe iteratively:\n",
    "    for i in range(n_optim):\n",
    "        candidate = doe_best\n",
    "        candidate_scaled = doe_best_scaled\n",
    "        dm = spatial.distance_matrix(candidate, candidate)\n",
    "        np.fill_diagonal(dm, 20)\n",
    "        dm_argmin = dm.min(axis=1).argmin()\n",
    "        n_sample = 0\n",
    "        while n_sample == 0:\n",
    "            candidate_row = uniform_simplex_sample(1, d)\n",
    "            candidate_row_scaled = candidate_row * n_sum\n",
    "            if (candidate_row_scaled > c_max).sum() == 0:\n",
    "                n_sample = 1\n",
    "        candidate[dm_argmin,:] = candidate_row\n",
    "        candidate_scaled[dm_argmin,:] = candidate_row_scaled\n",
    "        if dm.min() > Mm:\n",
    "            print(dm.min(), i)\n",
    "            doe_best = candidate\n",
    "            doe_best_scaled = candidate_scaled\n",
    "            dm_best = dm\n",
    "            Mm = dm.min()\n",
    "    return np.round(doe_best_scaled)\n"
   ]
  },
  {
   "cell_type": "code",
   "execution_count": null,
   "id": "abfceb7e",
   "metadata": {},
   "outputs": [],
   "source": [
    "def uniform_simplex_sample(N, q, clip=None):\n",
    "    \"\"\"Returns an array of points sampled uniformly from a simplex\n",
    "\n",
    "    :param N: the number of random sample to be generated\n",
    "    :param q: the dimension of the simplex\n",
    "    \"\"\"\n",
    "    sample = np.random.exponential(1.0, (N, q))\n",
    "    if clip is not None:\n",
    "        sample = np.clip(sample, 0, clip)\n",
    "    row_sums = sample.sum(axis=1)\n",
    "    sample = sample / row_sums[:, np.newaxis]\n",
    "    return sample\n",
    "\n"
   ]
  },
  {
   "cell_type": "code",
   "execution_count": null,
   "id": "63800380",
   "metadata": {},
   "outputs": [],
   "source": [
    "def uniform_simplex_sample(N, q, clip=None):\n",
    "    \"\"\"Returns an array of points sampled uniformly from a simplex\n",
    "\n",
    "    :param N: the number of random sample to be generated\n",
    "    :param q: the dimension of the simplex\n",
    "    \"\"\"\n",
    "    sample = np.random.exponential(1.0, (N, q))\n",
    "    if clip is not None:\n",
    "        sample = np.clip(sample, 0, clip)\n",
    "    row_sums = sample.sum(axis=1)\n",
    "    sample = sample / row_sums[:, np.newaxis]\n",
    "    return sample\n",
    "\n",
    "def create_constrained_mixture_design(d, n, n_sum, c_max, n_optim, n_batch_size):\n",
    "    \"\"\"a version doing batch wise candidate generation and pointwise replacement.\"\"\"\n",
    "    #d = 4\n",
    "    #n = 20\n",
    "    #n_optim = 1000\n",
    "    #n_sum = 10000\n",
    "    #c_max = 5000\n",
    "    #n_batch_size = 10000\n",
    "    n_sample = 0\n",
    "    # create a first doe\n",
    "    clip = None\n",
    "    loop_no = 0\n",
    "    while n_sample < n:\n",
    "        candidate = uniform_simplex_sample(n_batch_size, d, clip=clip) \n",
    "        candidate_scaled = candidate * n_sum\n",
    "        # kick out non-acceptable rows:\n",
    "        matches = np.where((candidate_scaled <= c_max).sum(axis=1) == d)[0]\n",
    "        if matches.shape[0] > 0:\n",
    "            candidate = candidate[matches,:]\n",
    "            candidate_scaled = candidate_scaled[matches,:]\n",
    "            if n_sample == 0:\n",
    "                if candidate.shape[0] <= n:\n",
    "                    doe_best = candidate\n",
    "                    doe_best_scaled = candidate_scaled\n",
    "                else:\n",
    "                    doe_best = candidate[:n,:]\n",
    "                    doe_best_scaled = candidate_scaled[:n,:]\n",
    "                n_sample = doe_best.shape[0]\n",
    "            else:\n",
    "                doe_best = np.append(doe_best, candidate, axis = 0)\n",
    "                doe_best_scaled = np.append(doe_best_scaled, candidate_scaled, axis=0)\n",
    "                n_sample = doe_best.shape[0]\n",
    "        else:\n",
    "            if loop_no == 0:\n",
    "                clip = 10\n",
    "                loop_no += 1\n",
    "            clip = clip * 0.9\n",
    "            print(f\"clip = {clip}\")\n",
    "\n",
    "        # reduce if oversampled:\n",
    "    if n_sample > n:\n",
    "        doe_best = doe_best[:n, :]\n",
    "        doe_best_scaled = doe_best_scaled[:n, :]\n",
    "    #    (candidate_scaled <= c_max)\n",
    "    #    if (candidate_scaled > c_max).sum() == 0:\n",
    "    #        if n_sample == 0:\n",
    "    #            doe_best = candidate\n",
    "    #            doe_best_scaled = candidate_scaled\n",
    "    #            n_sample += 1\n",
    "    #        else:\n",
    "    #            doe_best = np.append(doe_best, candidate, axis = 0)\n",
    "    #            doe_best_scaled = np.append(doe_best_scaled, candidate_scaled, axis = 0)\n",
    "    #            n_sample += 1\n",
    "    Mm = 0\n",
    "    # improve the doe iteratively:\n",
    "    for i in range(n_optim):\n",
    "        candidate = doe_best\n",
    "        candidate_scaled = doe_best_scaled\n",
    "        dm = spatial.distance_matrix(candidate, candidate)\n",
    "        np.fill_diagonal(dm, 20)\n",
    "        dm_argmin = dm.min(axis=1).argmin()\n",
    "        n_sample = 0\n",
    "        while n_sample == 0:\n",
    "            candidate_rows = uniform_simplex_sample(n_batch_size, d, clip=clip) \n",
    "            candidate_rows_scaled = candidate_rows * n_sum\n",
    "            # kick out non-acceptable rows:\n",
    "            matches = np.where((candidate_rows_scaled <= c_max).sum(axis=1) == d)[0]\n",
    "            if matches.shape[0] > 0:\n",
    "                n_sample = 1\n",
    "                # in this point wise exchange algo we only need one point:\n",
    "                candidate_row = candidate_rows[matches[0]]\n",
    "                candidate_row_scaled = candidate_rows_scaled[matches[0]]\n",
    "            else:\n",
    "                if loop_no == 0:\n",
    "                    clip = 10\n",
    "                    loop_no += 1\n",
    "                clip = clip * 0.95\n",
    "                print(f\"clip = {clip}\")\n",
    "        candidate[dm_argmin,:] = candidate_row\n",
    "        candidate_scaled[dm_argmin,:] = candidate_row_scaled\n",
    "        if dm.min() > Mm:\n",
    "            print(dm.min(), i)\n",
    "            doe_best = candidate\n",
    "            doe_best_scaled = candidate_scaled\n",
    "            dm_best = dm\n",
    "            Mm = dm.min()\n",
    "    return np.round(doe_best_scaled)\n"
   ]
  },
  {
   "cell_type": "code",
   "execution_count": null,
   "id": "8fe354f9",
   "metadata": {},
   "outputs": [],
   "source": [
    "#doe = create_constrained_mixture_design(d=10, n=20, n_sum=48000, c_max=5000, n_optim=1000, n_batch_size=100000)\n"
   ]
  }
 ],
 "metadata": {
  "kernelspec": {
   "display_name": "Python 3.8.10 64-bit ('venv_events_3810')",
   "language": "python",
   "name": "python3"
  },
  "language_info": {
   "codemirror_mode": {
    "name": "ipython",
    "version": 3
   },
   "file_extension": ".py",
   "mimetype": "text/x-python",
   "name": "python",
   "nbconvert_exporter": "python",
   "pygments_lexer": "ipython3",
   "version": "3.8.10"
  },
  "vscode": {
   "interpreter": {
    "hash": "c9bcba196a01498016ccd64548f4c665ee450ddca7e9d0b8c7efd8e8a933354c"
   }
  }
 },
 "nbformat": 4,
 "nbformat_minor": 5
}
